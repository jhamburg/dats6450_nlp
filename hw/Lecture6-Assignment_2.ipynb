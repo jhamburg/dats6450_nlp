{
 "cells": [
  {
   "cell_type": "code",
   "execution_count": 1,
   "metadata": {},
   "outputs": [
    {
     "data": {
      "application/javascript": [
       "IPython.notebook.set_autosave_interval(0)"
      ]
     },
     "metadata": {},
     "output_type": "display_data"
    },
    {
     "name": "stdout",
     "output_type": "stream",
     "text": [
      "Autosave disabled\n"
     ]
    }
   ],
   "source": [
    "%autosave 0"
   ]
  },
  {
   "cell_type": "markdown",
   "metadata": {},
   "source": [
    "## Assignment 2 - Movie Classification, the sequel\n",
    "![](https://images-na.ssl-images-amazon.com/images/S/sgp-catalog-images/region_US/paramount-01376-Full-Image_GalleryBackground-en-US-1484000188762._RI_SX940_.jpg)\n",
    "\n",
    "\n",
    "#### In this assignment, we will learn a little more about word2vec and then use the resulting vectors to make some predictions.\n",
    "\n",
    "We will be working with a movie synopsis dataset, found here: http://www.cs.cmu.edu/~ark/personas/\n",
    "\n",
    "The overall goal should sound a little familiar - based on the movie synopses, we will classify movie genre. Some of your favorites should be in this dataset, and hopefully, based on the genre specific terminology of the movie synopses, we will be able to figure out which movies are which type."
   ]
  },
  {
   "cell_type": "markdown",
   "metadata": {},
   "source": [
    "### Task 1: clean your dataset!\n",
    "\n",
    "For your input data:\n",
    "\n",
    "1. Find the top 10 movie genres\n",
    "2. Remove any synopses that don't fit into these genres\n",
    "3. Take the top 10,000 reviews in terms of \"Movie box office revenue\"\n",
    "\n",
    "Congrats, you've got a dataset! For each movie, some of them may have multiple classifications. To deal with this, you'll have to look at the Reuters dataset classification code that we used previously and possibly this example: https://github.com/keras-team/keras/blob/master/examples/reuters_mlp.py\n",
    "\n",
    "We want to use categorical cross-entropy as our loss function (or a one vs. all classifier in the case of SVM) because our data will potentially have multiple classes!"
   ]
  },
  {
   "cell_type": "code",
   "execution_count": 2,
   "metadata": {},
   "outputs": [
    {
     "name": "stderr",
     "output_type": "stream",
     "text": [
      "C:\\Users\\Hamburg\\Anaconda3\\envs\\tensorflow2\\lib\\site-packages\\gensim\\utils.py:860: UserWarning: detected Windows; aliasing chunkize to chunkize_serial\n",
      "  warnings.warn(\"detected Windows; aliasing chunkize to chunkize_serial\")\n",
      "C:\\Users\\Hamburg\\Anaconda3\\envs\\tensorflow2\\lib\\site-packages\\h5py\\__init__.py:36: FutureWarning: Conversion of the second argument of issubdtype from `float` to `np.floating` is deprecated. In future, it will be treated as `np.float64 == np.dtype(float).type`.\n",
      "  from ._conv import register_converters as _register_converters\n",
      "Using TensorFlow backend.\n"
     ]
    }
   ],
   "source": [
    "import pandas as pd\n",
    "import numpy as np\n",
    "import re\n",
    "from sklearn.model_selection import train_test_split\n",
    "from sklearn.preprocessing import MultiLabelBinarizer\n",
    "from sklearn.multioutput import MultiOutputClassifier\n",
    "from sklearn.multiclass import OneVsRestClassifier\n",
    "from sklearn.svm import SVC, LinearSVC\n",
    "from sklearn.pipeline import Pipeline\n",
    "from sklearn import metrics\n",
    "import gensim\n",
    "import word2vec\n",
    "\n",
    "import keras\n",
    "from keras.preprocessing.text import Tokenizer\n",
    "from keras.preprocessing.sequence import pad_sequences\n",
    "from keras.models import Sequential\n",
    "from keras.layers.core import Dense, Activation, Dropout\n",
    "from keras.layers import Flatten\n",
    "from keras.layers import Embedding\n",
    "from keras.layers import LSTM\n",
    "from keras.regularizers import l2"
   ]
  },
  {
   "cell_type": "code",
   "execution_count": 3,
   "metadata": {},
   "outputs": [],
   "source": [
    "dataPath = '../data/MovieSummaries/'\n",
    "movieHeader = ['wikiID', 'freebaseID', 'name', 'releaseDate', 'revenue',\n",
    "               'runtime', 'languages', 'countries', 'genres']\n",
    "movieDat = pd.read_csv(dataPath + 'movie.metadata.tsv', delimiter = '\\t',\n",
    "                      header = None, names = movieHeader)\n",
    "synopsisDat = pd.read_csv(dataPath + 'plot_summaries.txt', delimiter = '\\t',\n",
    "                      header = None, names = ['wikiID', 'synopsis'])"
   ]
  },
  {
   "cell_type": "code",
   "execution_count": 4,
   "metadata": {},
   "outputs": [],
   "source": [
    "# To find top genres, will split the genres into their own columns\n",
    "# since one move can be multiple genres and then sum those columns\n",
    "# to find the max 10\n",
    "\n",
    "### Step 1 -- Convert Genres into a list of genres\n",
    "def cleanGenres(genreDat):\n",
    "    clean = [re.findall(r'\"\\S+\": \"(.+)\"', x) for x in genreDat.split(',')]\n",
    "    return [item for sublist in clean for item in sublist]\n",
    "    \n",
    "movieDat['genres_clean'] = movieDat.genres.apply(cleanGenres)\n",
    "\n",
    "### Step 2 --- \"One Hot Encode\" that list and then join back\n",
    "mlb = MultiLabelBinarizer()\n",
    "movieDat = movieDat.join(pd.DataFrame(mlb.fit_transform(movieDat['genres_clean']),\n",
    "                          columns=mlb.classes_,\n",
    "                          index=movieDat.index))\n",
    "\n",
    "### Step 3 --- Find genres with the largest sums\n",
    "idCols = movieHeader.copy()\n",
    "idCols.extend(['genres_clean'])\n",
    "genreCols = movieDat.columns.difference(idCols)\n",
    "topGenres = movieDat.loc[:, genreCols].sum().nlargest(10).index"
   ]
  },
  {
   "cell_type": "code",
   "execution_count": 5,
   "metadata": {},
   "outputs": [],
   "source": [
    "# Now filter dataset to those that contain these genres and take top 10,000 highest grossing\n",
    "movieDat['topGenresOnly'] = movieDat['genres_clean'].apply(lambda x: set(x).intersection(topGenres))\n",
    "containsGenreBool = movieDat['genres_clean'].apply(any)\n",
    "movies = movieDat.loc[(containsGenreBool) & movieDat['revenue'].notnull()]\n",
    "movies = movies.sort_values('revenue', ascending=False)\n",
    "# finalDat = movies.merge(synopsisDat, how = 'inner', on='wikiID').iloc[:10000]\n",
    "finalDat = movies.merge(synopsisDat, how = 'inner', on='wikiID')\n",
    "\n",
    "\n",
    "# Split into X and y and preprocess\n",
    "X = np.array(finalDat['synopsis'].apply(gensim.utils.simple_preprocess))\n",
    "y = np.array(finalDat['topGenresOnly'])\n",
    "\n",
    "all_words = set(w for words in X for w in words)\n",
    "vocab_size = len(all_words)\n",
    "embed_size = 200"
   ]
  },
  {
   "cell_type": "code",
   "execution_count": 6,
   "metadata": {},
   "outputs": [],
   "source": [
    "# For use in keras NN\n",
    "MAX_SEQUENCE_LENGTH = 1000\n",
    "MAX_NUM_WORDS = 30000\n",
    "batch_size = 32\n",
    "\n",
    "tokenizer = Tokenizer(num_words=MAX_NUM_WORDS)\n",
    "tokenizer.fit_on_texts(finalDat['synopsis'])\n",
    "seq = tokenizer.texts_to_sequences(finalDat['synopsis'])\n",
    "word_index = tokenizer.word_index\n",
    "\n",
    "# Cut down to the top X words\n",
    "index_word = {v: k for k, v in word_index.items() if v < (MAX_NUM_WORDS + 1)}"
   ]
  },
  {
   "cell_type": "markdown",
   "metadata": {},
   "source": [
    "### Task 2: Split the data\n",
    "\n",
    "Make a dataset of 70% train and 30% test. Sweet."
   ]
  },
  {
   "cell_type": "code",
   "execution_count": 7,
   "metadata": {},
   "outputs": [],
   "source": [
    "X_train, X_test, y_train, y_test = train_test_split(X, y, test_size = .30, random_state=10)"
   ]
  },
  {
   "cell_type": "code",
   "execution_count": 8,
   "metadata": {},
   "outputs": [],
   "source": [
    "mlb2 = MultiLabelBinarizer()\n",
    "train_labels = mlb2.fit_transform(y_train)\n",
    "test_labels = mlb2.transform(y_test)\n",
    "\n",
    "# x_train = pad_sequences(X_train, maxlen=maxlen, padding='post')\n",
    "# x_test = pad_sequences(X_test, maxlen=maxlen, padding='post')"
   ]
  },
  {
   "cell_type": "markdown",
   "metadata": {},
   "source": [
    "### Task 3a: Build a model using ONLY word2vec\n",
    "\n",
    "Woah what? I don't think that's recommended...\n",
    "\n",
    "In fact it's a commonly accepted practice. What you will want to do is average the word vectors that will be input for a given synopsis (https://docs.scipy.org/doc/numpy/reference/generated/numpy.mean.html) and then input that averaged vector as your feature space into a model. For this example, use a Support Vector Machine classifier. For your first time doing this, train a model in Gensim and use the output vectors.\n"
   ]
  },
  {
   "cell_type": "code",
   "execution_count": 9,
   "metadata": {},
   "outputs": [],
   "source": [
    "# Need to convert X_train and X_test to matrix of values by\n",
    "# substituting each word to get its mean embedded score\n",
    "\n",
    "def convert_word_mat_to_mean_embed(word_mat, w2v):\n",
    "    dim = len(next(iter(w2v.values())))\n",
    "    return np.array([np.mean([w2v[w] for w in words if w in w2v]\n",
    "                             or [np.zeros(dim)], axis=0)\n",
    "                     for words in word_mat])"
   ]
  },
  {
   "cell_type": "code",
   "execution_count": 10,
   "metadata": {},
   "outputs": [],
   "source": [
    "def runMod(mod, gensim_model):\n",
    "    w2embed = {w: vec for w, vec in zip(gensim_model.wv.index2word, \n",
    "                                    gensim_model.wv.syn0)}\n",
    "    clf = OneVsRestClassifier(mod(random_state=10))\n",
    "    train_x = convert_word_mat_to_mean_embed(X_train, w2embed)\n",
    "    clf.fit(train_x, train_labels)\n",
    "    \n",
    "    test_x = convert_word_mat_to_mean_embed(X_test, w2embed)\n",
    "    preds = clf.predict(test_x)\n",
    "    acc = metrics.accuracy_score(test_labels, preds)\n",
    "    return (clf, acc)"
   ]
  },
  {
   "cell_type": "code",
   "execution_count": 11,
   "metadata": {},
   "outputs": [
    {
     "data": {
      "text/plain": [
       "0"
      ]
     },
     "execution_count": 11,
     "metadata": {},
     "output_type": "execute_result"
    }
   ],
   "source": [
    "model_user = gensim.models.Word2Vec(X_train, size=embed_size, \n",
    "                                window=5, min_count=5, workers=-1)\n",
    "model_user.train(X_train,total_examples=len(X_train),epochs=10)"
   ]
  },
  {
   "cell_type": "code",
   "execution_count": 12,
   "metadata": {},
   "outputs": [],
   "source": [
    "svc_user = runMod(LinearSVC, model_user)"
   ]
  },
  {
   "cell_type": "markdown",
   "metadata": {},
   "source": [
    "### Task 3b: Do the same thing but with pretrained embeddings\n",
    "\n",
    "Now pull down the Google News word embeddings and do the same thing. Compare the results. Why was one better than the other?"
   ]
  },
  {
   "cell_type": "code",
   "execution_count": 13,
   "metadata": {},
   "outputs": [],
   "source": [
    "model_w2v = gensim.models.KeyedVectors.load_word2vec_format('../data/GoogleNews-vectors-negative300.bin.gz', binary=True)"
   ]
  },
  {
   "cell_type": "code",
   "execution_count": 14,
   "metadata": {},
   "outputs": [],
   "source": [
    "svc_w2v = runMod(LinearSVC, model_w2v)"
   ]
  },
  {
   "cell_type": "code",
   "execution_count": 15,
   "metadata": {},
   "outputs": [
    {
     "name": "stdout",
     "output_type": "stream",
     "text": [
      "Accuracy of SVC User: 0.09538461538461539\n",
      "Accuracy of SVC W2V: 0.21142857142857144\n"
     ]
    }
   ],
   "source": [
    "print('Accuracy of SVC User: {}'.format(svc_user[1]))\n",
    "print('Accuracy of SVC W2V: {}'.format(svc_w2v[1]))"
   ]
  },
  {
   "cell_type": "markdown",
   "metadata": {},
   "source": [
    "The Google Word2Vec model is about double as good as the trained model, most likely due to the fact that it was trained on a bigger corpus. That bigger corpus is more likely to include sequences of data that are found in the test data that may not be in the training data.  \n",
    "\n",
    "That being said, neither model does well in classying genres..."
   ]
  },
  {
   "cell_type": "markdown",
   "metadata": {},
   "source": [
    "### Task 4: Build a neural net model using word2vec embeddings (both pretrained and within an Embedding layer from Keras)"
   ]
  },
  {
   "cell_type": "code",
   "execution_count": 16,
   "metadata": {},
   "outputs": [],
   "source": [
    "def create_int_word_dict(model):\n",
    "    mapdict = {}\n",
    "    for i in range(len(model.wv.vocab)):\n",
    "        word = model.wv.index2word[i]\n",
    "        mapdict[word] = i\n",
    "    return mapdict"
   ]
  },
  {
   "cell_type": "code",
   "execution_count": 17,
   "metadata": {},
   "outputs": [],
   "source": [
    "def create_embed_matrix(model, all_words=all_words, embed_size=embed_size):\n",
    "    \"Create a weight matrix for words\"\n",
    "    vocab_size = len(all_words)\n",
    "    embedding_matrix = np.zeros((vocab_size, embed_size))\n",
    "    n = 0\n",
    "    word_list = list(all_words)\n",
    "    for i in range(vocab_size):\n",
    "        word = word_list[i]\n",
    "        if word in model.wv.vocab:\n",
    "            embedding_vector = model.wv[word]\n",
    "            if embedding_vector is not None:\n",
    "                embedding_matrix[n] = embedding_vector[:embed_size]\n",
    "                n += 1\n",
    "\n",
    "    return embedding_matrix[:n, :]\n"
   ]
  },
  {
   "cell_type": "code",
   "execution_count": 18,
   "metadata": {},
   "outputs": [],
   "source": [
    "# Convert X datasets from words to numbers\n",
    "def convert_word_to_num(word_mat, max_len = MAX_SEQUENCE_LENGTH):\n",
    "    new_mat = []\n",
    "    for review in word_mat:\n",
    "        tmp = []\n",
    "        for w in review:\n",
    "            if w in word_index:\n",
    "                tmp.append(word_index[w])\n",
    "\n",
    "            else:\n",
    "                tmp.append(0)\n",
    "        new_mat.append(tmp)\n",
    "\n",
    "    return pad_sequences(new_mat, padding='post', maxlen=max_len)    "
   ]
  },
  {
   "cell_type": "code",
   "execution_count": 19,
   "metadata": {},
   "outputs": [],
   "source": [
    "x_train = convert_word_to_num(X_train)\n",
    "x_test = convert_word_to_num(X_test, max_len=x_train.shape[1])"
   ]
  },
  {
   "cell_type": "code",
   "execution_count": 20,
   "metadata": {},
   "outputs": [],
   "source": [
    "def run_keras_model1(gensim_model, batch_size=batch_size, \n",
    "                     create_emebed_mat = False):\n",
    "    \n",
    "    # For embedding layer\n",
    "    if create_emebed_mat:\n",
    "        embed_matrix = create_embed_matrix(gensim_model)\n",
    "        e = Embedding(embed_matrix.shape[0], embed_matrix.shape[1],\n",
    "                      weights=[embed_matrix],\n",
    "                     input_length=x_train.shape[1], trainable=False)\n",
    "    else:\n",
    "        e = gensim_model.wv.get_keras_embedding()\n",
    "        e.input_length = x_train.shape[1]    \n",
    "    \n",
    "    # define model\n",
    "    print('Build model...')\n",
    "    keras_mod = Sequential()\n",
    "    # e = Embedding(vocab_size, embed_size, weights=[embed_matrix], \n",
    "    #               input_length=maxlen, trainable=False)\n",
    "    keras_mod.add(e)\n",
    "    keras_mod.add(Flatten())\n",
    "    keras_mod.add(Dense(10, activation='softmax'))\n",
    "    # compile the model\n",
    "    keras_mod.compile(optimizer='adam', loss='categorical_crossentropy',\n",
    "                      metrics=['acc'])\n",
    "    # summarize the model\n",
    "    print(keras_mod.summary())\n",
    "    # fit the model\n",
    "    keras_mod.fit(x_train, train_labels,\n",
    "              batch_size=batch_size,\n",
    "              epochs=5,\n",
    "              validation_data=(x_test, test_labels))\n",
    "\n",
    "    score, acc = keras_mod.evaluate(x_test, test_labels,\n",
    "                                batch_size=batch_size)\n",
    "    return (keras_mod, acc)    "
   ]
  },
  {
   "cell_type": "code",
   "execution_count": 21,
   "metadata": {},
   "outputs": [
    {
     "name": "stdout",
     "output_type": "stream",
     "text": [
      "Build model...\n",
      "_________________________________________________________________\n",
      "Layer (type)                 Output Shape              Param #   \n",
      "=================================================================\n",
      "embedding_1 (Embedding)      (None, 1000, 200)         4747800   \n",
      "_________________________________________________________________\n",
      "flatten_1 (Flatten)          (None, 200000)            0         \n",
      "_________________________________________________________________\n",
      "dense_1 (Dense)              (None, 10)                2000010   \n",
      "=================================================================\n",
      "Total params: 6,747,810\n",
      "Trainable params: 2,000,010\n",
      "Non-trainable params: 4,747,800\n",
      "_________________________________________________________________\n",
      "None\n",
      "Train on 5308 samples, validate on 2275 samples\n",
      "Epoch 1/5\n",
      "5308/5308 [==============================] - 5s 945us/step - loss: 4.0887 - acc: 0.2349 - val_loss: 3.9832 - val_acc: 0.2369\n",
      "Epoch 2/5\n",
      "5308/5308 [==============================] - 5s 860us/step - loss: 3.9401 - acc: 0.2839 - val_loss: 3.9638 - val_acc: 0.2391\n",
      "Epoch 3/5\n",
      "5308/5308 [==============================] - 5s 883us/step - loss: 3.8538 - acc: 0.3105 - val_loss: 3.9736 - val_acc: 0.2993\n",
      "Epoch 4/5\n",
      "5308/5308 [==============================] - 5s 898us/step - loss: 3.7685 - acc: 0.3517 - val_loss: 3.9474 - val_acc: 0.2391\n",
      "Epoch 5/5\n",
      "5308/5308 [==============================] - 5s 880us/step - loss: 3.6880 - acc: 0.3683 - val_loss: 3.9484 - val_acc: 0.2646\n",
      "2275/2275 [==============================] - 1s 247us/step\n"
     ]
    }
   ],
   "source": [
    "keras_user = run_keras_model1(model_user, create_emebed_mat=True)"
   ]
  },
  {
   "cell_type": "code",
   "execution_count": 22,
   "metadata": {
    "scrolled": false
   },
   "outputs": [
    {
     "name": "stdout",
     "output_type": "stream",
     "text": [
      "Build model...\n",
      "_________________________________________________________________\n",
      "Layer (type)                 Output Shape              Param #   \n",
      "=================================================================\n",
      "embedding_2 (Embedding)      (None, 1000, 200)         8458800   \n",
      "_________________________________________________________________\n",
      "flatten_2 (Flatten)          (None, 200000)            0         \n",
      "_________________________________________________________________\n",
      "dense_2 (Dense)              (None, 10)                2000010   \n",
      "=================================================================\n",
      "Total params: 10,458,810\n",
      "Trainable params: 2,000,010\n",
      "Non-trainable params: 8,458,800\n",
      "_________________________________________________________________\n",
      "None\n",
      "Train on 5308 samples, validate on 2275 samples\n",
      "Epoch 1/5\n",
      "5308/5308 [==============================] - 5s 936us/step - loss: 7.1529 - acc: 0.1993 - val_loss: 7.0429 - val_acc: 0.2901\n",
      "Epoch 2/5\n",
      "5308/5308 [==============================] - 5s 907us/step - loss: 6.2947 - acc: 0.4618 - val_loss: 8.6529 - val_acc: 0.2505\n",
      "Epoch 3/5\n",
      "5308/5308 [==============================] - 5s 921us/step - loss: 9.1243 - acc: 0.4627 - val_loss: 9.2805 - val_acc: 0.2558\n",
      "Epoch 4/5\n",
      "5308/5308 [==============================] - 5s 883us/step - loss: 9.9594 - acc: 0.4736 - val_loss: 9.9590 - val_acc: 0.2782\n",
      "Epoch 5/5\n",
      "5308/5308 [==============================] - 5s 895us/step - loss: 10.5510 - acc: 0.4781 - val_loss: 10.1591 - val_acc: 0.2426\n",
      "2275/2275 [==============================] - 1s 247us/step\n"
     ]
    }
   ],
   "source": [
    "keras_w2v = run_keras_model1(model_w2v, 32, create_emebed_mat=True)"
   ]
  },
  {
   "cell_type": "code",
   "execution_count": 23,
   "metadata": {},
   "outputs": [
    {
     "name": "stdout",
     "output_type": "stream",
     "text": [
      "Accuracy of Keras User: 0.26461538461538464\n",
      "Accuracy of Keras W2V: 0.24263736263736263\n"
     ]
    }
   ],
   "source": [
    "print('Accuracy of Keras User: {}'.format(keras_user[1]))\n",
    "print('Accuracy of Keras W2V: {}'.format(keras_w2v[1]))"
   ]
  },
  {
   "cell_type": "markdown",
   "metadata": {},
   "source": [
    "### Task 5: Change the architecture of your model and compare the result"
   ]
  },
  {
   "cell_type": "code",
   "execution_count": 28,
   "metadata": {},
   "outputs": [],
   "source": [
    "def run_keras_model2(gensim_model, batch_size=batch_size, \n",
    "                     create_emebed_mat = False):\n",
    "    \n",
    "    # For embedding layer\n",
    "    if create_emebed_mat:\n",
    "        embed_matrix = create_embed_matrix(gensim_model)\n",
    "        e = Embedding(embed_matrix.shape[0], embed_matrix.shape[1],                      weights=[embed_matrix],\n",
    "                     input_length=x_train.shape[1], trainable=False)\n",
    "    else:\n",
    "        e = gensim_model.wv.get_keras_embedding()\n",
    "        e.input_length = x_train.shape[1]    \n",
    "    \n",
    "    # define model\n",
    "    print('Build model...')\n",
    "    keras_mod = Sequential()\n",
    "    # e = Embedding(vocab_size, embed_size, weights=[embed_matrix], \n",
    "    #               input_length=maxlen, trainable=False)\n",
    "    keras_mod.add(e)\n",
    "    keras_mod.add(Flatten())\n",
    "    keras_mod.add(Dense(100, activation='relu'))\n",
    "    Dropout(.5, noise_shape=None, seed=42)    \n",
    "    keras_mod.add(Dense(100, activation='relu'))\n",
    "    Dropout(.5, noise_shape=None, seed=42)    \n",
    "    keras_mod.add(Dense(100, activation='relu'))\n",
    "    Dropout(.3, noise_shape=None, seed=42)    \n",
    "    keras_mod.add(Dense(10, activation='softmax'))\n",
    "    # compile the model\n",
    "    keras_mod.compile(optimizer='adam', loss='categorical_crossentropy', \n",
    "                      metrics=['acc'])\n",
    "    # summarize the model\n",
    "    print(keras_mod.summary())\n",
    "    # fit the model\n",
    "    keras_mod.fit(x_train, train_labels,\n",
    "              batch_size=batch_size,\n",
    "              epochs=10,\n",
    "              validation_data=(x_test, test_labels))\n",
    "\n",
    "    score, acc = keras_mod.evaluate(x_test, test_labels,\n",
    "                                batch_size=batch_size)\n",
    "    return (keras_mod, acc)    "
   ]
  },
  {
   "cell_type": "code",
   "execution_count": 29,
   "metadata": {},
   "outputs": [
    {
     "name": "stdout",
     "output_type": "stream",
     "text": [
      "Build model...\n",
      "_________________________________________________________________\n",
      "Layer (type)                 Output Shape              Param #   \n",
      "=================================================================\n",
      "embedding_5 (Embedding)      (None, 1000, 200)         4747800   \n",
      "_________________________________________________________________\n",
      "flatten_5 (Flatten)          (None, 200000)            0         \n",
      "_________________________________________________________________\n",
      "dense_9 (Dense)              (None, 100)               20000100  \n",
      "_________________________________________________________________\n",
      "dense_10 (Dense)             (None, 100)               10100     \n",
      "_________________________________________________________________\n",
      "dense_11 (Dense)             (None, 100)               10100     \n",
      "_________________________________________________________________\n",
      "dense_12 (Dense)             (None, 10)                1010      \n",
      "=================================================================\n",
      "Total params: 24,769,110\n",
      "Trainable params: 20,021,310\n",
      "Non-trainable params: 4,747,800\n",
      "_________________________________________________________________\n",
      "None\n",
      "Train on 5308 samples, validate on 2275 samples\n",
      "Epoch 1/10\n",
      "5308/5308 [==============================] - 17s 3ms/step - loss: 4.0652 - acc: 0.2430 - val_loss: 3.9618 - val_acc: 0.2391\n",
      "Epoch 2/10\n",
      "5308/5308 [==============================] - 16s 3ms/step - loss: 3.8951 - acc: 0.2967 - val_loss: 3.9498 - val_acc: 0.2611\n",
      "Epoch 3/10\n",
      "5308/5308 [==============================] - 16s 3ms/step - loss: 3.4725 - acc: 0.4130 - val_loss: 4.0016 - val_acc: 0.2466\n",
      "Epoch 4/10\n",
      "5308/5308 [==============================] - 16s 3ms/step - loss: 3.1519 - acc: 0.4503 - val_loss: 4.0950 - val_acc: 0.2734\n",
      "Epoch 5/10\n",
      "5308/5308 [==============================] - 16s 3ms/step - loss: 2.8906 - acc: 0.4721 - val_loss: 4.1648 - val_acc: 0.2668\n",
      "Epoch 6/10\n",
      "5308/5308 [==============================] - 16s 3ms/step - loss: 2.7158 - acc: 0.4736 - val_loss: 4.4171 - val_acc: 0.2299\n",
      "Epoch 7/10\n",
      "5308/5308 [==============================] - 16s 3ms/step - loss: 2.6044 - acc: 0.4974 - val_loss: 4.5139 - val_acc: 0.2932\n",
      "Epoch 8/10\n",
      "5308/5308 [==============================] - 16s 3ms/step - loss: 2.4779 - acc: 0.5064 - val_loss: 4.4123 - val_acc: 0.2958\n",
      "Epoch 9/10\n",
      "5308/5308 [==============================] - 16s 3ms/step - loss: 2.3526 - acc: 0.5303 - val_loss: 4.4732 - val_acc: 0.2620\n",
      "Epoch 10/10\n",
      "5308/5308 [==============================] - 16s 3ms/step - loss: 2.2916 - acc: 0.5352 - val_loss: 4.8479 - val_acc: 0.2681\n",
      "2275/2275 [==============================] - 1s 316us/step\n"
     ]
    }
   ],
   "source": [
    "keras_user_mod2 = run_keras_model2(model_user, create_emebed_mat = True)"
   ]
  },
  {
   "cell_type": "code",
   "execution_count": 30,
   "metadata": {},
   "outputs": [
    {
     "name": "stdout",
     "output_type": "stream",
     "text": [
      "Build model...\n",
      "_________________________________________________________________\n",
      "Layer (type)                 Output Shape              Param #   \n",
      "=================================================================\n",
      "embedding_6 (Embedding)      (None, 1000, 200)         8458800   \n",
      "_________________________________________________________________\n",
      "flatten_6 (Flatten)          (None, 200000)            0         \n",
      "_________________________________________________________________\n",
      "dense_13 (Dense)             (None, 100)               20000100  \n",
      "_________________________________________________________________\n",
      "dense_14 (Dense)             (None, 100)               10100     \n",
      "_________________________________________________________________\n",
      "dense_15 (Dense)             (None, 100)               10100     \n",
      "_________________________________________________________________\n",
      "dense_16 (Dense)             (None, 10)                1010      \n",
      "=================================================================\n",
      "Total params: 28,480,110\n",
      "Trainable params: 20,021,310\n",
      "Non-trainable params: 8,458,800\n",
      "_________________________________________________________________\n",
      "None\n",
      "Train on 5308 samples, validate on 2275 samples\n",
      "Epoch 1/10\n",
      "5308/5308 [==============================] - 17s 3ms/step - loss: 4.3541 - acc: 0.2378 - val_loss: 4.0204 - val_acc: 0.3152\n",
      "Epoch 2/10\n",
      "5308/5308 [==============================] - 16s 3ms/step - loss: 3.5418 - acc: 0.4359 - val_loss: 4.0924 - val_acc: 0.2923\n",
      "Epoch 3/10\n",
      "5308/5308 [==============================] - 16s 3ms/step - loss: 3.1857 - acc: 0.4878 - val_loss: 4.0836 - val_acc: 0.2712\n",
      "Epoch 4/10\n",
      "5308/5308 [==============================] - 16s 3ms/step - loss: 2.8661 - acc: 0.5252 - val_loss: 4.2713 - val_acc: 0.2897\n",
      "Epoch 5/10\n",
      "5308/5308 [==============================] - 16s 3ms/step - loss: 2.7136 - acc: 0.5290 - val_loss: 4.4147 - val_acc: 0.2321\n",
      "Epoch 6/10\n",
      "5308/5308 [==============================] - 16s 3ms/step - loss: 2.5622 - acc: 0.5454 - val_loss: 4.6319 - val_acc: 0.3068\n",
      "Epoch 7/10\n",
      "5308/5308 [==============================] - 16s 3ms/step - loss: 2.4818 - acc: 0.5360 - val_loss: 4.4030 - val_acc: 0.3112\n",
      "Epoch 8/10\n",
      "5308/5308 [==============================] - 16s 3ms/step - loss: 2.3172 - acc: 0.5414 - val_loss: 4.4520 - val_acc: 0.2224\n",
      "Epoch 9/10\n",
      "5308/5308 [==============================] - 16s 3ms/step - loss: 2.3072 - acc: 0.5488 - val_loss: 4.9167 - val_acc: 0.2681\n",
      "Epoch 10/10\n",
      "5308/5308 [==============================] - 16s 3ms/step - loss: 2.2266 - acc: 0.5454 - val_loss: 4.7910 - val_acc: 0.2409\n",
      "2275/2275 [==============================] - 1s 288us/step\n"
     ]
    }
   ],
   "source": [
    "keras_w2v_mod2 = run_keras_model2(model_w2v, create_emebed_mat = True)"
   ]
  },
  {
   "cell_type": "code",
   "execution_count": 31,
   "metadata": {},
   "outputs": [
    {
     "name": "stdout",
     "output_type": "stream",
     "text": [
      "Accuracy of Keras Mod 2 User: 0.2681318681318681\n",
      "Accuracy of Keras Mod 2 W2V: 0.2408791208791209\n"
     ]
    }
   ],
   "source": [
    "print('Accuracy of Keras Mod 2 User: {}'.format(keras_user_mod2[1]))\n",
    "print('Accuracy of Keras Mod 2 W2V: {}'.format(keras_w2v_mod2[1]))"
   ]
  },
  {
   "cell_type": "markdown",
   "metadata": {},
   "source": [
    "### Task 6: For each model, do an error evaluation\n",
    "\n",
    "You now have a bunch of classifiers. For each classifier, pick 2 good classifications and 2 bad classifications. Print the expected and predicted label, and also print the movie synopsis. From these results, can you spot some systematic errors from your models?"
   ]
  },
  {
   "cell_type": "code",
   "execution_count": 82,
   "metadata": {},
   "outputs": [],
   "source": []
  },
  {
   "cell_type": "code",
   "execution_count": 87,
   "metadata": {},
   "outputs": [],
   "source": [
    "classes = np.asarray(mlb2.classes_)\n",
    "\n",
    "def print_pretty(partition, preds, model_name):\n",
    "    print('{} Predicted classes: {}'.\n",
    "           format(model_name, classes[preds[partition].astype(bool)]))\n",
    "    print('{} Actual classes: {}'.\n",
    "          format(model_name, classes[test_labels[partition].astype(bool)]))\n",
    "    print('{} Synopsis:\\n{}'.\n",
    "          format(model_name, ' '.join(X_test[partition])))\n",
    "\n",
    "def find_mix_max_error(preds):\n",
    "    num_errs = np.sum(abs(preds - test_labels), axis=1)    \n",
    "    max_err_indx = np.argpartition(num_errs, -2)[-2:]\n",
    "    min_err_indx = np.argpartition(num_errs, 2)[:2]\n",
    "    return (max_err_indx, min_err_indx)\n",
    "\n",
    "def print_good_and_bad_from_models(model, model_name, x_test):\n",
    "    pred_prob = model[0].predict(x_test)\n",
    "\n",
    "    # Define class as top probability plus any that are within 5%\n",
    "    preds = np.apply_along_axis(lambda x: np.where(x > (max(x) - .05), 1, 0),\n",
    "                                axis=1, arr=pred_prob)\n",
    "\n",
    "    # Calculate errors\n",
    "    max_err_indx, min_err_indx = find_mix_max_error(preds)\n",
    "\n",
    "    # Print out synopsis and errors\n",
    "    print('------------------')\n",
    "    print('--- Max Error ----')\n",
    "    print('------------------')\n",
    "    for partition in max_err_indx:\n",
    "        print('')\n",
    "        print_pretty(partition, preds, model_name)\n",
    "        print('')\n",
    "    \n",
    "\n",
    "    print('------------------')\n",
    "    print('--- Min Error ----')\n",
    "    print('------------------')\n",
    "    for partition in min_err_indx:\n",
    "        print('')\n",
    "        print_pretty(partition, preds, model_name)\n",
    "        print('')"
   ]
  },
  {
   "cell_type": "code",
   "execution_count": 91,
   "metadata": {},
   "outputs": [
    {
     "name": "stdout",
     "output_type": "stream",
     "text": [
      "------------------\n",
      "--- Max Error ----\n",
      "------------------\n",
      "\n",
      "Keras User Mod 1 Predicted classes: ['Action' 'Comedy' 'Drama' 'Thriller']\n",
      "Keras User Mod 1 Actual classes: ['Black-and-white' 'Indie']\n",
      "Keras User Mod 1 Synopsis:\n",
      "the story begins with the siblings barbra and johnny driving to rural pennsylvania to visit their father grave in the graveyard johnny teases barbra that they re coming to get you barbra and then they are violently attacked by strange man johnny tries to rescue his sister but is killed after he falls and cracks his head on gravestone barbra flees with the zombie in pursuit to farmhouse where to her horror she discovers woman mangled corpse running out of the house she is caught between the house and strange menacing figures that are akin to the zombie in the graveyard man named ben arrives in car and takes her back inside the house ben asks barbra if she lived in the farmhouse but barbra is slowly going into shock hiding in the cellar of the farmhouse are married couple harry and helen cooper and their daughter karen who sought refuge after group of zombies turned over their car and teenage couple tom and judy who arrived after hearing an emergency broadcast about series of brutal murders ben turns on radio while barbra awakens from stupor harry asks everyone to hide in the cellar but ben deems it deathtrap and remains upstairs harry returns to the cellar to helen and karen karen has fallen seriously ill after being bitten on the arm by one of the zombies radio reports explain that state of mass murder is sweeping across the east coast of the united states when ben finds television the emergency broadcaster reports that the recently deceased have become reanimated and are consuming the flesh of the living experts scientists and the united states military do not know the cause though one scientist suspects radioactive contamination from space probe returning from venus that exploded in the earth atmosphere when news reports reveal local rescue centers offering refuge and safety ben plans to leave and obtain medical care for karen tom states that the closest center is miles away in the town of willard ben and tom then go to refuel ben truck while harry hurls molotov cocktails from an upper window to keep the zombies at bay fearing for tom safety judy follows him at the pump tom accidentally spills fuel setting the truck ablaze tom and judy try to withdraw the truck to avoid further damage but it explodes killing them both ben returns to the house but is unable to enter because harry has locked the door behind him he pounds on the door and shouts without result and is finally forced to kick the door down only to find harry retreating to the cellar angered by harry cowardice ben attacks him while the zombies feed on tom and judy outside in the house report on the television reveals that aside from setting the reactivated bodies on fire gunshot or heavy blow to the head will stop them and that posses of armed men are patrolling the countryside to restore order moments later the zombies attempt to break into the house harry grabs ben rifle and threatens to shoot him but ben takes back the gun and shoots harry who stumbles into the cellar to collapse next to karen who has died of the infection of her injury the zombies begin to pull helen and barbara through the windows but helen frees herself and goes down to the cellar to find reanimated karen consuming harry helen falls and karen kills her with masonry trowel barbara distracted by seeing johnny as one of the zombies is carried away by the horde and pulled through them the undead break into the house and ben heads into the cellar he knocks karen out of the cellar and he seals himself in the cellar he shoots harry and helen just as they reanimate the next morning ben is killed by member of the posse who mistakes him for zombie and placed onto burning pyre along with other dead bodies\n",
      "\n",
      "\n",
      "Keras User Mod 1 Predicted classes: ['Comedy' 'Drama']\n",
      "Keras User Mod 1 Actual classes: ['Action' 'Crime Fiction' 'Indie' 'Thriller']\n",
      "Keras User Mod 1 Synopsis:\n",
      "young african american orphan is taken in by the proprietor of los angeles brothel in the while working there as towel boy he loses his virginity at young age to one of the prostitutes the women name him sweet sweetback in honor of his sexual prowess and large penis as an adult sweetback works as performer in the whorehouse entertaining customers by performing in sex show one night pair of lapd officers come in to speak to sweetback boss beetle black man had been murdered and there is pressure from the black community to bring in suspect the police ask permission to arrest sweetback blame him for the crime and then release him few days later for lack of evidence in order to appease the black community beetle agrees and the officers arrest sweetback on the way to the police station the officers arrest young black panther named mu mu they handcuff him to sweetback but when mu mu insults the officers they take both men out of the car undo the handcuff from mu mu wrist and beat him in response sweetback uses the handcuffs still hanging from his wrist to beat the officers into unconsciousness the remainder of the film chronicles sweetback flight through south central los angeles towards the united states mexico border sweetback is captured by the police and violently interrogated about his previous assault on the arresting officers but he escapes when riot breaks out sweetback goes to woman who cuts his handcuffs off in exchange for sex with his handcuffs off sweetback continues onward only to be captured by chapter of the hells angels the female leader of the gang is impressed by the size of sweetback penis and agrees to help him and mu mu escape from the police in exchange for sex the police find sweetback and mu mu at the bikers hangout but sweetback escapes on foot while mu mu goes away with the bikers mu mu and one of the bikers are killed after his escape from the bikers hangout white man sympathetic to sweetback cause agrees to switch clothes with him allowing the usually velour clad sweetback to blend in the police find sweetback former foster mother who reveals that sweetback birth name is leroy the film concludes in the desert where the police send several hunting dogs after sweetback he makes it into the tijuana river and escapes into mexico swearing to return to collect dues\n",
      "\n",
      "------------------\n",
      "--- Min Error ----\n",
      "------------------\n",
      "\n",
      "Keras User Mod 1 Predicted classes: ['Comedy' 'Drama']\n",
      "Keras User Mod 1 Actual classes: ['Comedy' 'Drama']\n",
      "Keras User Mod 1 Synopsis:\n",
      "new science teacher at kona pali high school in hawaii pushes group of students to come up with science project with combination of design vision mechanical skills knowledge of batteries and lightweight drivers the students design and build solar powered car they name cockroach their team manages to outperform corporate sponsored car and win the local big island competition by correctly predicting cloudy weather based on the surfing experience of the student captain daniel cloudy weather would make their vehicle battery capacity more important factor than its weight with the shop teacher as chaperone the students travel to australia to compete in the world solar challenge to the relief of their corporate sponsor who is still bitter over the loss of his company built vehicle in hawaii their car is delayed at the very start of the race however the students choose to persevere and remain in the race sand storm and other difficulties provide occasions for heroism uni pilots the car through difficult terrain but has an accident and is rescued by gilbert after cindy is disqualified from driving for drinking alcohol eduardo puts aside his lolo haole conflict with daniel and reduces the car to allow the overweight gilbert to drive\n",
      "\n",
      "\n",
      "Keras User Mod 1 Predicted classes: ['Comedy' 'Drama']\n",
      "Keras User Mod 1 Actual classes: ['Comedy' 'Drama']\n",
      "Keras User Mod 1 Synopsis:\n",
      "sam lowry is low level government employee who has frequent daydreams of saving beautiful maiden one day he is assigned the task of trying to rectify an error caused by fly getting jammed in printer which caused it to misprint file resulting in the incarceration and death during interrogation of mr archibald buttle instead of the suspected terrorist archibald tuttle when sam visits buttle widow he discovers jill layton the upstairs neighbour of the buttles and is astonished to see that she has the face of the woman from his recurring dreams jill is trying to help mrs buttle find out what happened to her husband but has become sick of dealing with the bureaucracy unbeknownst to her she is now considered terrorist friend of tuttle for attempting to report the mistake of buttle arrest in tuttle place to bureaucracy that would not admit such an error when sam tries to approach her she is very cautious and avoids giving sam full details worried the government will track her down during this time sam comes in contact with the real tuttle renegade air conditioning specialist who once worked for the government but left due to his dislike of paperwork tuttle helps sam deal with two central services workers spoor and dowser who later return to demolish sam ducts and seize his apartment under the guise of fixing the air conditioning sam discovers that the only way to learn about jill is to get transferred to information retrieval where he would have access to her classified records he requests the help of his mother ida vainly addicted to rejuvenating plastic surgery under the care of cosmetic surgeon dr jaffe as she has connections to high ranking officers and is able to help her son get the position delighted that her son has finally shown ambition ndash having previously turned down similar offers from her ndash ida arranges for sam promotion sam eventually obtains jill records and tracks her down before she is arrested then falsifies her records to make her appear deceased allowing her to escape the bureaucracy the two share romantic night together but they are quickly apprehended by the government at gunpoint charged with treason for abusing his newly acquired position sam is restrained to chair in large empty cylindrical room to be tortured by his old friend jack lint who is wearing mask seen earlier in sam dreams and had previously renounced their friendship in favour of loyalty to the ministry sam also learns that jill had been killed resisting arrest however before jack manages to begin the torture tuttle and other members of the resistance break into the ministry the resistance shoots jack rescues sam and blows up the ministry building as they flee sam and tuttle run off together but tuttle disappears amid mass of scraps of paper from the destroyed ministry sam runs to his mother attending funeral for friend who died of excessive cosmetic surgery finding his mother now looking like jill and fawned over by flock of juvenile admirers sam falls into the open casket falling through an empty black void he lands in world from his daydreams and attempts escape up pile of flex ducts from the police and imaginary monsters he finds door at the top of the pile and passing through it is surprised to find himself in trailer driven by jill the two drive away from the city together however this happy ending is all product of sam delusions sam is still strapped to the chair and observed by jack and deputy minister mr helpmann who is portrayed along the film as good friend of sam family realising that sam has grown catatonic with smile on his face and humming brazil the two declare sam lost cause and exit the room as the film ends\n",
      "\n"
     ]
    }
   ],
   "source": [
    "print_good_and_bad_from_models(keras_user, 'Keras User Mod 1')"
   ]
  },
  {
   "cell_type": "code",
   "execution_count": 92,
   "metadata": {},
   "outputs": [
    {
     "name": "stdout",
     "output_type": "stream",
     "text": [
      "------------------\n",
      "--- Max Error ----\n",
      "------------------\n",
      "\n",
      "Keras W2V Mod 1 Predicted classes: ['Comedy']\n",
      "Keras W2V Mod 1 Actual classes: ['Action' 'Crime Fiction' 'Drama' 'Indie' 'Romance Film' 'Thriller']\n",
      "Keras W2V Mod 1 Synopsis:\n",
      "comic book store clerk and film buff clarence worley watches sonny chiba triple feature at detroit movie theater for his birthday there he meets alabama whitman seemingly by chance they go to diner for pie and flirt before heading to clarence apartment after having sex she confesses that she is call girl hired by clarence boss as birthday present but she has fallen in love with clarence and he with her the next day they marry alabama pimp drexl spivey makes clarence uneasy an apparition of his idol elvis presley tells him that killing drexl who is also drug dealer will make the world better place clarence tells drexl that he has married alabama and she has no additional business with him drexl and clarence fight and clarence draws gun and kills drexl and henchman he grabs bag that he assumes belongs to alabama when he tells alabama he killed drexl she sobs and finds this so romantic opening the suitcase the two find it is full of cocaine which was stolen by drexl clarence and alabama decide to leave for california immediately first they pay visit to clarence estranged father clifford worley security guard and ex cop clarence wants to find out if he is in the clear regarding drexl murder clifford tells him that the police assume it to be drug related killing in los angeles the young couple plan to meet clarence old friend dick ritchie an aspiring actor back in detroit clifford is confronted in his home by gangster vincenzo coccotti who wants the drugs taken from drexl his underling clifford refuses to reveal where his son has gone accepting that he is going to die anyway he insults coccotti who shoots clifford and then finds note on the fridge giving clarence address in clarence plans to use ritchie contacts with an actor named elliot to sell the drugs to film producer lee donowitz elliot who has some of the cocaine is stopped while speeding and is arrested for drug possession believing clarence story of getting the drugs from dirty cop he informs on donowitz alabama is found alone in their motel room and interrogated by one of coccotti henchmen virgil but she fights back and manages to kill him she and clarence talk of moving to cancún with the money from the drug deal knowing that elliot cocaine was uncut and with elliot confessing in order to avoid prison detectives nicholson and dimes conclude that sizable drug deal is about to go down promising him that he can avoid prison in return for cooperation the two detectives have elliot wear wire coccotti men learn where the deal is going down from ritchie stoner roommate floyd and they all converge on donowitz suite at the ambassador hotel clarence makes good impression on donowitz they are then ambushed by both the cops and gangsters who break in at almost the same time donowitz realizes that elliot is an informant and throws hot pot of coffee on him nicholson shoots donowitz and shootout begins ritchie abandons the drugs and flees clarence is shot as he exits the bathroom afterward dimes finds one of the bodyguards mortally wounded and kills him for shooting nicholson alabama then shoots dimes as revenge for shooting clarence as alabama cries over clarence it is revealed that the gunshot had only grazed his face and narrowly missed his eye he and alabama escape with donowitz money as more police set perimeter around the hotel they are shown on beach in cancún with son they have named elvis\n",
      "\n",
      "\n",
      "Keras W2V Mod 1 Predicted classes: ['Romance Film']\n",
      "Keras W2V Mod 1 Actual classes: ['Action' 'Comedy' 'Crime Fiction' 'Drama' 'Indie' 'Thriller']\n",
      "Keras W2V Mod 1 Synopsis:\n",
      "detroit police detective and sergeant jericho jackson known as action jackson was lieutenant in the police force but demoted because of case he headed involving the son of businessman peter dellaplane after his demotion action jackson begins investigating murders of union members for dellaplane company dellaplane it is discovered is murdering his way to power hiring assassins to kill unfriendly union members jackson has the help of mistress of peter dellaplane singer named sydney ash who is heroin addict jackson is framed for murdering peter dellaplane wife patrice and finds himself on the run from the police he receives help from dee lively local hairdresser who acts as his informant and finds way to get to dellaplane the showdown leads to jackson and dellaplane at the latter mansion at the party of union leader jackson wins the showdown kills dellaplane and is promoted to lieutenant as result of this victory jackson after much reluctance throughout the film starts relationship with determined to rehabilitate sydney\n",
      "\n",
      "------------------\n",
      "--- Min Error ----\n",
      "------------------\n",
      "\n",
      "Keras W2V Mod 1 Predicted classes: ['Comedy']\n",
      "Keras W2V Mod 1 Actual classes: ['Comedy']\n",
      "Keras W2V Mod 1 Synopsis:\n",
      "the film picks up in between the events of mollie and james saving baby mikey from almost being hit by car and him going into the hospital with james to see his new baby sister it opens with mollie and james preparing to have sex with him ensuring her mikey gets scared and calls james into the room he goes to check on him and returns to mollie although she fell asleep he gets her back in the mood and they continue the film cuts to his sperm cells traveling toward her egg however it teases them since the diaphragm is blocking them from getting it one manages to get around it and baby girl is conceived they tell mikey that he got to be potty trained mollie discovers she pregnant and james is working diligently mikey learns that with his new baby sister on the way he has to be responsible big brother when she is about to be born her umbilical cord gets caught around her neck putting her in distress she is born through section and is taken to the nursery she is named julie when she and mikey meet he says hello and she asks who this asshole he gets jealous of her immediately one day mikey and his playmate eddie try to walk off with her stroller and decide to ditch her at the zoo mollie stops the boys and when she does she catches them with crack pipe she and james fight about her brother stuart staying there which leads to her kicking james out stuart soon develops romance with her best friend rona and they even start dating mikey is upset about james being gone and out of anger he tears up one of julie favorite stuffed penguins james occasionally hangs out with his kids and has fun with them meanwhile mikey is having trouble using potty so he gets some advice from eddie who already potty trained however he warns him about mr toilet man who actually just figment of their imaginations one day julie sees herbert head and decides to learn to walk and leave she manages to walk without support mollie sees this gets excited and calls james and stuart if you listen carefully you ll hear the tri star pictures theme while she is walking mikey realizes one night that he hasn been very nice to her and decides to try to do so mollie realizes that she needs james to help her she dresses up in an attempt to get back together with him few days later mikey uses the toilet and calls his parents who are immensely proud of him mollie exclaims that she hasn felt that happy about him since he was born one night mollie watches the news and learns that storms are all around the area she goes to get to james before he takes off leaving stuart with mikey and julie at some point in time burglar breaks in and runs when he comes in with his unloaded gun he is completely oblivious to the fact that he left an oven mitt on the hot stove causing it to catch on fire it falls off the stove onto some newspapers causing bigger fire mikey and julie panic he pushes her out of the apartment and saves them both mollie and james catch up with stuart and ask where mikey and julie are the couple see the smoke in the apartment and run in to retrieve them just to find the two kids arriving in the elevator james runs in gets the fire extinguisher and puts out the fire the police arrive soon afterwards and arrest the thief rona arrives and once she hears about how stuart helped save the day she falls deeper in love with him she asks him to marry her and he agrees the next day james mollie and her parents talk while mikey explains to julie why he saved her from the fire and they start to get along\n",
      "\n",
      "\n",
      "Keras W2V Mod 1 Predicted classes: ['Comedy']\n",
      "Keras W2V Mod 1 Actual classes: ['Comedy']\n",
      "Keras W2V Mod 1 Synopsis:\n",
      "walter lives with his human brother gary in smalltown they became muppet fans when they watched the muppet show in their youth gary plans vacation to los angeles with his girlfriend mary to celebrate their tenth anniversary inviting walter along so he can tour the muppet studios mary feels that gary devotion to walter is detracting from their relationship in los angeles the three visit the abandoned muppet studio during the tour walter sneaks into kermit the frog office and discovers statler and waldorf selling the theater to tex richman an oil magnate and his henchmen bobo the bear and uncle deadly waldorf explains that if the muppets can raise nbsp million they can repurchase the theater after statler and waldorf leave the office walter overhears richman revealing his plans to destroy the muppet theater and drill for oil underneath and later warns gary and mary about richman intentions when kermit the frog is informed the situation at his mansion he realizes he must organize show to raise the money which the muppets have not done in years after walter convinces him to try kermit and the three set off to reunite the group with the car being driven by robot fozzie bear is performing in reno nevada with the moopets group of uncouth muppet impersonators which includes man dressed as animal kermit persuades him to leave reno meanwhile gonzo has become plumbing magnate despite his initial objection gonzo decides to destroy his business and join them animal is in celebrity anger management clinic he rejoins them but his sponsor jack black warns him to avoid drums the other primary muppets are located and rejoin through montage in paris the group later finds miss piggy working as vogue paris editor for plus sized fashion unable to convince miss piggy to return the group replaces her with moopet counterpart miss poogy the muppets pitch their telethon idea to fox nbc and univision but are rejected due to the sudden cancellation of popular show resulting from lawsuit cde network executive veronica gives the muppets two hour opening in the network schedule on the condition that they find celebrity guest the muppets repair the theater but their rehearsal fails and kermit is unable to find celebrity guest miss piggy returns and forces miss poogy out refusing to work with kermit miss piggy selects pepe the king prawn as her partner for dance routine kermit later persuades walter to perform and find his talent while mary goes sight seeing alone when kermit entreats richman to return their studio the oil magnate reveals that the muppets will also lose their trademark name and rights which he plans to give to the moopets miss piggy has the muppets kidnap jack black as celebrity guest meanwhile after gary forgets his anniversary with mary she leaves for smalltown when gary attempts to explain to walter about mary problem he realizes what he has done gary chooses to improve his relationship with mary while walter discovers he was meant to be muppet gary reconciles with mary and they return to los angeles while the telethon builds up to success with celebrity support and black as host with help from bobo the bear uncle deadly and the moopets richman cuts the theater power supply but gary and mary repair the wiring richman then attempts to destroy the transmitter antenna but uncle deadly has change of heart and stops richman miss piggy reconciles with kermit and the muppets perform rainbow connection with the telethon running short walter finds his talent and performs whistling act and the crowd praises him richman refusing to lose disables the telephone lines and evicts them from the theater out of time and short of their monetary goal kermit says that the muppets tried their best and will begin again as family before leaving with walter gary and mary the group then witnesses vast gathering of fans outside the theater with gary encouragement walter greets the crowd with the muppets as gary proposes to mary and richman gives the theater and rights back to the muppets after suffering head injury from gonzo bowling ball act\n",
      "\n"
     ]
    }
   ],
   "source": [
    "print_good_and_bad_from_models(keras_w2v, 'Keras W2V Mod 1')"
   ]
  },
  {
   "cell_type": "code",
   "execution_count": 93,
   "metadata": {},
   "outputs": [
    {
     "name": "stdout",
     "output_type": "stream",
     "text": [
      "------------------\n",
      "--- Max Error ----\n",
      "------------------\n",
      "\n",
      "Keras User Mod2 Predicted classes: ['Comedy' 'Drama' 'Romance Film']\n",
      "Keras User Mod2 Actual classes: ['Action' 'Thriller' 'World cinema']\n",
      "Keras User Mod2 Synopsis:\n",
      "ryu is deaf mute man working in factory to support his ailing sister who is in desperate need of kidney transplant as ryu is not match and he is laid off from his job ryu contacts black market organ dealer and agrees to exchange his savings and one of his own kidneys in exchange for matching one the dealers perform the operation but disappear after taking ryu kidney and money three weeks later ryu learns from his doctor that donor has been found but ryu is unable to afford the operation now in need of money for the operation and in retaliation for his being fired yeong mi ryu radical anarchist girlfriend conspires they kidnap yu sun the daughter of factory executive dong jin the girl stays with ryu sister who believes ryu is merely babysitting her concurrently ryu and yeong mi collect the ransom from dong jin after collecting the money ryu finds his sister discovered his plan and that she committed suicide as she was unwilling to be involved or to burden ryu ryu takes yu sun and his sister body to suburban riverbed they used to frequent as children while ryu buries his sister yu sun accidentally slips into the river and drowns as dong jin mourns his daughter he hires an investigator to help find yu sun kidnappers and realizes those he laid off may seek revenge meanwhile ryu locates ambushes and murders the organ dealers dong jin receiving help from several sources finds yeong mi and interrogates her yeong mi apologizes for yu sun death but warns him of an organization she is part of that will find and kill don jin if he kills her dong jin unfazed by yeong mi threats electrocutes her to death ryu returns to yeong mi apartment building and discovers the police removing her corpse ryu and dong jin wait at each other residence in an attempt to kill the other ryu is the first to return home and unaware of an electric booby trap on his doorknob is rendered unconscious dong jin binds ryu and returns him to the riverbed where yu sun died after binding ryu hands and feet and bringing him chest high into the water an emotional dong jin acknowledges that although ryu is good man he has no choice dong jin then slashes ryu achilles tendons resulting in his drowning dong jin drags ryu back to shore and begins to dig hole but soon group of men arrives they surround and stab dong jin repeatedly finally attaching note to his chest identifying themselves as the terrorist group of which yeong mi was part the group leave dong jin dying beside his car with the bloody tools and bags containing ryu body\n",
      "\n",
      "\n",
      "Keras User Mod2 Predicted classes: ['Drama' 'Indie']\n",
      "Keras User Mod2 Actual classes: ['Action' 'Comedy' 'Romance Film' 'Thriller']\n",
      "Keras User Mod2 Synopsis:\n",
      "after break up with boyfriend an overly cautious jennifer jen kornfeldt travels to nice with her parents while going into an elevator to go to her hotel room she meets spencer aimes spencer asks her out for drinks and she accepts the scene then changes to spencer sneaking onto boat putting time bomb on the bottom of helicopter then taking out guard he then swims back and goes on the date with jen after night of drinking jen reveals that she not the spontaneous person she been pretending to be and in return spencer bluntly tells her that he an assassin albeit unhappy about being one unfortunately she already passed out and hasn heard in spite of this spencer decides that jen the woman he been looking for and decides to marry her when spencer tells his boss holbrook his plan the response is that quitting is not an option spencer is defiant and goes ahead with his plan three years later they are settled into their new normal life after spencer surprises jen with remodeled office she gives him birthday surprise tickets to nice to celebrate his birthday and their three years because of his dubious connections to nice spencer is less than enthusiastic when her friends ask about his reaction they take it as signs of that he might be getting bored and fill her head with doubts meanwhile spencer gets postcard from his old boss and the ultimatum to take another assignment while trying to refuse him long distance jen father shows up to take spencer to dinner so spencer hangs up the phone prompting suspicion in mr kornfeldt this is fueled further when jen dad sees the postcard and quizzes him about the xoxx being odd coming from former boss stopping home to change spencer finds that the dinner invitation is just detour to bring him to surprise party while spencer navigates drunken friends jen friends continue to fill her head with doubts over spencer lack of enthusiasm for the nice trip this is further irritated when the following morning despite her attempts to be physical with him spencer rushes jen off on her business trip little while later jen comes back to find spencer being tossed around their house by henry spencer best friend and co worker spencer screams for her to get his gun and she shoots henry in the arm while interrogating the him henry reveals that there is million bounty on spencer head an unidentified sniper takes shots at them and spencer and jen flee henry goes after them and after car chase through the neighborhood they end up in construction zone where henry crashes his car spencer rams him into trench impaling his car on rebar and killing him they then go to the hotel room where spencer old boss is staying but find that someone has already killed him jen demands that they go to her dad for help but spencer disagrees in the middle of their argument jen vomits and declares that she might be pregnant heading back to his office for jen to take pregnancy test spencer is attacked by his secretary and realizes that there are others who know about the contract jen then reveals that she is pregnant and is leaving spencer left alone spencer is attacked by delivery driver who is then run over and killed by olivia henry wife another killer vying for the contract she then tries to run over spencer but jen returns and smashes olivia car into fuel tank which spencer then shoots at and explodes killing olivia the two discuss their possible future and return to their neighborhood which is holding its annual block party when they first arrive they are attacked by two more assailants who in chase through backyards crash their car giving jen and spencer chance to flee into the block party as they walk through it they receive many suspicious looks from neighbors they enter their house to retrieve guns and their passports spencer is grabbing the guns when he is attacked by the two assailants again whom he eventually kills meanwhile one assassin kristen one of jen best friends holds jen mother as hostage in mexican standoff with jen jen father arrives and kills kristen he then explains that he was the one who put out the bounty on spencer he knew of spencer previous work all along and hired the neighbors and co workers three years before in case spencer started working for his old boss again who jen father says had gone dirty after seeing the postcard from holbrook in spencer office he came to the conclusion that spencer had re accepted his old job and activated the assassins he reveals that he had been an operative as well and that he was actually the target spencer was supposed to kill in nice three years earlier in standoff between spencer and jen father he does not trust that spencer is really out of the game wanting to prove that he really did get out spencer drops his gun and tells jen father he has no intention of killing him jen now convinced reveals her pregnancy to her parents jen father after killing one last wounded assassin drops his gun as well the family makes peace by building trust circle in which spencer reveals that english is not his first language and that he wanted to be the first one to say love you to jen the movie ends showing spencer and jen father working on some wires near spencer and jen baby crib spencer has just grown moustache just like jen father spencer and jen then leave to let jen mom and dad babysit they all leave the room but spencer comes back in to activate the lasers protecting the baby\n",
      "\n",
      "------------------\n",
      "--- Min Error ----\n",
      "------------------\n",
      "\n",
      "Keras User Mod2 Predicted classes: ['Drama']\n",
      "Keras User Mod2 Actual classes: ['Drama']\n",
      "Keras User Mod2 Synopsis:\n",
      "ángel soft spoken withdrawn man lives an isolated life in rustic farmhouse in the woodlands around segovia his only company is his brash domineering mother martina ángel is an alimañero hunter in charge of killing wolves and other animals of prey in order to protect deer in hunting wild reserve to survive he resorts to furtive deception of the local civil guards hunting the wild game and selling the meat and skins for profit during the autumn hunting season the local governor comes to hunt stag with his entourage taking base at ángel rustic house the governor has special affection towards martina who was his wet nurse ángel goes to the provincial capital to buy traps rope and nooses he has killed wolf taking the skin to sell it in town he is smitten with young woman milagros who is looking for way out of her troubles milagros is the girlfriend of well known delinquent nicknamed el cuqui she has escaped from the local reformatory for girls hoping to run away with her lover with no money and still wearing the reformatory uniform she notices ángel eating his lunch in the street and boldly seduces him taking him for fool ángel buys her new clothes and after spending clandestine evening in an out of the way hotel he invites her to return to the forest with him initially reluctant milagros eventually leaves with him on bus towards the forest meanwhile martina has been busy entertaining the childish and irritating governor who has come with some friends to hunt deer upset with her son delay in town martina is furious when she sees him arriving with girl in tow she takes out her displace ire on trapped she wolf martina savagely kills the defenseless animal with an ax milagros plan is to leave soon hiding out from the authorities until el cuqui comes to look for her but ángel in spite of his mother opposition is determined that she stays with him during the hunting expedition the governor shoots at deer with no success and as the animal is about to get away ángel in another part of the forest kills the animal and drags it out of sight initially ángel tries to hide the presence of the runaway girl from the governor but martina who is jealous makes milagros come to the notice of the governor martina plan to get rid of milagros backfires instead of returning her to the reformatory the governor accepts to let her free as ángel wants to marry the wayward girl he would be now responsible for her martina is beside herself with anger milagros now has taken her place next to ángel in the only bed of the house implying that mother and son had had an incestuous relationship ángel is oblivious to his mother fury he is happy with milagros who tries to be accommodating and begins to be genuinely fond of him eventually el cuqui returns sooner than expected and milagros although now attach to ángel still plans to run off meanwhile the local police discover el cuqui presence in the forest the governor whose hunting expedition has been interrupted by el cuqui asks ángel to track him down since he is the most familiar with the area he pursues him and finds him but lets him go because milagros has promised to stay with him if her lover is spared from jail el cuqui escapes when ángel returns home martina tells her son that milagros has fled as well taking her few belongings with her desperate ángel goes back to the forest to look for her but he cannot find her martina tries to console him as she helps him takes his wet clothes at first ángel is distraught but life goes on peering into the attic of martina home the governor has discovered deer skins that ángel has poached embarrassed by this findings the governor eventually name ángel forest guard in order to discourage his illegal hunting ángel begins to prosper however he is still obsessed by milagros disappearance by chance he meets again face to face with el cuqui who to ángel surprise demands to know where milagros is realizing that she did not escape with el cuqui ángel searches their room finding box with some of milagros nostalgic possessions that she would have never left behind he finally realizes that martina out of jealousy has killed his wife he remains calm and tells his mother that the next day they would go to church ángel wears his forest guard uniform and take his mother to mass martina takes communion and at ángel insistence she also received the sacrament of confession on their way home from the sunday church service ángel shoots her in the back in field of snow\n",
      "\n",
      "\n",
      "Keras User Mod2 Predicted classes: ['Drama']\n",
      "Keras User Mod2 Actual classes: ['Drama']\n",
      "Keras User Mod2 Synopsis:\n",
      "donald campbell is sensitive teenage boy coming of age in dark and uncertain time for both his community and life his mother wants him to continue his education after high school and become priest but donald is more interested in girls than prayerbooks after an unsuccessful attempt by visiting priest to molest him followed by his first sexual experience with local girl donald politely informs his mother that he is not going to be priest meanwhile when he is not in school donald spends his time helping his father dig bootleg pit helps care for his older brother joe who was the brightest boy in his grade until he got sick and was left disabled and pursues saxon coldwell one of police sergeant coldwell two daughters sergeant coldwell wife died few months earlier donald lives hard working but fairly happy life until the night he witnesses sergeant coldwell shoot and kill the jewish couple who are his landlord and landlady the chief of police is relative so donald feels comfortable admitting he saw the killing but he says he did not see who did it because he is afraid of sergeant coldwell especially after sergeant coldwell lets donald know that he is aware that donald did see who committed the murder when the sergeant comes home and finds donald visiting with his daughter dianna he snaps mentally and tries to kill the boy with the result his secret is revealed and he is arrested the film also depicts the daily lives of the eccentric locals and tight knit families\n",
      "\n"
     ]
    }
   ],
   "source": [
    "print_good_and_bad_from_models(keras_user_mod2, 'Keras User Mod2')"
   ]
  },
  {
   "cell_type": "code",
   "execution_count": 94,
   "metadata": {},
   "outputs": [
    {
     "name": "stdout",
     "output_type": "stream",
     "text": [
      "------------------\n",
      "--- Max Error ----\n",
      "------------------\n",
      "\n",
      "Keras W2V Mod2 Predicted classes: ['Action']\n",
      "Keras W2V Mod2 Actual classes: ['Black-and-white' 'Crime Fiction' 'Drama' 'Indie' 'Thriller']\n",
      "Keras W2V Mod2 Synopsis:\n",
      "struggling unemployed young writer takes to following strangers around the streets of london ostensibly to find inspiration for his first novel initially he sets strict rules for himself regarding whom he should follow and for how long but soon discards them as he focuses on well groomed handsome man in dark suit the man in the suit having noticed he is being followed quickly confronts the young man and introduces himself as cobb cobb reveals that he is serial burglar and invites the young man to accompany him on various burglaries the material gains from these crimes seem to be of secondary importance to cobb who takes pleasure in rifling through the personal items in his targets flats and doing things such as drinking their wine he explains that his true passion is using the shock of robbery and violation of property to make his victims re examine their lives he sums up his attitude thus you take it away and show them what they had the young man is thrilled by cobb lifestyle he attempts break ins of his own as cobb encourages and guides him at cobb suggestion he alters his appearance cutting his hair short and wearing dark suit the young man assumes the name daniel lloyd based on the credit card cobb gives to him and begins to pursue relationship with blonde woman whose flat he and cobb burglarized the blonde turns out to be the girlfriend of small time gangster whom she broke up with after he murdered man in her flat soon the blonde confides that the bald guy is blackmailing her with incriminating photographs the young man breaks into the bald guy safe but is caught in the act by an unidentified man the young man bludgeons the man with claw hammer and flees with the bald guy money and photos upon returning to his flat he finds that the photos are innocuous modeling shots confronting the blonde the young man learns that she and cobb have been working together to manipulate him into mimicking cobb burglary methods cobb had recently discovered murdered woman body during one of his burglaries and is attempting to deflect suspicion from himself by making it appear as though multiple burglars share his mo the young man leaves to turn himself in to the police the blonde reports her success to cobb who then reveals that he actually works for the bald guy the story about the murdered woman was part of plot to deceive both the blonde and the young man the blonde has been blackmailing the bald guy with evidence from the murder he committed in her flat and he wants her murdered in such way that it cannot be connected to him cobb bludgeons the blonde to death with the same claw hammer that the young man used during the burglary of the bald guy safe and leaves it at the scene the police checking out the young man story find the blonde murdered and the claw hammer with his finger prints on it the young man is implicated for all of cobb crimes along with the murder of the blonde woman meanwhile cobb vanishes into crowd\n",
      "\n",
      "\n",
      "Keras W2V Mod2 Predicted classes: ['Action' 'Comedy']\n",
      "Keras W2V Mod2 Actual classes: ['Black-and-white' 'Crime Fiction' 'Drama' 'Romance Film' 'Thriller']\n",
      "Keras W2V Mod2 Synopsis:\n",
      "jacob jake geismar an american war correspondent for stars and stripes returns to berlin during the potsdam negotiations between the allied powers after world war ii was over in europe but before hostilities ended in asia jacob witnesses his murdered driver black marketeering american soldier named tully being fished from river eddy suspiciously adjacent to the potsdam conference grounds the corpse is discovered to be in possession of german reichsmarks which are later revealed to have been printed by the occupying forces geismar becomes entwined in both the mystery of his murdered driver and the clandestine search by both soviet and american forces for the missing german emil brandt he becomes more involved in both mysteries as his investigation intersects with his search for lena brandt german jew and emil wife with whom geismar had been in relationship prior to the war lena has survived the holocaust by doing what she had to to stay alive early in the film this is assumed to be prostitution but lena in reality holds darker secret of complicity and guilt in the film emil brandt is former ss officer who had been the secretary of franz bettmann chief production engineer of the rocket at concentration camp mittelbau dora mittelwerk the soviets the americans and the british all try to get hold of emil brandt for different reasons the americans have already detained bettmann in safehouse and intend to transport him to the as part of their operation overcast paperclip to have him work on their own rocket program in the film they are fully aware of bettmann role at camp dora and know about the slave labor used in the program but want to cover up his involvement which includes eliminating emil brandt whose testimony or written notes would prevent their whitewashing of bettmann geismar in his attempts to get his former lover lena out of berlin gets more and more involved in the search for emil brandt at one point lena gives emil notes on camp dora to geismar when lena and geismar try to hand emil brandt over to the american prosecutor charged with handling war crimes cases they are intercepted by the american authorities who want to protect bettmann and brandt is murdered but geismar still has brandt notebooks which he now trades in to the war crimes investigators of the army in exchange for lang and visa for lena such that she can leave germany through minor character of jewish owner of pawn shop who survived the holocaust with his legs amputated the film refers to the nazi human experimentation in particular to bone transplantation experiments as they were done at the ravensbrück concentration camp the plot of the film differs significantly from that of the book though the murder mystery and the themes of guilt and survival are the same\n",
      "\n",
      "------------------\n",
      "--- Min Error ----\n",
      "------------------\n",
      "\n",
      "Keras W2V Mod2 Predicted classes: ['Comedy' 'Drama' 'Romance Film']\n",
      "Keras W2V Mod2 Actual classes: ['Comedy' 'Drama' 'Romance Film']\n",
      "Keras W2V Mod2 Synopsis:\n",
      "two relative strangers try to turn one night stand into marriage in this romantic comedy alex whitman matthew perry is an architect from new york city who is sent to las vegas to supervise the construction of nightclub that his firm has been hired to build alex is straight laced wasp ish type who while enjoying night on the town meets isabel fuentes free spirited mexican american photographer alex and isabel are overtaken by lust at first sight and end up spending the night together however their immediate attraction doesn last in the cold light of day and they don see each other for another three months when they do meet again it because isabel has some interesting news for alex she pregnant with his child alex and isabel decide that they should do the right thing and quickly get married but after isabel meets alex mom and alex is confronted by isabel father both start to wonder if doing the right thing was just that especially as alex tries to balance his career in new york with isabel desire to continue working in nevada\n",
      "\n",
      "\n",
      "Keras W2V Mod2 Predicted classes: ['Drama']\n",
      "Keras W2V Mod2 Actual classes: ['Drama']\n",
      "Keras W2V Mod2 Synopsis:\n",
      "when the general manager of gifford motors dies company owner ernest gifford invites the three candidates for the position to new york so he can personally evaluate them and their wives bill and katie baxter are loving couple from kansas city elizabeth burns is becoming estranged from her driven husband sidney because his work is consuming him and undermining his health she fears promotion would eventually kill him jerry talbot who has sexy ambitious wife carol rounds out the trio as time goes by katie is shown to be bit of klutz both physically and socially on the other hand elizabeth is both poised and gracious despite their differences she and katie get along well when the couples are unexpectedly invited to spend the weekend at the estate of gifford sister evelyn andrews elizabeth generously helps katie buy appropriate clothing on limited budget\n",
      "\n"
     ]
    }
   ],
   "source": [
    "print_good_and_bad_from_models(keras_w2v_mod2, 'Keras W2V Mod2')"
   ]
  }
 ],
 "metadata": {
  "anaconda-cloud": {},
  "kernelspec": {
   "display_name": "Python [conda env:tensorflow2]",
   "language": "python",
   "name": "conda-env-tensorflow2-py"
  },
  "language_info": {
   "codemirror_mode": {
    "name": "ipython",
    "version": 3
   },
   "file_extension": ".py",
   "mimetype": "text/x-python",
   "name": "python",
   "nbconvert_exporter": "python",
   "pygments_lexer": "ipython3",
   "version": "3.6.4"
  }
 },
 "nbformat": 4,
 "nbformat_minor": 2
}

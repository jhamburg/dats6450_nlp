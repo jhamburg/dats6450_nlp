{
 "cells": [
  {
   "cell_type": "code",
   "execution_count": 1,
   "metadata": {},
   "outputs": [
    {
     "data": {
      "application/javascript": [
       "IPython.notebook.set_autosave_interval(0)"
      ]
     },
     "metadata": {},
     "output_type": "display_data"
    },
    {
     "name": "stdout",
     "output_type": "stream",
     "text": [
      "Autosave disabled\n"
     ]
    }
   ],
   "source": [
    "%autosave 0"
   ]
  },
  {
   "cell_type": "markdown",
   "metadata": {},
   "source": [
    "## Assignment 2 - Movie Classification, the sequel\n",
    "![](https://images-na.ssl-images-amazon.com/images/S/sgp-catalog-images/region_US/paramount-01376-Full-Image_GalleryBackground-en-US-1484000188762._RI_SX940_.jpg)\n",
    "\n",
    "\n",
    "#### In this assignment, we will learn a little more about word2vec and then use the resulting vectors to make some predictions.\n",
    "\n",
    "We will be working with a movie synopsis dataset, found here: http://www.cs.cmu.edu/~ark/personas/\n",
    "\n",
    "The overall goal should sound a little familiar - based on the movie synopses, we will classify movie genre. Some of your favorites should be in this dataset, and hopefully, based on the genre specific terminology of the movie synopses, we will be able to figure out which movies are which type."
   ]
  },
  {
   "cell_type": "markdown",
   "metadata": {},
   "source": [
    "### Task 1: clean your dataset!\n",
    "\n",
    "For your input data:\n",
    "\n",
    "1. Find the top 10 movie genres\n",
    "2. Remove any synopses that don't fit into these genres\n",
    "3. Take the top 10,000 reviews in terms of \"Movie box office revenue\"\n",
    "\n",
    "Congrats, you've got a dataset! For each movie, some of them may have multiple classifications. To deal with this, you'll have to look at the Reuters dataset classification code that we used previously and possibly this example: https://github.com/keras-team/keras/blob/master/examples/reuters_mlp.py\n",
    "\n",
    "We want to use categorical cross-entropy as our loss function (or a one vs. all classifier in the case of SVM) because our data will potentially have multiple classes!"
   ]
  },
  {
   "cell_type": "code",
   "execution_count": 2,
   "metadata": {},
   "outputs": [
    {
     "name": "stderr",
     "output_type": "stream",
     "text": [
      "C:\\Users\\Hamburg\\Anaconda3\\envs\\tensorflow2\\lib\\site-packages\\gensim\\utils.py:860: UserWarning: detected Windows; aliasing chunkize to chunkize_serial\n",
      "  warnings.warn(\"detected Windows; aliasing chunkize to chunkize_serial\")\n",
      "C:\\Users\\Hamburg\\Anaconda3\\envs\\tensorflow2\\lib\\site-packages\\h5py\\__init__.py:36: FutureWarning: Conversion of the second argument of issubdtype from `float` to `np.floating` is deprecated. In future, it will be treated as `np.float64 == np.dtype(float).type`.\n",
      "  from ._conv import register_converters as _register_converters\n",
      "Using TensorFlow backend.\n"
     ]
    }
   ],
   "source": [
    "import pandas as pd\n",
    "import numpy as np\n",
    "import re\n",
    "from sklearn.model_selection import train_test_split\n",
    "from sklearn.preprocessing import MultiLabelBinarizer\n",
    "from sklearn.multioutput import MultiOutputClassifier\n",
    "from sklearn.multiclass import OneVsRestClassifier\n",
    "from sklearn.svm import SVC, LinearSVC\n",
    "from sklearn.pipeline import Pipeline\n",
    "from sklearn import metrics\n",
    "import gensim\n",
    "import word2vec\n",
    "\n",
    "import keras\n",
    "from keras.preprocessing.text import Tokenizer\n",
    "from keras.preprocessing.sequence import pad_sequences\n",
    "from keras.models import Sequential\n",
    "from keras.layers.core import Dense, Activation, Dropout\n",
    "from keras.layers import Flatten\n",
    "from keras.layers import Embedding\n",
    "from keras.layers import LSTM\n",
    "from keras.regularizers import l2"
   ]
  },
  {
   "cell_type": "code",
   "execution_count": 3,
   "metadata": {},
   "outputs": [],
   "source": [
    "dataPath = '../data/MovieSummaries/'\n",
    "movieHeader = ['wikiID', 'freebaseID', 'name', 'releaseDate', 'revenue',\n",
    "               'runtime', 'languages', 'countries', 'genres']\n",
    "movieDat = pd.read_csv(dataPath + 'movie.metadata.tsv', delimiter = '\\t',\n",
    "                      header = None, names = movieHeader)\n",
    "synopsisDat = pd.read_csv(dataPath + 'plot_summaries.txt', delimiter = '\\t',\n",
    "                      header = None, names = ['wikiID', 'synopsis'])"
   ]
  },
  {
   "cell_type": "code",
   "execution_count": 4,
   "metadata": {},
   "outputs": [],
   "source": [
    "# To find top genres, will split the genres into their own columns\n",
    "# since one move can be multiple genres and then sum those columns\n",
    "# to find the max 10\n",
    "\n",
    "### Step 1 -- Convert Genres into a list of genres\n",
    "def cleanGenres(genreDat):\n",
    "    clean = [re.findall(r'\"\\S+\": \"(.+)\"', x) for x in genreDat.split(',')]\n",
    "    return [item for sublist in clean for item in sublist]\n",
    "    \n",
    "movieDat['genres_clean'] = movieDat.genres.apply(cleanGenres)\n",
    "\n",
    "### Step 2 --- \"One Hot Encode\" that list and then join back\n",
    "mlb = MultiLabelBinarizer()\n",
    "movieDat = movieDat.join(pd.DataFrame(mlb.fit_transform(movieDat['genres_clean']),\n",
    "                          columns=mlb.classes_,\n",
    "                          index=movieDat.index))\n",
    "\n",
    "### Step 3 --- Find genres with the largest sums\n",
    "idCols = movieHeader.copy()\n",
    "idCols.extend(['genres_clean'])\n",
    "genreCols = movieDat.columns.difference(idCols)\n",
    "topGenres = movieDat.loc[:, genreCols].sum().nlargest(10).index"
   ]
  },
  {
   "cell_type": "code",
   "execution_count": 5,
   "metadata": {},
   "outputs": [
    {
     "data": {
      "text/plain": [
       "0      True\n",
       "1      True\n",
       "2      True\n",
       "3      True\n",
       "4      True\n",
       "5      True\n",
       "6      True\n",
       "7      True\n",
       "8      True\n",
       "9      True\n",
       "10     True\n",
       "11     True\n",
       "12     True\n",
       "13     True\n",
       "14     True\n",
       "15     True\n",
       "16     True\n",
       "17     True\n",
       "18    False\n",
       "19     True\n",
       "Name: genres_clean, dtype: bool"
      ]
     },
     "execution_count": 5,
     "metadata": {},
     "output_type": "execute_result"
    }
   ],
   "source": [
    "movieDat['genres_clean'].apply(any).head(20)"
   ]
  },
  {
   "cell_type": "code",
   "execution_count": 6,
   "metadata": {},
   "outputs": [
    {
     "data": {
      "text/plain": [
       "(81741, 373)"
      ]
     },
     "execution_count": 6,
     "metadata": {},
     "output_type": "execute_result"
    }
   ],
   "source": [
    "movieDat.shape"
   ]
  },
  {
   "cell_type": "code",
   "execution_count": 7,
   "metadata": {},
   "outputs": [],
   "source": [
    "# Now filter dataset to those that contain these genres and take top 10,000 highest grossing\n",
    "movieDat['topGenresOnly'] = movieDat['genres_clean'].apply(lambda x: set(x).intersection(topGenres))\n",
    "containsGenreBool = movieDat['topGenresOnly'].apply(any)\n",
    "movies = movieDat.loc[(containsGenreBool) & (movieDat['revenue'].notnull())]\n",
    "movies = movies.sort_values('revenue', ascending=False)\n",
    "# finalDat = movies.merge(synopsisDat, how = 'inner', on='wikiID').iloc[:10000]\n",
    "finalDat = movies.merge(synopsisDat, how = 'inner', on='wikiID')\n",
    "\n",
    "\n",
    "# Split into X and y and preprocess\n",
    "X = np.array(finalDat['synopsis'].apply(gensim.utils.simple_preprocess))\n",
    "y = np.array(finalDat['topGenresOnly'])\n",
    "\n",
    "all_words = set(w for words in X for w in words)\n",
    "vocab_size = len(all_words)\n",
    "embed_size = 200"
   ]
  },
  {
   "cell_type": "code",
   "execution_count": 8,
   "metadata": {},
   "outputs": [],
   "source": [
    "# For use in keras NN\n",
    "MAX_SEQUENCE_LENGTH = 1000\n",
    "MAX_NUM_WORDS = 30000\n",
    "batch_size = 32\n",
    "\n",
    "tokenizer = Tokenizer(num_words=MAX_NUM_WORDS)\n",
    "tokenizer.fit_on_texts(finalDat['synopsis'])\n",
    "seq = tokenizer.texts_to_sequences(finalDat['synopsis'])\n",
    "word_index = tokenizer.word_index\n",
    "\n",
    "# Cut down to the top X words\n",
    "index_word = {v: k for k, v in word_index.items() if v < (MAX_NUM_WORDS + 1)}"
   ]
  },
  {
   "cell_type": "markdown",
   "metadata": {},
   "source": [
    "### Task 2: Split the data\n",
    "\n",
    "Make a dataset of 70% train and 30% test. Sweet."
   ]
  },
  {
   "cell_type": "code",
   "execution_count": 9,
   "metadata": {},
   "outputs": [],
   "source": [
    "X_train, X_test, y_train, y_test = train_test_split(X, y, test_size = .30, random_state=10)"
   ]
  },
  {
   "cell_type": "code",
   "execution_count": 10,
   "metadata": {},
   "outputs": [],
   "source": [
    "mlb2 = MultiLabelBinarizer()\n",
    "train_labels = mlb2.fit_transform([list(y) for y in y_train])\n",
    "test_labels = mlb2.transform([list(y) for y in y_test])\n",
    "\n",
    "# x_train = pad_sequences(X_train, maxlen=maxlen, padding='post')\n",
    "# x_test = pad_sequences(X_test, maxlen=maxlen, padding='post')"
   ]
  },
  {
   "cell_type": "markdown",
   "metadata": {},
   "source": [
    "### Task 3a: Build a model using ONLY word2vec\n",
    "\n",
    "Woah what? I don't think that's recommended...\n",
    "\n",
    "In fact it's a commonly accepted practice. What you will want to do is average the word vectors that will be input for a given synopsis (https://docs.scipy.org/doc/numpy/reference/generated/numpy.mean.html) and then input that averaged vector as your feature space into a model. For this example, use a Support Vector Machine classifier. For your first time doing this, train a model in Gensim and use the output vectors.\n"
   ]
  },
  {
   "cell_type": "code",
   "execution_count": 11,
   "metadata": {},
   "outputs": [],
   "source": [
    "# Need to convert X_train and X_test to matrix of values by\n",
    "# substituting each word to get its mean embedded score\n",
    "\n",
    "def convert_word_mat_to_mean_embed(word_mat, w2v):\n",
    "    dim = len(next(iter(w2v.values())))\n",
    "    return np.array([np.mean([w2v[w] for w in words if w in w2v]\n",
    "                             or [np.zeros(dim)], axis=0)\n",
    "                     for words in word_mat])"
   ]
  },
  {
   "cell_type": "code",
   "execution_count": 12,
   "metadata": {},
   "outputs": [],
   "source": [
    "def runMod(mod, gensim_model):\n",
    "    w2embed = {w: vec for w, vec in zip(gensim_model.wv.index2word, \n",
    "                                    gensim_model.wv.syn0)}\n",
    "    clf = OneVsRestClassifier(mod(random_state=10))\n",
    "    train_x = convert_word_mat_to_mean_embed(X_train, w2embed)\n",
    "    clf.fit(train_x, train_labels)\n",
    "    \n",
    "    test_x = convert_word_mat_to_mean_embed(X_test, w2embed)\n",
    "    preds = clf.predict(test_x)\n",
    "    acc = metrics.accuracy_score(test_labels, preds)\n",
    "    return (clf, acc)"
   ]
  },
  {
   "cell_type": "code",
   "execution_count": 13,
   "metadata": {},
   "outputs": [
    {
     "data": {
      "text/plain": [
       "0"
      ]
     },
     "execution_count": 13,
     "metadata": {},
     "output_type": "execute_result"
    }
   ],
   "source": [
    "model_user = gensim.models.Word2Vec(X_train, size=embed_size, \n",
    "                                window=5, min_count=5, workers=-1)\n",
    "model_user.train(X_train,total_examples=len(X_train),epochs=10)"
   ]
  },
  {
   "cell_type": "code",
   "execution_count": 14,
   "metadata": {},
   "outputs": [],
   "source": [
    "svc_user = runMod(LinearSVC, model_user)"
   ]
  },
  {
   "cell_type": "markdown",
   "metadata": {},
   "source": [
    "### Task 3b: Do the same thing but with pretrained embeddings\n",
    "\n",
    "Now pull down the Google News word embeddings and do the same thing. Compare the results. Why was one better than the other?"
   ]
  },
  {
   "cell_type": "code",
   "execution_count": 15,
   "metadata": {},
   "outputs": [],
   "source": [
    "model_w2v = gensim.models.KeyedVectors.load_word2vec_format('../data/GoogleNews-vectors-negative300.bin.gz', binary=True)"
   ]
  },
  {
   "cell_type": "code",
   "execution_count": 16,
   "metadata": {},
   "outputs": [],
   "source": [
    "svc_w2v = runMod(LinearSVC, model_w2v)"
   ]
  },
  {
   "cell_type": "code",
   "execution_count": 17,
   "metadata": {},
   "outputs": [
    {
     "name": "stdout",
     "output_type": "stream",
     "text": [
      "Accuracy of SVC User: 0.10576015108593012\n",
      "Accuracy of SVC W2V: 0.22898961284230407\n"
     ]
    }
   ],
   "source": [
    "print('Accuracy of SVC User: {}'.format(svc_user[1]))\n",
    "print('Accuracy of SVC W2V: {}'.format(svc_w2v[1]))"
   ]
  },
  {
   "cell_type": "markdown",
   "metadata": {},
   "source": [
    "The Google Word2Vec model is about double as good as the trained model, most likely due to the fact that it was trained on a bigger corpus. That bigger corpus is more likely to include sequences of data that are found in the test data that may not be in the training data.  \n",
    "\n",
    "That being said, neither model does well in classying genres..."
   ]
  },
  {
   "cell_type": "markdown",
   "metadata": {},
   "source": [
    "### Task 4: Build a neural net model using word2vec embeddings (both pretrained and within an Embedding layer from Keras)"
   ]
  },
  {
   "cell_type": "code",
   "execution_count": 18,
   "metadata": {},
   "outputs": [],
   "source": [
    "def create_int_word_dict(model):\n",
    "    mapdict = {}\n",
    "    for i in range(len(model.wv.vocab)):\n",
    "        word = model.wv.index2word[i]\n",
    "        mapdict[word] = i\n",
    "    return mapdict"
   ]
  },
  {
   "cell_type": "code",
   "execution_count": 19,
   "metadata": {},
   "outputs": [],
   "source": [
    "def create_embed_matrix(model, all_words=all_words, embed_size=embed_size):\n",
    "    \"Create a weight matrix for words\"\n",
    "    vocab_size = len(all_words)\n",
    "    embedding_matrix = np.zeros((vocab_size, embed_size))\n",
    "    n = 0\n",
    "    word_list = list(all_words)\n",
    "    for i in range(vocab_size):\n",
    "        word = word_list[i]\n",
    "        if word in model.wv.vocab:\n",
    "            embedding_vector = model.wv[word]\n",
    "            if embedding_vector is not None:\n",
    "                embedding_matrix[n] = embedding_vector[:embed_size]\n",
    "                n += 1\n",
    "\n",
    "    return embedding_matrix[:n, :]\n"
   ]
  },
  {
   "cell_type": "code",
   "execution_count": 20,
   "metadata": {},
   "outputs": [],
   "source": [
    "# Convert X datasets from words to numbers\n",
    "def convert_word_to_num(word_mat, max_len = MAX_SEQUENCE_LENGTH):\n",
    "    new_mat = []\n",
    "    for review in word_mat:\n",
    "        tmp = []\n",
    "        for w in review:\n",
    "            if w in word_index:\n",
    "                tmp.append(word_index[w])\n",
    "\n",
    "            else:\n",
    "                tmp.append(0)\n",
    "        new_mat.append(tmp)\n",
    "\n",
    "    return pad_sequences(new_mat, padding='post', maxlen=max_len)    "
   ]
  },
  {
   "cell_type": "code",
   "execution_count": 21,
   "metadata": {},
   "outputs": [],
   "source": [
    "x_train = convert_word_to_num(X_train)\n",
    "x_test = convert_word_to_num(X_test, max_len=x_train.shape[1])"
   ]
  },
  {
   "cell_type": "code",
   "execution_count": 22,
   "metadata": {},
   "outputs": [],
   "source": [
    "def run_keras_model1(gensim_model, batch_size=batch_size, \n",
    "                     create_emebed_mat = False):\n",
    "    \n",
    "    # For embedding layer\n",
    "    if create_emebed_mat:\n",
    "        embed_matrix = create_embed_matrix(gensim_model)\n",
    "        e = Embedding(embed_matrix.shape[0], embed_matrix.shape[1],\n",
    "                      weights=[embed_matrix],\n",
    "                     input_length=x_train.shape[1], trainable=False)\n",
    "    else:\n",
    "        e = gensim_model.wv.get_keras_embedding()\n",
    "        e.input_length = x_train.shape[1]    \n",
    "    \n",
    "    # define model\n",
    "    print('Build model...')\n",
    "    keras_mod = Sequential()\n",
    "    # e = Embedding(vocab_size, embed_size, weights=[embed_matrix], \n",
    "    #               input_length=maxlen, trainable=False)\n",
    "    keras_mod.add(e)\n",
    "    keras_mod.add(Flatten())\n",
    "    keras_mod.add(Dense(10, activation='sigmoid'))\n",
    "    # compile the model\n",
    "    keras_mod.compile(optimizer='adam', loss='binary_crossentropy',\n",
    "                      metrics=['acc'])\n",
    "    # summarize the model\n",
    "    print(keras_mod.summary())\n",
    "    # fit the model\n",
    "    keras_mod.fit(x_train, train_labels,\n",
    "              batch_size=batch_size,\n",
    "              epochs=5,\n",
    "              validation_data=(x_test, test_labels))\n",
    "\n",
    "    score, acc = keras_mod.evaluate(x_test, test_labels,\n",
    "                                batch_size=batch_size)\n",
    "    return (keras_mod, acc)    "
   ]
  },
  {
   "cell_type": "code",
   "execution_count": 23,
   "metadata": {},
   "outputs": [
    {
     "name": "stdout",
     "output_type": "stream",
     "text": [
      "Build model...\n",
      "_________________________________________________________________\n",
      "Layer (type)                 Output Shape              Param #   \n",
      "=================================================================\n",
      "embedding_1 (Embedding)      (None, 1000, 200)         4570600   \n",
      "_________________________________________________________________\n",
      "flatten_1 (Flatten)          (None, 200000)            0         \n",
      "_________________________________________________________________\n",
      "dense_1 (Dense)              (None, 10)                2000010   \n",
      "=================================================================\n",
      "Total params: 6,570,610\n",
      "Trainable params: 2,000,010\n",
      "Non-trainable params: 4,570,600\n",
      "_________________________________________________________________\n",
      "None\n",
      "Train on 4941 samples, validate on 2118 samples\n",
      "Epoch 1/5\n",
      "4941/4941 [==============================] - 4s 857us/step - loss: 0.4704 - acc: 0.7929 - val_loss: 0.4515 - val_acc: 0.7954\n",
      "Epoch 2/5\n",
      "4941/4941 [==============================] - 4s 759us/step - loss: 0.4356 - acc: 0.8066 - val_loss: 0.4439 - val_acc: 0.7957\n",
      "Epoch 3/5\n",
      "4941/4941 [==============================] - 4s 743us/step - loss: 0.4225 - acc: 0.8104 - val_loss: 0.4405 - val_acc: 0.7960\n",
      "Epoch 4/5\n",
      "4941/4941 [==============================] - 4s 800us/step - loss: 0.4119 - acc: 0.8154 - val_loss: 0.4384 - val_acc: 0.7967\n",
      "Epoch 5/5\n",
      "4941/4941 [==============================] - 4s 762us/step - loss: 0.4019 - acc: 0.8199 - val_loss: 0.4373 - val_acc: 0.7961\n",
      "2118/2118 [==============================] - 0s 221us/step\n"
     ]
    }
   ],
   "source": [
    "keras_user = run_keras_model1(model_user, create_emebed_mat=True)"
   ]
  },
  {
   "cell_type": "code",
   "execution_count": 24,
   "metadata": {
    "scrolled": false
   },
   "outputs": [
    {
     "name": "stdout",
     "output_type": "stream",
     "text": [
      "Build model...\n",
      "_________________________________________________________________\n",
      "Layer (type)                 Output Shape              Param #   \n",
      "=================================================================\n",
      "embedding_2 (Embedding)      (None, 1000, 200)         8292000   \n",
      "_________________________________________________________________\n",
      "flatten_2 (Flatten)          (None, 200000)            0         \n",
      "_________________________________________________________________\n",
      "dense_2 (Dense)              (None, 10)                2000010   \n",
      "=================================================================\n",
      "Total params: 10,292,010\n",
      "Trainable params: 2,000,010\n",
      "Non-trainable params: 8,292,000\n",
      "_________________________________________________________________\n",
      "None\n",
      "Train on 4941 samples, validate on 2118 samples\n",
      "Epoch 1/5\n",
      "4941/4941 [==============================] - 4s 778us/step - loss: 1.2120 - acc: 0.7565 - val_loss: 1.1973 - val_acc: 0.7596\n",
      "Epoch 2/5\n",
      "4941/4941 [==============================] - 4s 769us/step - loss: 0.7508 - acc: 0.8789 - val_loss: 0.9635 - val_acc: 0.7774\n",
      "Epoch 3/5\n",
      "4941/4941 [==============================] - 4s 781us/step - loss: 0.5759 - acc: 0.9075 - val_loss: 1.0273 - val_acc: 0.7898\n",
      "Epoch 4/5\n",
      "4941/4941 [==============================] - 4s 775us/step - loss: 0.4922 - acc: 0.9280 - val_loss: 1.2216 - val_acc: 0.7491\n",
      "Epoch 5/5\n",
      "4941/4941 [==============================] - 4s 765us/step - loss: 0.4595 - acc: 0.9412 - val_loss: 1.1091 - val_acc: 0.7849\n",
      "2118/2118 [==============================] - 1s 243us/step\n"
     ]
    }
   ],
   "source": [
    "keras_w2v = run_keras_model1(model_w2v, 32, create_emebed_mat=True)"
   ]
  },
  {
   "cell_type": "code",
   "execution_count": 25,
   "metadata": {},
   "outputs": [
    {
     "name": "stdout",
     "output_type": "stream",
     "text": [
      "Accuracy of Keras User: 0.796081213370261\n",
      "Accuracy of Keras W2V: 0.7848914016294974\n"
     ]
    }
   ],
   "source": [
    "print('Accuracy of Keras User: {}'.format(keras_user[1]))\n",
    "print('Accuracy of Keras W2V: {}'.format(keras_w2v[1]))"
   ]
  },
  {
   "cell_type": "markdown",
   "metadata": {},
   "source": [
    "### Task 5: Change the architecture of your model and compare the result"
   ]
  },
  {
   "cell_type": "code",
   "execution_count": 26,
   "metadata": {},
   "outputs": [],
   "source": [
    "def run_keras_model2(gensim_model, batch_size=batch_size, \n",
    "                     create_emebed_mat = False):\n",
    "    \n",
    "    # For embedding layer\n",
    "    if create_emebed_mat:\n",
    "        embed_matrix = create_embed_matrix(gensim_model)\n",
    "        e = Embedding(embed_matrix.shape[0], embed_matrix.shape[1],                      weights=[embed_matrix],\n",
    "                     input_length=x_train.shape[1], trainable=False)\n",
    "    else:\n",
    "        e = gensim_model.wv.get_keras_embedding()\n",
    "        e.input_length = x_train.shape[1]    \n",
    "    \n",
    "    # define model\n",
    "    print('Build model...')\n",
    "    keras_mod = Sequential()\n",
    "    # e = Embedding(vocab_size, embed_size, weights=[embed_matrix], \n",
    "    #               input_length=maxlen, trainable=False)\n",
    "    keras_mod.add(e)\n",
    "    keras_mod.add(Flatten())\n",
    "    keras_mod.add(Dense(100, activation='relu'))\n",
    "    Dropout(.5, noise_shape=None, seed=42)    \n",
    "    keras_mod.add(Dense(100, activation='relu'))\n",
    "    Dropout(.5, noise_shape=None, seed=42)    \n",
    "    keras_mod.add(Dense(100, activation='relu'))\n",
    "    Dropout(.3, noise_shape=None, seed=42)    \n",
    "    keras_mod.add(Dense(10, activation='sigmoid'))\n",
    "    # compile the model\n",
    "    keras_mod.compile(optimizer='adam', loss='binary_crossentropy', \n",
    "                      metrics=['acc'])\n",
    "    # summarize the model\n",
    "    print(keras_mod.summary())\n",
    "    # fit the model\n",
    "    keras_mod.fit(x_train, train_labels,\n",
    "              batch_size=batch_size,\n",
    "              epochs=10,\n",
    "              validation_data=(x_test, test_labels))\n",
    "\n",
    "    score, acc = keras_mod.evaluate(x_test, test_labels,\n",
    "                                batch_size=batch_size)\n",
    "    return (keras_mod, acc)    "
   ]
  },
  {
   "cell_type": "code",
   "execution_count": 27,
   "metadata": {},
   "outputs": [
    {
     "name": "stdout",
     "output_type": "stream",
     "text": [
      "Build model...\n",
      "_________________________________________________________________\n",
      "Layer (type)                 Output Shape              Param #   \n",
      "=================================================================\n",
      "embedding_3 (Embedding)      (None, 1000, 200)         4570600   \n",
      "_________________________________________________________________\n",
      "flatten_3 (Flatten)          (None, 200000)            0         \n",
      "_________________________________________________________________\n",
      "dense_3 (Dense)              (None, 100)               20000100  \n",
      "_________________________________________________________________\n",
      "dense_4 (Dense)              (None, 100)               10100     \n",
      "_________________________________________________________________\n",
      "dense_5 (Dense)              (None, 100)               10100     \n",
      "_________________________________________________________________\n",
      "dense_6 (Dense)              (None, 10)                1010      \n",
      "=================================================================\n",
      "Total params: 24,591,910\n",
      "Trainable params: 20,021,310\n",
      "Non-trainable params: 4,570,600\n",
      "_________________________________________________________________\n",
      "None\n",
      "Train on 4941 samples, validate on 2118 samples\n",
      "Epoch 1/10\n",
      "4941/4941 [==============================] - 15s 3ms/step - loss: 0.4553 - acc: 0.7935 - val_loss: 0.4399 - val_acc: 0.7936\n",
      "Epoch 2/10\n",
      "4941/4941 [==============================] - 15s 3ms/step - loss: 0.4259 - acc: 0.7969 - val_loss: 0.4345 - val_acc: 0.7939\n",
      "Epoch 3/10\n",
      "4941/4941 [==============================] - 15s 3ms/step - loss: 0.3828 - acc: 0.8259 - val_loss: 0.4630 - val_acc: 0.7811\n",
      "Epoch 4/10\n",
      "4941/4941 [==============================] - 15s 3ms/step - loss: 0.2930 - acc: 0.8747 - val_loss: 0.4885 - val_acc: 0.7890\n",
      "Epoch 5/10\n",
      "4941/4941 [==============================] - 15s 3ms/step - loss: 0.2256 - acc: 0.9066 - val_loss: 0.4866 - val_acc: 0.7925\n",
      "Epoch 6/10\n",
      "4941/4941 [==============================] - 15s 3ms/step - loss: 0.1715 - acc: 0.9310 - val_loss: 0.5950 - val_acc: 0.7752\n",
      "Epoch 7/10\n",
      "4941/4941 [==============================] - 15s 3ms/step - loss: 0.1313 - acc: 0.9486 - val_loss: 0.6119 - val_acc: 0.7751\n",
      "Epoch 8/10\n",
      "4941/4941 [==============================] - 15s 3ms/step - loss: 0.1112 - acc: 0.9567 - val_loss: 0.7079 - val_acc: 0.7894\n",
      "Epoch 9/10\n",
      "4941/4941 [==============================] - 15s 3ms/step - loss: 0.0917 - acc: 0.9642 - val_loss: 0.6648 - val_acc: 0.7943\n",
      "Epoch 10/10\n",
      "4941/4941 [==============================] - 15s 3ms/step - loss: 0.0766 - acc: 0.9701 - val_loss: 0.7864 - val_acc: 0.7816\n",
      "2118/2118 [==============================] - 1s 251us/step\n"
     ]
    }
   ],
   "source": [
    "keras_user_mod2 = run_keras_model2(model_user, create_emebed_mat = True)"
   ]
  },
  {
   "cell_type": "code",
   "execution_count": 28,
   "metadata": {},
   "outputs": [
    {
     "name": "stdout",
     "output_type": "stream",
     "text": [
      "Build model...\n",
      "_________________________________________________________________\n",
      "Layer (type)                 Output Shape              Param #   \n",
      "=================================================================\n",
      "embedding_4 (Embedding)      (None, 1000, 200)         8292000   \n",
      "_________________________________________________________________\n",
      "flatten_4 (Flatten)          (None, 200000)            0         \n",
      "_________________________________________________________________\n",
      "dense_7 (Dense)              (None, 100)               20000100  \n",
      "_________________________________________________________________\n",
      "dense_8 (Dense)              (None, 100)               10100     \n",
      "_________________________________________________________________\n",
      "dense_9 (Dense)              (None, 100)               10100     \n",
      "_________________________________________________________________\n",
      "dense_10 (Dense)             (None, 10)                1010      \n",
      "=================================================================\n",
      "Total params: 28,313,310\n",
      "Trainable params: 20,021,310\n",
      "Non-trainable params: 8,292,000\n",
      "_________________________________________________________________\n",
      "None\n",
      "Train on 4941 samples, validate on 2118 samples\n",
      "Epoch 1/10\n",
      "4941/4941 [==============================] - 15s 3ms/step - loss: 0.5305 - acc: 0.7721 - val_loss: 0.4778 - val_acc: 0.7831\n",
      "Epoch 2/10\n",
      "4941/4941 [==============================] - 15s 3ms/step - loss: 0.3803 - acc: 0.8335 - val_loss: 0.5071 - val_acc: 0.7542\n",
      "Epoch 3/10\n",
      "4941/4941 [==============================] - 15s 3ms/step - loss: 0.2932 - acc: 0.8767 - val_loss: 0.5602 - val_acc: 0.7932\n",
      "Epoch 4/10\n",
      "4941/4941 [==============================] - 15s 3ms/step - loss: 0.2124 - acc: 0.9118 - val_loss: 0.5473 - val_acc: 0.7798\n",
      "Epoch 5/10\n",
      "4941/4941 [==============================] - 15s 3ms/step - loss: 0.1789 - acc: 0.9262 - val_loss: 0.6328 - val_acc: 0.7597\n",
      "Epoch 6/10\n",
      "4941/4941 [==============================] - 15s 3ms/step - loss: 0.1540 - acc: 0.9355 - val_loss: 0.6707 - val_acc: 0.7915\n",
      "Epoch 7/10\n",
      "4941/4941 [==============================] - 15s 3ms/step - loss: 0.1303 - acc: 0.9466 - val_loss: 0.8559 - val_acc: 0.7877\n",
      "Epoch 8/10\n",
      "4941/4941 [==============================] - 15s 3ms/step - loss: 0.1166 - acc: 0.9517 - val_loss: 0.8040 - val_acc: 0.7646\n",
      "Epoch 9/10\n",
      "4941/4941 [==============================] - 15s 3ms/step - loss: 0.1143 - acc: 0.9540 - val_loss: 0.8375 - val_acc: 0.7856\n",
      "Epoch 10/10\n",
      "4941/4941 [==============================] - 15s 3ms/step - loss: 0.0905 - acc: 0.9632 - val_loss: 0.9929 - val_acc: 0.7908\n",
      "2118/2118 [==============================] - 1s 280us/step\n"
     ]
    }
   ],
   "source": [
    "keras_w2v_mod2 = run_keras_model2(model_w2v, create_emebed_mat = True)"
   ]
  },
  {
   "cell_type": "code",
   "execution_count": 29,
   "metadata": {},
   "outputs": [
    {
     "name": "stdout",
     "output_type": "stream",
     "text": [
      "Accuracy of Keras Mod 2 User: 0.781633611441334\n",
      "Accuracy of Keras Mod 2 W2V: 0.7907932000524936\n"
     ]
    }
   ],
   "source": [
    "print('Accuracy of Keras Mod 2 User: {}'.format(keras_user_mod2[1]))\n",
    "print('Accuracy of Keras Mod 2 W2V: {}'.format(keras_w2v_mod2[1]))"
   ]
  },
  {
   "cell_type": "markdown",
   "metadata": {},
   "source": [
    "### Task 6: For each model, do an error evaluation\n",
    "\n",
    "You now have a bunch of classifiers. For each classifier, pick 2 good classifications and 2 bad classifications. Print the expected and predicted label, and also print the movie synopsis. From these results, can you spot some systematic errors from your models?"
   ]
  },
  {
   "cell_type": "code",
   "execution_count": 30,
   "metadata": {},
   "outputs": [],
   "source": [
    "classes = np.asarray(mlb2.classes_)\n",
    "\n",
    "def print_pretty(partition, preds, model_name):\n",
    "    print('{} Predicted classes: {}'.\n",
    "           format(model_name, classes[preds[partition].astype(bool)]))\n",
    "    print('{} Actual classes: {}'.\n",
    "          format(model_name, classes[test_labels[partition].astype(bool)]))\n",
    "    print('{} Synopsis:\\n{}'.\n",
    "          format(model_name, ' '.join(X_test[partition])))\n",
    "\n",
    "def find_mix_max_error(preds):\n",
    "    num_errs = np.sum(abs(preds - test_labels), axis=1)    \n",
    "    max_err_indx = np.argpartition(num_errs, -2)[-2:]\n",
    "    min_err_indx = np.argpartition(num_errs, 2)[:2]\n",
    "    return (max_err_indx, min_err_indx)\n",
    "\n",
    "def print_good_and_bad_from_models(model, model_name):\n",
    "    pred_prob = model[0].predict(x_test)\n",
    "\n",
    "    # Define class as top probability plus any that are within 5%\n",
    "    preds = np.apply_along_axis(lambda x: np.where(x > (max(x) - .05), 1, 0),\n",
    "                                axis=1, arr=pred_prob)\n",
    "\n",
    "    # Calculate errors\n",
    "    max_err_indx, min_err_indx = find_mix_max_error(preds)\n",
    "\n",
    "    # Print out synopsis and errors\n",
    "    print('------------------')\n",
    "    print('--- Max Error ----')\n",
    "    print('------------------')\n",
    "    for partition in max_err_indx:\n",
    "        print('')\n",
    "        print_pretty(partition, preds, model_name)\n",
    "        print('')\n",
    "    \n",
    "\n",
    "    print('------------------')\n",
    "    print('--- Min Error ----')\n",
    "    print('------------------')\n",
    "    for partition in min_err_indx:\n",
    "        print('')\n",
    "        print_pretty(partition, preds, model_name)\n",
    "        print('')"
   ]
  },
  {
   "cell_type": "code",
   "execution_count": 32,
   "metadata": {
    "scrolled": false
   },
   "outputs": [
    {
     "name": "stdout",
     "output_type": "stream",
     "text": [
      "------------------\n",
      "--- Max Error ----\n",
      "------------------\n",
      "\n",
      "Keras User Mod 1 Predicted classes: ['Drama']\n",
      "Keras User Mod 1 Actual classes: ['Action' 'Comedy' 'Crime Fiction' 'Romance Film' 'Thriller']\n",
      "Keras User Mod 1 Synopsis:\n",
      "cody banks year old high school student applies for junior position for the central intelligence agency after completing his summer camp for cia agents answering to his handler agent ronica miles cody is called upon mission to find information about scientist named dr albert connors connors is employed by spectre type organization named eris led by dr brinkman and his henchman françois molay as all cia agents are known to brinkman organization the cia uses the unknown banks who is placed into the prep school of dr connors daughter natalie the william donovan institute cody soon finds he has no social skill with girls and has no time to do this while balancing his chores and homework the cia decides to help by doing his chores and homework trying to build his status and going into the school to set him up with natalie the cia also assemble varying team of experts to train cody into how to talk to girls and issue him with variety of gadgets with various functions eventually cody befriends and falls in love with natalie after saving her from falling off ladder while putting up banner and he is invited to her th birthday party where he goes undercover to her father lab cody finds that dr brinkman is planning to use nanobots which can destroy any carbon or silicon based substance to destroy the world defense systems so he can threaten anyone who opposes him since the nanobots are inactive in the cold he plans to use ice cubes to distribute them after connors brinkman and françois leave the lab cody attempts to steal one of the ice cubes only for it to melt when in his possession shortly after this cody gets into fight with number of bullies at the party the fight makes the school newspaper causing the cia to remove him from the mission for fear he may have blown his cover meanwhile with connors refusing to aid him in his plans dr brinkman sends françois and some men to catch natalie and bring her into his base in the cascade mountains meanwhile disobeying orders to stay away from her cody and natalie eat ice cream at restaurant cody attempts to explain things to natalie but françois and group of men come over to their table and fight with cody knocking him unconscious and taking natalie cody is removed from the mission and his parents punish him for staying out past his curfew cody gets his brother alex to make sure his parents do not find out that he is gone by giving him the the cia gave him knowing natalie location via tracking device in necklace he gave her as birthday present cody breaks into the cia weapons hold and steals rocket powered snowboard and other devices to rescue natalie cody gets ride to the top of the mountain and snowboards to the factory where natalie is held on the way he gets caught in grove of trees as ronica finds him using solotrek xfv after convincing ronica that they need to rescue natalie the pair infiltrate the laboratory and cody rescues natalie also explaining the truth about why he went out with her however the trio are captured by brinkman men although cody quickly manages to escape natalie is held hostage by dr brinkman who puts an ice cube with nanobot inside on her forehead to make her father program the system cody sets off series of explosive charges he and ronica had planted throughout the base and in the ensuing battle ronica fights off several of dr brinkman men and natalie kills dr brinkman by placing the ice cube with the nanobots into his mouth causing it to melt and the nanobots to devour him from the inside out cody later defeats françois and sends him to the cia using the solotrek xfv before fleeing the facility with ronica natalie and dr connors before it explodes the film ends with cody and natalie sharing their first kiss\n",
      "\n",
      "\n",
      "Keras User Mod 1 Predicted classes: ['Drama']\n",
      "Keras User Mod 1 Actual classes: ['Action' 'Comedy' 'Crime Fiction' 'Romance Film' 'Thriller']\n",
      "Keras User Mod 1 Synopsis:\n",
      "years ago mob boss named lucio malatesta pinned the murder of rival sammy carboni on another rival named angelo allieghieri which led to sammy son gianni vowing revenge frankie delano has spent his life safeguarding angelo as well as angelo daughter jennifer barrett whose unsavory husband kip barrett has had their young son rawley placed in boarding school against jennifer wishes jennifer was raised by her adoptive parents whitney towers and peggy towers and is not aware that angelo is her father after angelo is killed in restaurant by hit man named bruno frankie introduces himself tells jennifer who he is and what he has been doing neurotic mess jennifer can barely handle the news that kip is philanderer let alone the revelation that she is gangster daughter but dvd prepared by angelo in the case of just such an event convinces jennifer that it the truth jennifer certainly doesn want full time bodyguard even frankie she ditches kip and then falls for italian romance novelist marcello who lectures at her book club frankie has suspicions about marcello but his job is to stay on the sidelines frankie rescues jennifer from string of attacks with many of angelo enemies including lucio malatesta terminated frankie allows her to visit italy with marcello but it turns out that marcello is actually gianni carboni who had angelo killed and now gianni plans to kill jennifer it up to frankie to protect her one more time\n",
      "\n",
      "------------------\n",
      "--- Min Error ----\n",
      "------------------\n",
      "\n",
      "Keras User Mod 1 Predicted classes: ['Drama']\n",
      "Keras User Mod 1 Actual classes: ['Drama']\n",
      "Keras User Mod 1 Synopsis:\n",
      "joe gideon is theatre director and choreographer trying to balance work on his latest broadway musical with editing hollywood film he has directed he is workaholic who chain smokes cigarettes and chain sleeps with his dancers without daily dose of vivaldi visine alka seltzer dexedrine and sex he wouldn have the energy to keep up the biggest show of all his life his girlfriend katie jagger his ex wife audrey paris and daughter michelle try to pull him back from the brink but it is too late for his exhausted body and stress ravaged heart decades of overwork and constant stress have gotten to gideon in his imagination he flirts with an angel of death named angelique gideon condition gets progressively worse he is rushed to hospital with chest pains after particularly stressful script rehearsal and admitted with severe attacks of angina joe brushes off his symptoms and attempts to leave to go back to rehearsal but he collapses in the doctor office and is ordered to stay in the hospital for three to four weeks to rest his heart and recover from his exhaustion the show is postponed but gideon continues his antics from the hospital bed champagne flows endless strings of women frolic around his hospital room and the cigarettes are always lit cardiogram readings don show any improvement gideon is playing with death as the paltry reviews for his feature film come in gideon has massive coronary and is taken straight to coronary artery bypass surgery the backers for the broadway show must decide now whether it time to pack up or replace gideon as the director their matter of fact money oriented negotiations with the insurers are juxtaposed with graphic scenes of open heart surgery the producers realize that the best way to recoup their money and make profit is to bet on gideon dying which would bring in profit of over usd meanwhile elements from gideon past life are staged in dazzling dream sequences of musical numbers he directs from his hospital bed while on life support realizing his death is imminent his mortality unconquerable gideon has another heart attack in the glittery finale he goes through the five stages of death anger denial bargaining depression and acceptance featured in the stand up routine he has been editing as death closes in on gideon the fantasy episodes become more hallucinatory and extravagant and in final epilogue that is set up as truly monumental live variety show featuring everyone from his past gideon himself takes center stage\n",
      "\n",
      "\n",
      "Keras User Mod 1 Predicted classes: ['Drama']\n",
      "Keras User Mod 1 Actual classes: ['Drama']\n",
      "Keras User Mod 1 Synopsis:\n",
      "shikokuchuo is town that specializes in making calligraphy paper however the town had been devastated by the japanese recession and many shops in the town shopping arcade were forced to close over at tsumishima high school calligraphy club membership crisis ensues after many of its members left the club in quick succession satoko refused to be worried and continues to focus on her work for the upcoming national calligraphy competition one day new relief teacher ikezawa was assigned to the calligraphy club as its adviser after satoko and kana mistook him as thief they threw calligraphy ink on him thus leaving bad first impression after hearing that the club only has members left ikezawa puts up performance calligraphy show to attract new members this enraged satoko who strongly believes in the traditional method of calligraphy however another member kiyomi was deeply impressed by the performance and started practicing it putting her at odds with satoko who later chases her away from the club satoko later has change of heart when she realizes how much calligraphy meant to kiyomi she also agreed to put up performance to commemorate the closure of the shop that kiyomi father runs ultimately the performance was failure but the club members were surprised at the number of people who came to watch their performance just before kiyomi moved to hiroshima she requested satoko to continue practicing performance calligraphy at around the same time tomoya grandfather paper making workshop burnt down after tomoya grandfather started burning the high quality calligraphy paper he made that no shop wanted to purchase satoko got revelation that all was not lost after she found an unburnt calligraphy paper amidst all the rubble the calligraphy club then got to work convincing the town residents to support their idea of starting performance calligraphy competition and to drum up publicity for the event the members wanted the competition to revive their dying town they started practicing very hard but were frustrated due to the lack of progress initially reluctant ikezawa finally stepped in to coach them after much persuasion even after practicing for long time ikezawa still thinks that their work is still missing something to overcome this problem the club members decide to persuade mio former talented club member back into the club they eventually succeed and their work gets big boost meanwhile many schools from around the region have volunteered to participate in the competition even the national media have reported about the upcoming competition to make the competition more meaningful the members decide only to use the town famed calligraphy paper even though those they had were too fragile upon seeing their determination satoko father who was initially opposed to the competition commissioned tomoya grandfather to make suitably strong calligraphy paper as sign of his support on the day of the competition the team faced strong teams from other high schools during their performance they were off to good start however several mishaps occurred and their work was ruined despite this setback the team did not give up and completed their work after the performance ikezawa left the town in the background poster was advertising the next edition of the competition ikezawa later opened letter containing group photograph of the team and the words thank you written behind meanwhile the members of the calligraphy club vowed to not to lose again at the next edition of the competition after receiving challenge letter from another school\n",
      "\n"
     ]
    }
   ],
   "source": [
    "print_good_and_bad_from_models(keras_user, 'Keras User Mod 1')"
   ]
  },
  {
   "cell_type": "code",
   "execution_count": 33,
   "metadata": {},
   "outputs": [
    {
     "name": "stdout",
     "output_type": "stream",
     "text": [
      "------------------\n",
      "--- Max Error ----\n",
      "------------------\n",
      "\n",
      "Keras W2V Mod 1 Predicted classes: ['Comedy']\n",
      "Keras W2V Mod 1 Actual classes: ['Action' 'Crime Fiction' 'Drama' 'Indie' 'Thriller']\n",
      "Keras W2V Mod 1 Synopsis:\n",
      "frank white drug lord is riding into new york in limousine after being released from sing sing emilio el zapa colombian drug dealer is shot to death in telephone booth as the killers leave one of them drops newspaper headline which announces frank release across town zapa partner king tito is in hotel room with jimmy jump and test tube who are negotiating the purchase of cocaine jimmy and test tube shoot tito and his bodyguards and steal the cocaine later in suite at the plaza hotel frank is greeted by jimmy test tube and other members of his gang who welcome him home with champagne and briefcase full of money frank leaves to meet two of his lawyers joey dalesio and jennifer for dinner frank expresses his desire to be mayor and asks dalesio to set up meeting with mafia boss arty clay he and jennifer leave to take ride on the subway confronted by three muggers frank first brandishes his gun then gives them wad of money telling them to ask for him at the plaza hotel if they want work dalesio goes to little italy to set up meeting with clay but the mafia don urinates on dalesio shoes and tells him it is message for his boss on hearing this frank jump and other members of the gang go to clay social club where frank tells clay that he wants percentage of all clay profits when clay insults him frank shoots the mafioso as he leaves frank tells clay men that they can all find employment at the plaza the next night frank is confronted by detectives roy bishop dennis gilley and thomas flanigan of the nypd narcotics squad who say they are taking him in instead they drive him to an empty lot where they show him the body of emilio el zapa in the trunk when frank refuses to confess gilley and flanigan beat him and leave him in the lot frank sends dalesio to chinatown to make contact with larry wong local triad leader who has million worth of cocaine larry is leery and demands that they meet alone on neutral ground to discuss the deal larry demands million up front and another after the drugs are sold frank counters that the two should team up then split the profits evenly larry turns him down and demands that frank decide immediately whether he wants to buy the drugs frank declines jimmy jump and several of frank lieutenants are arrested by gilley and flanigan who reveal that one of tito bodyguards is alive and willing to testify when frank learns of his men arrest he orders his lawyers to arrange their release and sends limousine to pick them up they head to chinatown where they kill larry and his gang they find the cocaine in the basement gilley flanigan and other officers resolve to use illegal means to get rid of frank posing as drug dealers they bribe dalesio into leading them to the nightclub where frank and his men are partying the cops burst in shooting slaying several members of frank gang fleeing over the queensboro bridge frank and jump trade shots with the police killing all but gilley and flanigan after evading their pursuers the two men split up jump shoots flanigan in the chest puncturing his ballistic vest gilley kills jump with single shot to the head few days later at flanigan funeral frank kills gilley that night after his men kill dalesio frank goes to bishop apartment telling him that he has placed bounty on every detective involved in the case holding bishop at gunpoint frank explains that he killed tito larry arty clay and zapa because he disapproved of their businesses including human trafficking and child prostitution before he leaves frank forces bishop to handcuff himself to chair as frank heads to the subway bishop uses hidden gun to free himself following frank into subway car bishop corners him frank shoots bishop killing him but the policeman is able to fire last shot in taxi in times square frank realizes that he has been hit as police officers surround the car frank closes his eyes and goes limp\n",
      "\n",
      "\n",
      "Keras W2V Mod 1 Predicted classes: ['Comedy']\n",
      "Keras W2V Mod 1 Actual classes: ['Crime Fiction' 'Drama' 'Indie' 'Romance Film' 'Thriller']\n",
      "Keras W2V Mod 1 Synopsis:\n",
      "lovers lula and sailor are separated after he is jailed for killing ndash in self defense ndash man who attacked him with knife the assailant was hired by lula mother marietta fortune upon sailor release lula picks him up at the prison where she hands him his snakeskin jacket they go to hotel where she reserved room make love and go to see the speed metal band powermad at the club sailor gets into fight with man who accosts lula and then leads the band in rendition of elvis presley love me later back in the room after making love again sailor and lula finally decide to run away to california breaking sailor parole lula mother arranges for private detective johnnie farragut mdash her on off boyfriend mdash to find them and bring them back unbeknown to johnnie however marietta also hires gangster marcelles santos to track them and kill sailor unaware of all of the events happening back in north carolina the two are on their way until mdash according to lula mdash they witness bad omen the aftermath of two car accident and the only survivor young woman dies in front of them with little money left sailor heads for big tuna texas where he contacts old friend perdita durango who might be able to help them although she secretly knows he is under contract to be killed by lula mother inevitably while sailor agrees to join up with bobby peru in feed store robbery lula waits for him in the hotel room being sick and pining for better times while sailor is out bobby enters the room and tries to rape lula but at the last second laughs it off and walks out the robbery goes spectacularly wrong when peru unnecessarily shoots two clerks and as they leave the feed store sailor realized he has been given an unloaded pistol bobby then admits to sailor he been hired to kill him but just as he is about to do so the sheriff deputies open fire on him peru accidentally blows his own head off with his own shotgun sailor is arrested and sentenced to five years in prison while sailor is in jail lula has their child her mother vanishes and upon his release she decides to pick him up with their son as they pick him up in the car he reveals he leaving them both having decided while in prison that he isn good enough for them while he is walking short distance away he encounters gang of mostly asian men who surround him he thinks his bravado will carry him through but they quickly knock him out while he is unconscious he sees revelation in the form of glinda the good witch who tells him don turn away from love sailor when he awakes he apologizes to the men and tells them he realizes great many things then screams lula name and runs away as there is traffic jam on the road he begins to run over the roofs and hoods of the cars to get back to lula and their child in the car with the film ending as sailor sings love me tender to lula on the hood of their car as the credits roll\n",
      "\n",
      "------------------\n",
      "--- Min Error ----\n",
      "------------------\n",
      "\n",
      "Keras W2V Mod 1 Predicted classes: ['Drama']\n",
      "Keras W2V Mod 1 Actual classes: ['Drama']\n",
      "Keras W2V Mod 1 Synopsis:\n",
      "shikokuchuo is town that specializes in making calligraphy paper however the town had been devastated by the japanese recession and many shops in the town shopping arcade were forced to close over at tsumishima high school calligraphy club membership crisis ensues after many of its members left the club in quick succession satoko refused to be worried and continues to focus on her work for the upcoming national calligraphy competition one day new relief teacher ikezawa was assigned to the calligraphy club as its adviser after satoko and kana mistook him as thief they threw calligraphy ink on him thus leaving bad first impression after hearing that the club only has members left ikezawa puts up performance calligraphy show to attract new members this enraged satoko who strongly believes in the traditional method of calligraphy however another member kiyomi was deeply impressed by the performance and started practicing it putting her at odds with satoko who later chases her away from the club satoko later has change of heart when she realizes how much calligraphy meant to kiyomi she also agreed to put up performance to commemorate the closure of the shop that kiyomi father runs ultimately the performance was failure but the club members were surprised at the number of people who came to watch their performance just before kiyomi moved to hiroshima she requested satoko to continue practicing performance calligraphy at around the same time tomoya grandfather paper making workshop burnt down after tomoya grandfather started burning the high quality calligraphy paper he made that no shop wanted to purchase satoko got revelation that all was not lost after she found an unburnt calligraphy paper amidst all the rubble the calligraphy club then got to work convincing the town residents to support their idea of starting performance calligraphy competition and to drum up publicity for the event the members wanted the competition to revive their dying town they started practicing very hard but were frustrated due to the lack of progress initially reluctant ikezawa finally stepped in to coach them after much persuasion even after practicing for long time ikezawa still thinks that their work is still missing something to overcome this problem the club members decide to persuade mio former talented club member back into the club they eventually succeed and their work gets big boost meanwhile many schools from around the region have volunteered to participate in the competition even the national media have reported about the upcoming competition to make the competition more meaningful the members decide only to use the town famed calligraphy paper even though those they had were too fragile upon seeing their determination satoko father who was initially opposed to the competition commissioned tomoya grandfather to make suitably strong calligraphy paper as sign of his support on the day of the competition the team faced strong teams from other high schools during their performance they were off to good start however several mishaps occurred and their work was ruined despite this setback the team did not give up and completed their work after the performance ikezawa left the town in the background poster was advertising the next edition of the competition ikezawa later opened letter containing group photograph of the team and the words thank you written behind meanwhile the members of the calligraphy club vowed to not to lose again at the next edition of the competition after receiving challenge letter from another school\n",
      "\n",
      "\n",
      "Keras W2V Mod 1 Predicted classes: ['Drama']\n",
      "Keras W2V Mod 1 Actual classes: ['Drama']\n",
      "Keras W2V Mod 1 Synopsis:\n",
      "london hospital surgeon frederick treves discovers john merrick in victorian freak show in london east end where he is managed by the brutish bytes merrick is deformed to the point that he must wear hood and cap when in public and bytes claims he is an imbecile treves is professionally intrigued by merrick condition and pays bytes to bring him to the hospital so that he can examine him there treves presents merrick to his colleagues in lecture theatre displaying him as physiological curiosity treves draws attention to merrick most life threatening deformity his abnormally large skull which compels him to sleep with his head resting upon his knees as the weight of his skull would asphyxiate him if he were to ever lie down on merrick return bytes beats him severely enough that sympathetic apprentice alerts treves who returns him to the hospital bytes accuses treves of likewise exploiting merrick for his own ends leading the surgeon to resolve to do what he can to help the unfortunate man the ward nurses are horrified by merrick appearance so treves places him in quarantine room under the watchful care of the formidable matron mrs mothershead mr carr gomm the hospital governor is reluctant to house merrick as the hospital is not designed as residence for incurables to persuade carr gomm that merrick has potential treves coaches him to recite few polite phrases carr gomm sees through the ruse but as he walks away both men are astonished to hear merrick recite the rd psalm shocked by this display of intelligence carr gomm allows merrick to remain merrick is gradually revealed to be sophisticated and articulate carr gomm arranges suite of rooms for him to reside in at the hospital and merrick passes his days reading drawing and making model of church visible through his window one day treves brings him to take afternoon tea at home together with his wife ann merrick overwhelmed by the familial love he perceives in the domesticity about him shows them his most treasured possession picture of his mother and expresses his wish that she would love him if she could only see what lovely friends he now has later merrick begins to receive society visitors in his rooms including the celebrated actress madge kendal he becomes popular object of curiosity and charity to high society as these connections and visits increase mrs mothershead complains to treves that he is still being treated as freak show attraction albeit in more upper class celebrated style for treves part this observation deeply trouble him and he begins to question whether or not he has done the right thing and while merrick is treated well during the daytime the night porter secretly makes money by bringing punters from nearby pubs to gawk at merrick threatened dissent at board meeting toward the decision to keep merrick indefinitely is overturned when the hospital royal patron alexandra pays surprise visit with message from queen victoria stating that merrick will receive permanent care at the hospital and the necessary funds have been arranged but merrick is then returned to his old life when bytes gains access to his room during one of the night porter late night viewings bytes abducts merrick to continental europe where he is once again put on show and subjected to cruelty and neglect treves consumed with guilt over merrick plight takes action against the night porter with the help of mrs mothershead merrick escapes with the help of his fellow freak show attractions and makes it back to london however he is harassed by group of boys at liverpool street station and accidentally knocks down young girl he is chased unmasked and cornered by an angry mob at which point he cries out am not an elephant am not an animal am human being am man before collapsing when the police return merrick to the hospital he is reinstated to his rooms he recovers little but it is soon clear he is dying from chronic obstructive pulmonary disease as treat mrs kendal arranges an evening at the musical theatre resplendent in white tie he rises in the royal box to an ovation having had the performance dedicated to him from mrs kendal that night back at the hospital merrick thanks treves for all he has done and finishes his model of the nearby church imitating one of his sketches on the wall sleeping child he removes the pillows that have allowed him to sleep in an upright position lies down on his bed and dies consoled by vision of his mother mary jane merrick quoting alfred lord tennyson nothing will die\n",
      "\n"
     ]
    }
   ],
   "source": [
    "print_good_and_bad_from_models(keras_w2v, 'Keras W2V Mod 1')"
   ]
  },
  {
   "cell_type": "code",
   "execution_count": 34,
   "metadata": {
    "scrolled": false
   },
   "outputs": [
    {
     "name": "stdout",
     "output_type": "stream",
     "text": [
      "------------------\n",
      "--- Max Error ----\n",
      "------------------\n",
      "\n",
      "Keras User Mod2 Predicted classes: ['Comedy' 'Romance Film']\n",
      "Keras User Mod2 Actual classes: ['Action' 'Crime Fiction' 'Drama' 'Indie' 'Thriller']\n",
      "Keras User Mod2 Synopsis:\n",
      "martin is law school student who takes job as night watchman at morgue when necrophiliac serial killer begins plaguing the city martin finds himself the target of the madman wrath\n",
      "\n",
      "\n",
      "Keras User Mod2 Predicted classes: ['Action' 'Black-and-white' 'Comedy' 'Crime Fiction' 'Drama' 'Indie'\n",
      " 'Romance Film' 'Short Film' 'Thriller' 'World cinema']\n",
      "Keras User Mod2 Actual classes: ['Action' 'Drama' 'Thriller']\n",
      "Keras User Mod2 Synopsis:\n",
      "the film opens with series of photographs of the stella maris college old christians rugby team carlitos páez explains that the pictures were taken by his father and points out several members of the team including himself as young man alex morales felipe restano nando parrado and the team captain antonio balbi carlitos then reflects on the accident in brief monologue speaking of heroism the gravity of the situation and of solitude and faith the story moves to october as uruguayan air force flight flies over the andes the raucous rugby players and few of their relatives and friends are eagerly looking forward to the upcoming match in chile nando sister susana praises the beauty of the mountains and happily observes that the plane will be landing in minutes however after emerging from clouds the plane encounters turbulence and collides with an unknown mountain peak during the collision the wing and tail are separated from the fuselage of the plane and the remnants of the fuselage slide down mountain slope before coming to complete stop antonio the team captain takes charge of the situation co ordinating efforts to help his injured teammates roberto canessa and gustavo zerbino both medical students are the first to address the injured six passengers and one flight attendant are killed when they are ejected from the plane and another six die shortly afterward including both pilots alex nando mom eugenia and an older couple nando who sustained head injury falls into coma and susana suffers harsh internal injuries as the sun sets the survivors begin to make preparations for the night canessa discovers that the seat covers can be unzipped and used as blankets the survivors go inside the fuselage and curl up beside one another to stay warm antonio roy harley and rafael cano plug the gaping hole at the end of the fuselage with luggage to keep the wind out two passengers die during the night from their injuries including mrs alfonsín causing carlitos to feel ashamed after earlier yelling at her as she moaned about the pain she had been experiencing with nothing to hunt or gather on the mountain antonio declares they will use rationing when the survivors find tin of chocolates and case of wine after seeing plane dip its wing the survivors celebrate expecting to be rescued the next day everyone except javier his wife liliana and antonio eat the remaining chocolates the survivors listen to radio for word of their rescue but are devastated to hear the search is called off after day nine this causes quarrel between antonio and several others for eating the chocolate meanwhile nando regains consciousness through the care of carlitos and hugo diaz after learning of his mother death nando watches over susana vigilantly knowing that she will die of her injuries within few days he vows to set off on foot and find way out of the mountains when carlitos reminds him that he will need food nando suggests consuming flesh from the corpses of the deceased pilots to survive his journey to find help susana dies from her injuries after great debate the remaining passengers decide to eat the flesh of their dead companions in order to survive zerbino rafael and juan martino set off to search for the tail of the plane in hopes of finding the batteries for the plane radio to transmit their location among pieces of the wreckage the teammates find additional corpses but return to the group with news that the tail of the plane is likely little farther away later in the week an avalanche hits the plane and floods the interior with snow most manage to climb out of the snow but some are unable to escape eight of the remaining survivors are smothered by the snow or freeze to death including antonio liliana and juan liliana was the final of the five women aboard to die second team made up of nando canessa and antonio tintin vizintin finds the tail of the plane unable to bring the batteries to the fuselage they return to the fuselage to get roy who is rumoured to have experience setting up electrical equipment they bring him to the tail of the plane where the batteries are to see if he can fix the radio when roy is unsuccessful the team returns to the fuselage once more federico aranda and alberto antuna die from their injuries soon after and rafael soon dies after from an illness leading nando to convince reluctant canessa to search for way out of the mountains taking tintin with them two days into the journey they send tintin back to the fuselage so they can appropriate his rations and continue on after day trek the two escape the mountains and alert the authorities of their companions location as helicopters land on the glacier the other survivors celebrate the film then shifts to the present as carlitos explains the survivors later returned to the site of the crash and buried the bodies of the dead under pile of stones marked with cross about half mile away the memorial is then displayed with the film dedication to both the deceased and survivors\n",
      "\n",
      "------------------\n",
      "--- Min Error ----\n",
      "------------------\n",
      "\n",
      "Keras User Mod2 Predicted classes: ['Drama']\n",
      "Keras User Mod2 Actual classes: ['Drama']\n",
      "Keras User Mod2 Synopsis:\n",
      "joe gideon is theatre director and choreographer trying to balance work on his latest broadway musical with editing hollywood film he has directed he is workaholic who chain smokes cigarettes and chain sleeps with his dancers without daily dose of vivaldi visine alka seltzer dexedrine and sex he wouldn have the energy to keep up the biggest show of all his life his girlfriend katie jagger his ex wife audrey paris and daughter michelle try to pull him back from the brink but it is too late for his exhausted body and stress ravaged heart decades of overwork and constant stress have gotten to gideon in his imagination he flirts with an angel of death named angelique gideon condition gets progressively worse he is rushed to hospital with chest pains after particularly stressful script rehearsal and admitted with severe attacks of angina joe brushes off his symptoms and attempts to leave to go back to rehearsal but he collapses in the doctor office and is ordered to stay in the hospital for three to four weeks to rest his heart and recover from his exhaustion the show is postponed but gideon continues his antics from the hospital bed champagne flows endless strings of women frolic around his hospital room and the cigarettes are always lit cardiogram readings don show any improvement gideon is playing with death as the paltry reviews for his feature film come in gideon has massive coronary and is taken straight to coronary artery bypass surgery the backers for the broadway show must decide now whether it time to pack up or replace gideon as the director their matter of fact money oriented negotiations with the insurers are juxtaposed with graphic scenes of open heart surgery the producers realize that the best way to recoup their money and make profit is to bet on gideon dying which would bring in profit of over usd meanwhile elements from gideon past life are staged in dazzling dream sequences of musical numbers he directs from his hospital bed while on life support realizing his death is imminent his mortality unconquerable gideon has another heart attack in the glittery finale he goes through the five stages of death anger denial bargaining depression and acceptance featured in the stand up routine he has been editing as death closes in on gideon the fantasy episodes become more hallucinatory and extravagant and in final epilogue that is set up as truly monumental live variety show featuring everyone from his past gideon himself takes center stage\n",
      "\n",
      "\n",
      "Keras User Mod2 Predicted classes: ['Drama']\n",
      "Keras User Mod2 Actual classes: ['Drama']\n",
      "Keras User Mod2 Synopsis:\n",
      "london hospital surgeon frederick treves discovers john merrick in victorian freak show in london east end where he is managed by the brutish bytes merrick is deformed to the point that he must wear hood and cap when in public and bytes claims he is an imbecile treves is professionally intrigued by merrick condition and pays bytes to bring him to the hospital so that he can examine him there treves presents merrick to his colleagues in lecture theatre displaying him as physiological curiosity treves draws attention to merrick most life threatening deformity his abnormally large skull which compels him to sleep with his head resting upon his knees as the weight of his skull would asphyxiate him if he were to ever lie down on merrick return bytes beats him severely enough that sympathetic apprentice alerts treves who returns him to the hospital bytes accuses treves of likewise exploiting merrick for his own ends leading the surgeon to resolve to do what he can to help the unfortunate man the ward nurses are horrified by merrick appearance so treves places him in quarantine room under the watchful care of the formidable matron mrs mothershead mr carr gomm the hospital governor is reluctant to house merrick as the hospital is not designed as residence for incurables to persuade carr gomm that merrick has potential treves coaches him to recite few polite phrases carr gomm sees through the ruse but as he walks away both men are astonished to hear merrick recite the rd psalm shocked by this display of intelligence carr gomm allows merrick to remain merrick is gradually revealed to be sophisticated and articulate carr gomm arranges suite of rooms for him to reside in at the hospital and merrick passes his days reading drawing and making model of church visible through his window one day treves brings him to take afternoon tea at home together with his wife ann merrick overwhelmed by the familial love he perceives in the domesticity about him shows them his most treasured possession picture of his mother and expresses his wish that she would love him if she could only see what lovely friends he now has later merrick begins to receive society visitors in his rooms including the celebrated actress madge kendal he becomes popular object of curiosity and charity to high society as these connections and visits increase mrs mothershead complains to treves that he is still being treated as freak show attraction albeit in more upper class celebrated style for treves part this observation deeply trouble him and he begins to question whether or not he has done the right thing and while merrick is treated well during the daytime the night porter secretly makes money by bringing punters from nearby pubs to gawk at merrick threatened dissent at board meeting toward the decision to keep merrick indefinitely is overturned when the hospital royal patron alexandra pays surprise visit with message from queen victoria stating that merrick will receive permanent care at the hospital and the necessary funds have been arranged but merrick is then returned to his old life when bytes gains access to his room during one of the night porter late night viewings bytes abducts merrick to continental europe where he is once again put on show and subjected to cruelty and neglect treves consumed with guilt over merrick plight takes action against the night porter with the help of mrs mothershead merrick escapes with the help of his fellow freak show attractions and makes it back to london however he is harassed by group of boys at liverpool street station and accidentally knocks down young girl he is chased unmasked and cornered by an angry mob at which point he cries out am not an elephant am not an animal am human being am man before collapsing when the police return merrick to the hospital he is reinstated to his rooms he recovers little but it is soon clear he is dying from chronic obstructive pulmonary disease as treat mrs kendal arranges an evening at the musical theatre resplendent in white tie he rises in the royal box to an ovation having had the performance dedicated to him from mrs kendal that night back at the hospital merrick thanks treves for all he has done and finishes his model of the nearby church imitating one of his sketches on the wall sleeping child he removes the pillows that have allowed him to sleep in an upright position lies down on his bed and dies consoled by vision of his mother mary jane merrick quoting alfred lord tennyson nothing will die\n",
      "\n"
     ]
    }
   ],
   "source": [
    "print_good_and_bad_from_models(keras_user_mod2, 'Keras User Mod2')"
   ]
  },
  {
   "cell_type": "code",
   "execution_count": 35,
   "metadata": {
    "scrolled": false
   },
   "outputs": [
    {
     "name": "stdout",
     "output_type": "stream",
     "text": [
      "------------------\n",
      "--- Max Error ----\n",
      "------------------\n",
      "\n",
      "Keras W2V Mod2 Predicted classes: ['Comedy']\n",
      "Keras W2V Mod2 Actual classes: ['Crime Fiction' 'Drama' 'Romance Film' 'Thriller' 'World cinema']\n",
      "Keras W2V Mod2 Synopsis:\n",
      "in madrid in enrique goded young film director is looking for his next project when he receives the unexpected visit of an actor looking for work the actor claims to be enrique boarding school friend and first love ignacio rodriguez ignacio who is using now the name ángel andrade has brought with him short story titled the visit hoping that enrique would be interested in making film out of it giving him the starring role enrique is intrigued since the visit described their time together at the catholic school and it also includes fictionalized account of their reunion many years later as adults the visit is set in it tells the story of drag artist and transsexual called zahara whose name at birth is ignacio zahara plans to rob drunken admirer but discovers that the man is her boyhood lover enrique next she visits her old school and confronts father manolo who abused her when she was boy she demands one million pesetas from him in exchange for halting publication of her story the visit the story is set in catholic boarding school for boys in at the school ignacio young boy with beautiful singing voice is the object of lust of father manolo the school principal and literature teacher ignacio has found his first love and cinema in the company of enrique classmate one night father manolo discovers them together and threatens to expel enrique in an attempt to prevent this ignacio gives himself to father manolo the priest molests ignacio but expels enrique anyway enrique wants to adapt ignacio story into film but ángel condition is that he plays the part of zahara the transsexual lead enrique remains skeptical for he feels that the ignacio whom he loved and the ignacio of today are totally different people he drives to galicia to ignacio mother and learns that the real ignacio has been dead for four years and that the man who came to his office is really ignacio younger brother juan enrique interest is piqued and he decides to do the movie with juan in the role of ignacio to find out what drives juan enrique and ángel start relationship and enrique revises the script so that it ends with father manolo whom ignacio was trying to blackmail to get money for sex reassignment surgery having ignacio murdered when the scene is shot ángel breaks out in tears unexpectedly the movie set is visited by manuel berenguer who is the real father manolo who has resigned from church duty berenguer confesses to enrique that the new ending of the film is not far from the truth the real ignacio blackmailed berenguer who somehow managed to scratch together the money but also took an interest in ignacio younger brother juan juan and manuel started relationship and after while realized they both wanted to see ignacio dead juan scored some very pure heroin so that his brother would die by overdose after shooting up after the crime the relationship disintegrates berenguer wants to continue the relationship with juan but juan is uninterested berenguer claims that he will never let juan go and juan threatens to kill him if berenguer continues to pursue him berenguer attempts to blackmail juan for his part in the murder of ignacio enrique is shocked and not at all interested in juan weak vindications for what he did to his brother finally before he leaves juan gives enrique piece of paper letter to enrique that ignacio was in the middle of typing when he died in the epilogue it is mentioned that enrique releases his film later and achieves great success despite the grief and guilt of his brother juan also achieves success but was later relegated to television work berenguer dies in hit and run\n",
      "\n",
      "\n",
      "Keras W2V Mod2 Predicted classes: ['Comedy']\n",
      "Keras W2V Mod2 Actual classes: ['Action' 'Crime Fiction' 'Drama' 'Thriller' 'World cinema']\n",
      "Keras W2V Mod2 Synopsis:\n",
      "after an ex gangster named wang jae is killed by gang of punks his four childhood friends come back together for the first time in nearly twenty years each of them has gone different ways tae soo detective pil ho powerful mobster who once worked with wang jae seok hwan reformed mobster and his brother dong hwan math teacher they reminisce about times gone their mischievous teen years and pact they made on school picnic young wang jae made snake tonic and buried the bottle vowing that twenty years later they would all gather and drink it after they became wealthy men after the funeral both tae su and seok hwan deal with their grief by investigating the murder while on the case tae su is attacked by massive gang of youths who use baseball bats hockey sticks and even yo yo as weaponry tae su barely escapes with help from seok hwan and the two team up taking their revenge on the crazies the next day after hunting the gangs down one by one and beating the tar out of them they discover that wang jae death wasn random attack but actually planned after capturing one of the murderers they find out that wang jae was actually targeted by his once good friend pil ho who he fell out with during negotiations to turn their city into tourist district after giving the murderer protection so he can testify against pil ho the killer killed by an assassin who douses him in gasoline and lights him on fire tae su realizing there no legal way to take pil ho down faces off with him but is beaten by his bodyguards and only left alive out of some sort of pity at the same time seok hwan and his mother and brother are hit by truck seok hwan survives but his family is dead killed by pil ho men the two nearly destroyed men meet at the funeral where wang jae widow who is also pil ho sister gives them information that they can use to seek their revenge the two friends no longer bound by the law storm pil ho fortress during the negotiations for casino only armed with pair of wooden bokken they fight their way through sea of cooks with butcher knives long hallway lined with bodyguards man with katana and finally four of pil ho elite guards with hands and feet pil ho having bludgeoned the president he was meeting with after being insulted by him faces the exhausted men and easily crushes both of them he stabs tae su ignoring seok hwan who binds the katana to his hand with bandages and stabs pil ho through the chest killing him tae su bleeds to death and seok hwan merely kneels among the carnage they have wrought uttering only fuck the film ends with the young versions of themselves walking back from the school picnic talking about their future they talk about coming back for the snake tonic when they become rich men don worry one of them says we won amount to much anyway\n",
      "\n",
      "------------------\n",
      "--- Min Error ----\n",
      "------------------\n",
      "\n",
      "Keras W2V Mod2 Predicted classes: ['Drama']\n",
      "Keras W2V Mod2 Actual classes: ['Drama']\n",
      "Keras W2V Mod2 Synopsis:\n",
      "joe gideon is theatre director and choreographer trying to balance work on his latest broadway musical with editing hollywood film he has directed he is workaholic who chain smokes cigarettes and chain sleeps with his dancers without daily dose of vivaldi visine alka seltzer dexedrine and sex he wouldn have the energy to keep up the biggest show of all his life his girlfriend katie jagger his ex wife audrey paris and daughter michelle try to pull him back from the brink but it is too late for his exhausted body and stress ravaged heart decades of overwork and constant stress have gotten to gideon in his imagination he flirts with an angel of death named angelique gideon condition gets progressively worse he is rushed to hospital with chest pains after particularly stressful script rehearsal and admitted with severe attacks of angina joe brushes off his symptoms and attempts to leave to go back to rehearsal but he collapses in the doctor office and is ordered to stay in the hospital for three to four weeks to rest his heart and recover from his exhaustion the show is postponed but gideon continues his antics from the hospital bed champagne flows endless strings of women frolic around his hospital room and the cigarettes are always lit cardiogram readings don show any improvement gideon is playing with death as the paltry reviews for his feature film come in gideon has massive coronary and is taken straight to coronary artery bypass surgery the backers for the broadway show must decide now whether it time to pack up or replace gideon as the director their matter of fact money oriented negotiations with the insurers are juxtaposed with graphic scenes of open heart surgery the producers realize that the best way to recoup their money and make profit is to bet on gideon dying which would bring in profit of over usd meanwhile elements from gideon past life are staged in dazzling dream sequences of musical numbers he directs from his hospital bed while on life support realizing his death is imminent his mortality unconquerable gideon has another heart attack in the glittery finale he goes through the five stages of death anger denial bargaining depression and acceptance featured in the stand up routine he has been editing as death closes in on gideon the fantasy episodes become more hallucinatory and extravagant and in final epilogue that is set up as truly monumental live variety show featuring everyone from his past gideon himself takes center stage\n",
      "\n",
      "\n",
      "Keras W2V Mod2 Predicted classes: ['Drama']\n",
      "Keras W2V Mod2 Actual classes: ['Drama']\n",
      "Keras W2V Mod2 Synopsis:\n",
      "shikokuchuo is town that specializes in making calligraphy paper however the town had been devastated by the japanese recession and many shops in the town shopping arcade were forced to close over at tsumishima high school calligraphy club membership crisis ensues after many of its members left the club in quick succession satoko refused to be worried and continues to focus on her work for the upcoming national calligraphy competition one day new relief teacher ikezawa was assigned to the calligraphy club as its adviser after satoko and kana mistook him as thief they threw calligraphy ink on him thus leaving bad first impression after hearing that the club only has members left ikezawa puts up performance calligraphy show to attract new members this enraged satoko who strongly believes in the traditional method of calligraphy however another member kiyomi was deeply impressed by the performance and started practicing it putting her at odds with satoko who later chases her away from the club satoko later has change of heart when she realizes how much calligraphy meant to kiyomi she also agreed to put up performance to commemorate the closure of the shop that kiyomi father runs ultimately the performance was failure but the club members were surprised at the number of people who came to watch their performance just before kiyomi moved to hiroshima she requested satoko to continue practicing performance calligraphy at around the same time tomoya grandfather paper making workshop burnt down after tomoya grandfather started burning the high quality calligraphy paper he made that no shop wanted to purchase satoko got revelation that all was not lost after she found an unburnt calligraphy paper amidst all the rubble the calligraphy club then got to work convincing the town residents to support their idea of starting performance calligraphy competition and to drum up publicity for the event the members wanted the competition to revive their dying town they started practicing very hard but were frustrated due to the lack of progress initially reluctant ikezawa finally stepped in to coach them after much persuasion even after practicing for long time ikezawa still thinks that their work is still missing something to overcome this problem the club members decide to persuade mio former talented club member back into the club they eventually succeed and their work gets big boost meanwhile many schools from around the region have volunteered to participate in the competition even the national media have reported about the upcoming competition to make the competition more meaningful the members decide only to use the town famed calligraphy paper even though those they had were too fragile upon seeing their determination satoko father who was initially opposed to the competition commissioned tomoya grandfather to make suitably strong calligraphy paper as sign of his support on the day of the competition the team faced strong teams from other high schools during their performance they were off to good start however several mishaps occurred and their work was ruined despite this setback the team did not give up and completed their work after the performance ikezawa left the town in the background poster was advertising the next edition of the competition ikezawa later opened letter containing group photograph of the team and the words thank you written behind meanwhile the members of the calligraphy club vowed to not to lose again at the next edition of the competition after receiving challenge letter from another school\n",
      "\n"
     ]
    }
   ],
   "source": [
    "print_good_and_bad_from_models(keras_w2v_mod2, 'Keras W2V Mod2')"
   ]
  },
  {
   "cell_type": "markdown",
   "metadata": {},
   "source": [
    "**Drama** and **Comedy** must be the most common genres since the algorithm seems most likely to predict one or both of these genres.  The algorithm seems more likely to fail when there are multiple genres for a movie and at least one of those genres isn't **drama** or **comedy**. "
   ]
  },
  {
   "cell_type": "code",
   "execution_count": null,
   "metadata": {},
   "outputs": [],
   "source": []
  }
 ],
 "metadata": {
  "anaconda-cloud": {},
  "kernelspec": {
   "display_name": "Python [conda env:tensorflow2]",
   "language": "python",
   "name": "conda-env-tensorflow2-py"
  },
  "language_info": {
   "codemirror_mode": {
    "name": "ipython",
    "version": 3
   },
   "file_extension": ".py",
   "mimetype": "text/x-python",
   "name": "python",
   "nbconvert_exporter": "python",
   "pygments_lexer": "ipython3",
   "version": "3.6.4"
  }
 },
 "nbformat": 4,
 "nbformat_minor": 2
}

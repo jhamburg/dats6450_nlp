{
 "cells": [
  {
   "cell_type": "code",
   "execution_count": 1,
   "metadata": {},
   "outputs": [
    {
     "data": {
      "application/javascript": [
       "IPython.notebook.set_autosave_interval(0)"
      ]
     },
     "metadata": {},
     "output_type": "display_data"
    },
    {
     "name": "stdout",
     "output_type": "stream",
     "text": [
      "Autosave disabled\n"
     ]
    }
   ],
   "source": [
    "%autosave 0"
   ]
  },
  {
   "cell_type": "markdown",
   "metadata": {},
   "source": [
    "## Assignment 2 - Movie Classification, the sequel\n",
    "![](https://images-na.ssl-images-amazon.com/images/S/sgp-catalog-images/region_US/paramount-01376-Full-Image_GalleryBackground-en-US-1484000188762._RI_SX940_.jpg)\n",
    "\n",
    "\n",
    "#### In this assignment, we will learn a little more about word2vec and then use the resulting vectors to make some predictions.\n",
    "\n",
    "We will be working with a movie synopsis dataset, found here: http://www.cs.cmu.edu/~ark/personas/\n",
    "\n",
    "The overall goal should sound a little familiar - based on the movie synopses, we will classify movie genre. Some of your favorites should be in this dataset, and hopefully, based on the genre specific terminology of the movie synopses, we will be able to figure out which movies are which type."
   ]
  },
  {
   "cell_type": "markdown",
   "metadata": {},
   "source": [
    "### Task 1: clean your dataset!\n",
    "\n",
    "For your input data:\n",
    "\n",
    "1. Find the top 10 movie genres\n",
    "2. Remove any synopses that don't fit into these genres\n",
    "3. Take the top 10,000 reviews in terms of \"Movie box office revenue\"\n",
    "\n",
    "Congrats, you've got a dataset! For each movie, some of them may have multiple classifications. To deal with this, you'll have to look at the Reuters dataset classification code that we used previously and possibly this example: https://github.com/keras-team/keras/blob/master/examples/reuters_mlp.py\n",
    "\n",
    "We want to use categorical cross-entropy as our loss function (or a one vs. all classifier in the case of SVM) because our data will potentially have multiple classes!"
   ]
  },
  {
   "cell_type": "code",
   "execution_count": 2,
   "metadata": {},
   "outputs": [
    {
     "name": "stderr",
     "output_type": "stream",
     "text": [
      "C:\\Users\\Hamburg\\Anaconda3\\envs\\tensorflow2\\lib\\site-packages\\gensim\\utils.py:860: UserWarning: detected Windows; aliasing chunkize to chunkize_serial\n",
      "  warnings.warn(\"detected Windows; aliasing chunkize to chunkize_serial\")\n",
      "C:\\Users\\Hamburg\\Anaconda3\\envs\\tensorflow2\\lib\\site-packages\\h5py\\__init__.py:36: FutureWarning: Conversion of the second argument of issubdtype from `float` to `np.floating` is deprecated. In future, it will be treated as `np.float64 == np.dtype(float).type`.\n",
      "  from ._conv import register_converters as _register_converters\n",
      "Using TensorFlow backend.\n"
     ]
    }
   ],
   "source": [
    "import pandas as pd\n",
    "import numpy as np\n",
    "import re\n",
    "from sklearn.model_selection import train_test_split\n",
    "from sklearn.preprocessing import MultiLabelBinarizer\n",
    "from sklearn.multioutput import MultiOutputClassifier\n",
    "from sklearn.multiclass import OneVsRestClassifier\n",
    "from sklearn.svm import SVC, LinearSVC\n",
    "from sklearn.pipeline import Pipeline\n",
    "from sklearn import metrics\n",
    "import gensim\n",
    "import word2vec\n",
    "\n",
    "import keras\n",
    "from keras.preprocessing.text import Tokenizer\n",
    "from keras.preprocessing.sequence import pad_sequences\n",
    "from keras.models import Sequential\n",
    "from keras.layers.core import Dense, Activation, Dropout\n",
    "from keras.layers import Flatten\n",
    "from keras.layers import Embedding\n",
    "from keras.layers import LSTM\n",
    "from keras.regularizers import l2"
   ]
  },
  {
   "cell_type": "code",
   "execution_count": 3,
   "metadata": {},
   "outputs": [],
   "source": [
    "import keras.backend as K\n",
    "\n",
    "def precision(y_true, y_pred):\n",
    "    \"\"\"Precision metric.\n",
    "\n",
    "    Only computes a batch-wise average of precision.\n",
    "\n",
    "    Computes the precision, a metric for multi-label classification of\n",
    "    how many selected items are relevant.\n",
    "    \"\"\"\n",
    "    true_positives = K.sum(K.round(K.clip(y_true * y_pred, 0, 1)))\n",
    "    predicted_positives = K.sum(K.round(K.clip(y_pred, 0, 1)))\n",
    "    precision = true_positives / (predicted_positives + K.epsilon())\n",
    "    return precision\n",
    "\n",
    "\n",
    "def recall(y_true, y_pred):\n",
    "    \"\"\"Recall metric.\n",
    "\n",
    "    Only computes a batch-wise average of recall.\n",
    "\n",
    "    Computes the recall, a metric for multi-label classification of\n",
    "    how many relevant items are selected.\n",
    "    \"\"\"\n",
    "    true_positives = K.sum(K.round(K.clip(y_true * y_pred, 0, 1)))\n",
    "    possible_positives = K.sum(K.round(K.clip(y_true, 0, 1)))\n",
    "    recall = true_positives / (possible_positives + K.epsilon())\n",
    "    return recall"
   ]
  },
  {
   "cell_type": "code",
   "execution_count": 4,
   "metadata": {},
   "outputs": [],
   "source": [
    "dataPath = '../data/MovieSummaries/'\n",
    "movieHeader = ['wikiID', 'freebaseID', 'name', 'releaseDate', 'revenue',\n",
    "               'runtime', 'languages', 'countries', 'genres']\n",
    "movieDat = pd.read_csv(dataPath + 'movie.metadata.tsv', delimiter = '\\t',\n",
    "                      header = None, names = movieHeader)\n",
    "synopsisDat = pd.read_csv(dataPath + 'plot_summaries.txt', delimiter = '\\t',\n",
    "                      header = None, names = ['wikiID', 'synopsis'])"
   ]
  },
  {
   "cell_type": "code",
   "execution_count": 5,
   "metadata": {},
   "outputs": [],
   "source": [
    "# To find top genres, will split the genres into their own columns\n",
    "# since one move can be multiple genres and then sum those columns\n",
    "# to find the max 10\n",
    "\n",
    "### Step 1 -- Convert Genres into a list of genres\n",
    "def cleanGenres(genreDat):\n",
    "    clean = [re.findall(r'\"\\S+\": \"(.+)\"', x) for x in genreDat.split(',')]\n",
    "    return [item for sublist in clean for item in sublist]\n",
    "    \n",
    "movieDat['genres_clean'] = movieDat.genres.apply(cleanGenres)\n",
    "\n",
    "### Step 2 --- \"One Hot Encode\" that list and then join back\n",
    "mlb = MultiLabelBinarizer()\n",
    "movieDat = movieDat.join(pd.DataFrame(mlb.fit_transform(movieDat['genres_clean']),\n",
    "                          columns=mlb.classes_,\n",
    "                          index=movieDat.index))\n",
    "\n",
    "### Step 3 --- Find genres with the largest sums\n",
    "idCols = movieHeader.copy()\n",
    "idCols.extend(['genres_clean'])\n",
    "genreCols = movieDat.columns.difference(idCols)\n",
    "topGenres = movieDat.loc[:, genreCols].sum().nlargest(10).index"
   ]
  },
  {
   "cell_type": "code",
   "execution_count": 6,
   "metadata": {},
   "outputs": [],
   "source": [
    "# Now filter dataset to those that contain these genres and take top 10,000 highest grossing\n",
    "movieDat['topGenresOnly'] = movieDat['genres_clean'].apply(lambda x: set(x).intersection(topGenres))\n",
    "containsGenreBool = movieDat['topGenresOnly'].apply(any)\n",
    "movies = movieDat.loc[(containsGenreBool) & (movieDat['revenue'].notnull())]\n",
    "movies = movies.sort_values('revenue', ascending=False)\n",
    "# finalDat = movies.merge(synopsisDat, how = 'inner', on='wikiID').iloc[:10000]\n",
    "finalDat = movies.merge(synopsisDat, how = 'inner', on='wikiID')\n",
    "\n",
    "\n",
    "# Split into X and y and preprocess\n",
    "X = np.array(finalDat['synopsis'].apply(gensim.utils.simple_preprocess))\n",
    "y = np.array(finalDat['topGenresOnly'])\n",
    "\n",
    "all_words = set(w for words in X for w in words)\n",
    "vocab_size = len(all_words)\n",
    "embed_size = 200"
   ]
  },
  {
   "cell_type": "code",
   "execution_count": 7,
   "metadata": {},
   "outputs": [],
   "source": [
    "# For use in keras NN\n",
    "MAX_SEQUENCE_LENGTH = 1000\n",
    "MAX_NUM_WORDS = 30000\n",
    "batch_size = 32\n",
    "\n",
    "tokenizer = Tokenizer(num_words=MAX_NUM_WORDS)\n",
    "tokenizer.fit_on_texts(finalDat['synopsis'])\n",
    "seq = tokenizer.texts_to_sequences(finalDat['synopsis'])\n",
    "word_index = tokenizer.word_index\n",
    "\n",
    "# Cut down to the top X words\n",
    "index_word = {v: k for k, v in word_index.items() if v < (MAX_NUM_WORDS + 1)}"
   ]
  },
  {
   "cell_type": "markdown",
   "metadata": {},
   "source": [
    "### Task 2: Split the data\n",
    "\n",
    "Make a dataset of 70% train and 30% test. Sweet."
   ]
  },
  {
   "cell_type": "code",
   "execution_count": 8,
   "metadata": {},
   "outputs": [],
   "source": [
    "X_train, X_test, y_train, y_test = train_test_split(X, y, test_size = .30, random_state=10)"
   ]
  },
  {
   "cell_type": "code",
   "execution_count": 9,
   "metadata": {},
   "outputs": [],
   "source": [
    "mlb2 = MultiLabelBinarizer()\n",
    "train_labels = mlb2.fit_transform([list(y) for y in y_train])\n",
    "test_labels = mlb2.transform([list(y) for y in y_test])\n",
    "\n",
    "# x_train = pad_sequences(X_train, maxlen=maxlen, padding='post')\n",
    "# x_test = pad_sequences(X_test, maxlen=maxlen, padding='post')"
   ]
  },
  {
   "cell_type": "markdown",
   "metadata": {},
   "source": [
    "### Task 3a: Build a model using ONLY word2vec\n",
    "\n",
    "Woah what? I don't think that's recommended...\n",
    "\n",
    "In fact it's a commonly accepted practice. What you will want to do is average the word vectors that will be input for a given synopsis (https://docs.scipy.org/doc/numpy/reference/generated/numpy.mean.html) and then input that averaged vector as your feature space into a model. For this example, use a Support Vector Machine classifier. For your first time doing this, train a model in Gensim and use the output vectors.\n"
   ]
  },
  {
   "cell_type": "code",
   "execution_count": 10,
   "metadata": {},
   "outputs": [],
   "source": [
    "# Need to convert X_train and X_test to matrix of values by\n",
    "# substituting each word to get its mean embedded score\n",
    "\n",
    "def convert_word_mat_to_mean_embed(word_mat, w2v):\n",
    "    dim = len(next(iter(w2v.values())))\n",
    "    return np.array([np.mean([w2v[w] for w in words if w in w2v]\n",
    "                             or [np.zeros(dim)], axis=0)\n",
    "                     for words in word_mat])"
   ]
  },
  {
   "cell_type": "code",
   "execution_count": 11,
   "metadata": {},
   "outputs": [],
   "source": [
    "def runMod(mod, gensim_model):\n",
    "    w2embed = {w: vec for w, vec in zip(gensim_model.wv.index2word, \n",
    "                                    gensim_model.wv.syn0)}\n",
    "    clf = OneVsRestClassifier(mod(random_state=10))\n",
    "    train_x = convert_word_mat_to_mean_embed(X_train, w2embed)\n",
    "    clf.fit(train_x, train_labels)\n",
    "    \n",
    "    test_x = convert_word_mat_to_mean_embed(X_test, w2embed)\n",
    "    preds = clf.predict(test_x)\n",
    "    acc = metrics.accuracy_score(test_labels, preds)\n",
    "#     rec = metrics.recall_score(test_labels, preds)\n",
    "#     prec = metrics.precision_score(test_labels, preds)\n",
    "    return (clf, acc)"
   ]
  },
  {
   "cell_type": "code",
   "execution_count": 12,
   "metadata": {},
   "outputs": [
    {
     "data": {
      "text/plain": [
       "0"
      ]
     },
     "execution_count": 12,
     "metadata": {},
     "output_type": "execute_result"
    }
   ],
   "source": [
    "model_user = gensim.models.Word2Vec(X_train, size=embed_size, \n",
    "                                window=5, min_count=5, workers=-1)\n",
    "model_user.train(X_train,total_examples=len(X_train),epochs=10)"
   ]
  },
  {
   "cell_type": "code",
   "execution_count": 13,
   "metadata": {},
   "outputs": [],
   "source": [
    "svc_user = runMod(LinearSVC, model_user)"
   ]
  },
  {
   "cell_type": "markdown",
   "metadata": {},
   "source": [
    "### Task 3b: Do the same thing but with pretrained embeddings\n",
    "\n",
    "Now pull down the Google News word embeddings and do the same thing. Compare the results. Why was one better than the other?"
   ]
  },
  {
   "cell_type": "code",
   "execution_count": 14,
   "metadata": {},
   "outputs": [],
   "source": [
    "model_w2v = gensim.models.KeyedVectors.load_word2vec_format('../data/GoogleNews-vectors-negative300.bin.gz', binary=True)"
   ]
  },
  {
   "cell_type": "code",
   "execution_count": 15,
   "metadata": {},
   "outputs": [],
   "source": [
    "svc_w2v = runMod(LinearSVC, model_w2v)"
   ]
  },
  {
   "cell_type": "code",
   "execution_count": 16,
   "metadata": {},
   "outputs": [
    {
     "name": "stdout",
     "output_type": "stream",
     "text": [
      "\n",
      "    SVC Model User:\n",
      "      Accuracry: 0.10576015108593012\n",
      "      Precision: None\n",
      "      Recall None\n",
      "\n",
      "    SVC Google W2V:\n",
      "      Accuracry: 0.22898961284230407\n",
      "      Precision: None\n",
      "      Recall None\n"
     ]
    }
   ],
   "source": [
    "def print_results(mod, mod_name):\n",
    "    if len(mod) < 4:\n",
    "        while len(mod) < 4:\n",
    "            mod = [item for item in mod]\n",
    "            mod.append(None)\n",
    "            \n",
    "    print(\"\"\"\n",
    "    {}:\n",
    "      Accuracry: {}\n",
    "      Precision: {}\n",
    "      Recall {}\"\"\".\n",
    "          format(mod_name, mod[1], mod[2], mod[3]))\n",
    "\n",
    "print_results(svc_user, 'SVC Model User')\n",
    "print_results(svc_w2v, 'SVC Google W2V')"
   ]
  },
  {
   "cell_type": "markdown",
   "metadata": {},
   "source": [
    "The Google Word2Vec model is about double as good as the trained model, most likely due to the fact that it was trained on a bigger corpus. That bigger corpus is more likely to include sequences of data that are found in the test data that may not be in the training data.  \n",
    "\n",
    "That being said, neither model does well in classying genres..."
   ]
  },
  {
   "cell_type": "markdown",
   "metadata": {},
   "source": [
    "### Task 4: Build a neural net model using word2vec embeddings (both pretrained and within an Embedding layer from Keras)"
   ]
  },
  {
   "cell_type": "code",
   "execution_count": 17,
   "metadata": {},
   "outputs": [],
   "source": [
    "def create_int_word_dict(model):\n",
    "    mapdict = {}\n",
    "    for i in range(len(model.wv.vocab)):\n",
    "        word = model.wv.index2word[i]\n",
    "        mapdict[word] = i\n",
    "    return mapdict"
   ]
  },
  {
   "cell_type": "code",
   "execution_count": 18,
   "metadata": {},
   "outputs": [],
   "source": [
    "def create_embed_matrix(model, all_words=all_words, embed_size=embed_size):\n",
    "    \"Create a weight matrix for words\"\n",
    "    vocab_size = len(all_words)\n",
    "    embedding_matrix = np.zeros((vocab_size, embed_size))\n",
    "    n = 0\n",
    "    word_list = list(all_words)\n",
    "    for i in range(vocab_size):\n",
    "        word = word_list[i]\n",
    "        if word in model.wv.vocab:\n",
    "            embedding_vector = model.wv[word]\n",
    "            if embedding_vector is not None:\n",
    "                embedding_matrix[n] = embedding_vector[:embed_size]\n",
    "                n += 1\n",
    "\n",
    "    return embedding_matrix[:n, :]\n"
   ]
  },
  {
   "cell_type": "code",
   "execution_count": 19,
   "metadata": {},
   "outputs": [],
   "source": [
    "# Convert X datasets from words to numbers\n",
    "def convert_word_to_num(word_mat, max_len = MAX_SEQUENCE_LENGTH):\n",
    "    new_mat = []\n",
    "    for review in word_mat:\n",
    "        tmp = []\n",
    "        for w in review:\n",
    "            if w in word_index:\n",
    "                tmp.append(word_index[w])\n",
    "\n",
    "            else:\n",
    "                tmp.append(0)\n",
    "        new_mat.append(tmp)\n",
    "\n",
    "    return pad_sequences(new_mat, padding='post', maxlen=max_len)    "
   ]
  },
  {
   "cell_type": "code",
   "execution_count": 20,
   "metadata": {},
   "outputs": [],
   "source": [
    "x_train = convert_word_to_num(X_train)\n",
    "x_test = convert_word_to_num(X_test, max_len=x_train.shape[1])"
   ]
  },
  {
   "cell_type": "code",
   "execution_count": 21,
   "metadata": {},
   "outputs": [],
   "source": [
    "def run_keras_model1(gensim_model, batch_size=batch_size, \n",
    "                     create_emebed_mat = False):\n",
    "    \n",
    "    # For embedding layer\n",
    "    if create_emebed_mat:\n",
    "        embed_matrix = create_embed_matrix(gensim_model)\n",
    "        e = Embedding(embed_matrix.shape[0], embed_matrix.shape[1],\n",
    "                      weights=[embed_matrix],\n",
    "                     input_length=x_train.shape[1], trainable=False)\n",
    "    else:\n",
    "        e = gensim_model.wv.get_keras_embedding()\n",
    "        e.input_length = x_train.shape[1]    \n",
    "    \n",
    "    # define model\n",
    "    print('Build model...')\n",
    "    keras_mod = Sequential()\n",
    "    # e = Embedding(vocab_size, embed_size, weights=[embed_matrix], \n",
    "    #               input_length=maxlen, trainable=False)\n",
    "    keras_mod.add(e)\n",
    "    keras_mod.add(Flatten())\n",
    "    keras_mod.add(Dense(10, activation='sigmoid'))\n",
    "    # compile the model\n",
    "    keras_mod.compile(optimizer='adam', loss='binary_crossentropy',\n",
    "                      metrics=['acc', recall, precision])\n",
    "    # summarize the model\n",
    "    print(keras_mod.summary())\n",
    "    # fit the model\n",
    "    keras_mod.fit(x_train, train_labels,\n",
    "              batch_size=batch_size,\n",
    "              epochs=5,\n",
    "              validation_data=(x_test, test_labels))\n",
    "\n",
    "    score, acc, rec, prec = keras_mod.evaluate(x_test, test_labels,\n",
    "                                batch_size=batch_size)\n",
    "    return (keras_mod, acc, rec, prec)    "
   ]
  },
  {
   "cell_type": "code",
   "execution_count": 22,
   "metadata": {},
   "outputs": [
    {
     "name": "stdout",
     "output_type": "stream",
     "text": [
      "Build model...\n",
      "_________________________________________________________________\n",
      "Layer (type)                 Output Shape              Param #   \n",
      "=================================================================\n",
      "embedding_1 (Embedding)      (None, 1000, 200)         4570600   \n",
      "_________________________________________________________________\n",
      "flatten_1 (Flatten)          (None, 200000)            0         \n",
      "_________________________________________________________________\n",
      "dense_1 (Dense)              (None, 10)                2000010   \n",
      "=================================================================\n",
      "Total params: 6,570,610\n",
      "Trainable params: 2,000,010\n",
      "Non-trainable params: 4,570,600\n",
      "_________________________________________________________________\n",
      "None\n",
      "Train on 4941 samples, validate on 2118 samples\n",
      "Epoch 1/5\n",
      "4941/4941 [==============================] - 4s 868us/step - loss: 0.4714 - acc: 0.7927 - recall: 0.2258 - precision: 0.5657 - val_loss: 0.4532 - val_acc: 0.7966 - val_recall: 0.2276 - val_precision: 0.5881\n",
      "Epoch 2/5\n",
      "4941/4941 [==============================] - 4s 749us/step - loss: 0.4376 - acc: 0.8069 - recall: 0.2333 - precision: 0.6470 - val_loss: 0.4477 - val_acc: 0.7947 - val_recall: 0.1780 - val_precision: 0.5998\n",
      "Epoch 3/5\n",
      "4941/4941 [==============================] - 4s 780us/step - loss: 0.4242 - acc: 0.8134 - recall: 0.2585 - precision: 0.6775 - val_loss: 0.4425 - val_acc: 0.7963 - val_recall: 0.2112 - val_precision: 0.5958\n",
      "Epoch 4/5\n",
      "4941/4941 [==============================] - 4s 782us/step - loss: 0.4136 - acc: 0.8172 - recall: 0.2609 - precision: 0.7040 - val_loss: 0.4406 - val_acc: 0.7971 - val_recall: 0.2442 - val_precision: 0.5845\n",
      "Epoch 5/5\n",
      "4941/4941 [==============================] - 4s 774us/step - loss: 0.4039 - acc: 0.8224 - recall: 0.2871 - precision: 0.7182 - val_loss: 0.4386 - val_acc: 0.7969 - val_recall: 0.2451 - val_precision: 0.5828\n",
      "2118/2118 [==============================] - 0s 235us/step\n"
     ]
    }
   ],
   "source": [
    "keras_user = run_keras_model1(model_user, create_emebed_mat=True)"
   ]
  },
  {
   "cell_type": "code",
   "execution_count": 23,
   "metadata": {
    "scrolled": false
   },
   "outputs": [
    {
     "name": "stdout",
     "output_type": "stream",
     "text": [
      "Build model...\n",
      "_________________________________________________________________\n",
      "Layer (type)                 Output Shape              Param #   \n",
      "=================================================================\n",
      "embedding_2 (Embedding)      (None, 1000, 200)         8292000   \n",
      "_________________________________________________________________\n",
      "flatten_2 (Flatten)          (None, 200000)            0         \n",
      "_________________________________________________________________\n",
      "dense_2 (Dense)              (None, 10)                2000010   \n",
      "=================================================================\n",
      "Total params: 10,292,010\n",
      "Trainable params: 2,000,010\n",
      "Non-trainable params: 8,292,000\n",
      "_________________________________________________________________\n",
      "None\n",
      "Train on 4941 samples, validate on 2118 samples\n",
      "Epoch 1/5\n",
      "4941/4941 [==============================] - 4s 836us/step - loss: 0.8265 - acc: 0.7526 - recall: 0.3313 - precision: 0.4135 - val_loss: 0.8772 - val_acc: 0.7150 - val_recall: 0.4478 - val_precision: 0.3729\n",
      "Epoch 2/5\n",
      "4941/4941 [==============================] - 4s 773us/step - loss: 0.3950 - acc: 0.9003 - recall: 0.7166 - precision: 0.8111 - val_loss: 0.7704 - val_acc: 0.7772 - val_recall: 0.3802 - val_precision: 0.4872\n",
      "Epoch 3/5\n",
      "4941/4941 [==============================] - 4s 776us/step - loss: 0.2775 - acc: 0.9394 - recall: 0.8186 - precision: 0.8967 - val_loss: 0.8063 - val_acc: 0.7847 - val_recall: 0.3640 - val_precision: 0.5089\n",
      "Epoch 4/5\n",
      "4941/4941 [==============================] - 4s 784us/step - loss: 0.1959 - acc: 0.9599 - recall: 0.8750 - precision: 0.9367 - val_loss: 0.7528 - val_acc: 0.7691 - val_recall: 0.4061 - val_precision: 0.4673\n",
      "Epoch 5/5\n",
      "4941/4941 [==============================] - 4s 783us/step - loss: 0.1835 - acc: 0.9648 - recall: 0.8944 - precision: 0.9423 - val_loss: 0.7610 - val_acc: 0.7868 - val_recall: 0.2360 - val_precision: 0.5255\n",
      "2118/2118 [==============================] - 1s 269us/step\n"
     ]
    }
   ],
   "source": [
    "keras_w2v = run_keras_model1(model_w2v, 32, create_emebed_mat=True)"
   ]
  },
  {
   "cell_type": "code",
   "execution_count": 24,
   "metadata": {},
   "outputs": [
    {
     "name": "stdout",
     "output_type": "stream",
     "text": [
      "\n",
      "    Keras User:\n",
      "      Accuracry: 0.7968838568337128\n",
      "      Precision: 0.24508651045552957\n",
      "      Recall 0.5827997152089397\n",
      "\n",
      "    Keras Google W2V:\n",
      "      Accuracry: 0.7867799798084724\n",
      "      Precision: 0.23601074297266034\n",
      "      Recall 0.5255264981216254\n"
     ]
    }
   ],
   "source": [
    "print_results(keras_user, 'Keras User')\n",
    "print_results(keras_w2v, 'Keras Google W2V')"
   ]
  },
  {
   "cell_type": "markdown",
   "metadata": {},
   "source": [
    "### Task 5: Change the architecture of your model and compare the result"
   ]
  },
  {
   "cell_type": "code",
   "execution_count": 25,
   "metadata": {},
   "outputs": [],
   "source": [
    "def run_keras_model2(gensim_model, batch_size=batch_size, \n",
    "                     create_emebed_mat = False):\n",
    "    \n",
    "    # For embedding layer\n",
    "    if create_emebed_mat:\n",
    "        embed_matrix = create_embed_matrix(gensim_model)\n",
    "        e = Embedding(embed_matrix.shape[0], embed_matrix.shape[1],                      weights=[embed_matrix],\n",
    "                     input_length=x_train.shape[1], trainable=False)\n",
    "    else:\n",
    "        e = gensim_model.wv.get_keras_embedding()\n",
    "        e.input_length = x_train.shape[1]    \n",
    "    \n",
    "    # define model\n",
    "    print('Build model...')\n",
    "    keras_mod = Sequential()\n",
    "    # e = Embedding(vocab_size, embed_size, weights=[embed_matrix], \n",
    "    #               input_length=maxlen, trainable=False)\n",
    "    keras_mod.add(e)\n",
    "    keras_mod.add(Flatten())\n",
    "    keras_mod.add(Dense(100, activation='relu'))\n",
    "    Dropout(.2, noise_shape=None, seed=42)    \n",
    "    keras_mod.add(Dense(100, activation='relu'))\n",
    "    Dropout(.2, noise_shape=None, seed=42)    \n",
    "    keras_mod.add(Dense(100, activation='relu'))\n",
    "    Dropout(.2, noise_shape=None, seed=42)    \n",
    "    keras_mod.add(Dense(10, activation='sigmoid'))\n",
    "    # compile the model\n",
    "    keras_mod.compile(optimizer='adam', loss='binary_crossentropy', \n",
    "                      metrics=['acc', recall, precision])\n",
    "    # summarize the model\n",
    "    print(keras_mod.summary())\n",
    "    # fit the model\n",
    "    keras_mod.fit(x_train, train_labels,\n",
    "              batch_size=batch_size,\n",
    "              epochs=10,\n",
    "              validation_data=(x_test, test_labels))\n",
    "\n",
    "    score, acc, rec, prec = keras_mod.evaluate(x_test, test_labels,\n",
    "                                batch_size=batch_size)\n",
    "    return (keras_mod, acc, rec, prec)    "
   ]
  },
  {
   "cell_type": "code",
   "execution_count": 26,
   "metadata": {},
   "outputs": [
    {
     "name": "stdout",
     "output_type": "stream",
     "text": [
      "Build model...\n",
      "_________________________________________________________________\n",
      "Layer (type)                 Output Shape              Param #   \n",
      "=================================================================\n",
      "embedding_3 (Embedding)      (None, 1000, 200)         4570600   \n",
      "_________________________________________________________________\n",
      "flatten_3 (Flatten)          (None, 200000)            0         \n",
      "_________________________________________________________________\n",
      "dense_3 (Dense)              (None, 100)               20000100  \n",
      "_________________________________________________________________\n",
      "dense_4 (Dense)              (None, 100)               10100     \n",
      "_________________________________________________________________\n",
      "dense_5 (Dense)              (None, 100)               10100     \n",
      "_________________________________________________________________\n",
      "dense_6 (Dense)              (None, 10)                1010      \n",
      "=================================================================\n",
      "Total params: 24,591,910\n",
      "Trainable params: 20,021,310\n",
      "Non-trainable params: 4,570,600\n",
      "_________________________________________________________________\n",
      "None\n",
      "Train on 4941 samples, validate on 2118 samples\n",
      "Epoch 1/10\n",
      "4941/4941 [==============================] - 16s 3ms/step - loss: 0.4545 - acc: 0.7911 - recall: 0.2444 - precision: 0.5521 - val_loss: 0.4357 - val_acc: 0.7946 - val_recall: 0.2590 - val_precision: 0.5637\n",
      "Epoch 2/10\n",
      "4941/4941 [==============================] - 15s 3ms/step - loss: 0.4253 - acc: 0.7983 - recall: 0.2233 - precision: 0.5887 - val_loss: 0.4426 - val_acc: 0.7946 - val_recall: 0.2590 - val_precision: 0.5637\n",
      "Epoch 3/10\n",
      "4941/4941 [==============================] - 15s 3ms/step - loss: 0.3890 - acc: 0.8230 - recall: 0.3599 - precision: 0.6693 - val_loss: 0.4753 - val_acc: 0.7678 - val_recall: 0.3493 - val_precision: 0.4579\n",
      "Epoch 4/10\n",
      "4941/4941 [==============================] - 15s 3ms/step - loss: 0.3054 - acc: 0.8679 - recall: 0.5540 - precision: 0.7707 - val_loss: 0.4685 - val_acc: 0.7908 - val_recall: 0.2839 - val_precision: 0.5372\n",
      "Epoch 5/10\n",
      "4941/4941 [==============================] - 15s 3ms/step - loss: 0.2399 - acc: 0.8992 - recall: 0.6649 - precision: 0.8352 - val_loss: 0.5153 - val_acc: 0.7913 - val_recall: 0.3155 - val_precision: 0.5368\n",
      "Epoch 6/10\n",
      "4941/4941 [==============================] - 15s 3ms/step - loss: 0.1876 - acc: 0.9211 - recall: 0.7367 - precision: 0.8792 - val_loss: 0.5663 - val_acc: 0.7805 - val_recall: 0.1669 - val_precision: 0.4909\n",
      "Epoch 7/10\n",
      "4941/4941 [==============================] - 15s 3ms/step - loss: 0.1499 - acc: 0.9391 - recall: 0.7965 - precision: 0.9103 - val_loss: 0.5868 - val_acc: 0.7928 - val_recall: 0.2744 - val_precision: 0.5516\n",
      "Epoch 8/10\n",
      "4941/4941 [==============================] - 15s 3ms/step - loss: 0.1221 - acc: 0.9502 - recall: 0.8373 - precision: 0.9247 - val_loss: 0.6781 - val_acc: 0.7850 - val_recall: 0.3094 - val_precision: 0.5108\n",
      "Epoch 9/10\n",
      "4941/4941 [==============================] - 15s 3ms/step - loss: 0.1034 - acc: 0.9591 - recall: 0.8681 - precision: 0.9386 - val_loss: 0.7695 - val_acc: 0.7917 - val_recall: 0.3794 - val_precision: 0.5314\n",
      "Epoch 10/10\n",
      "4941/4941 [==============================] - 15s 3ms/step - loss: 0.0838 - acc: 0.9673 - recall: 0.8927 - precision: 0.9527 - val_loss: 0.7510 - val_acc: 0.7884 - val_recall: 0.3047 - val_precision: 0.5259\n",
      "2118/2118 [==============================] - 1s 276us/step\n"
     ]
    }
   ],
   "source": [
    "keras_user_mod2 = run_keras_model2(model_user, create_emebed_mat = True)"
   ]
  },
  {
   "cell_type": "code",
   "execution_count": 27,
   "metadata": {},
   "outputs": [
    {
     "name": "stdout",
     "output_type": "stream",
     "text": [
      "Build model...\n",
      "_________________________________________________________________\n",
      "Layer (type)                 Output Shape              Param #   \n",
      "=================================================================\n",
      "embedding_4 (Embedding)      (None, 1000, 200)         8292000   \n",
      "_________________________________________________________________\n",
      "flatten_4 (Flatten)          (None, 200000)            0         \n",
      "_________________________________________________________________\n",
      "dense_7 (Dense)              (None, 100)               20000100  \n",
      "_________________________________________________________________\n",
      "dense_8 (Dense)              (None, 100)               10100     \n",
      "_________________________________________________________________\n",
      "dense_9 (Dense)              (None, 100)               10100     \n",
      "_________________________________________________________________\n",
      "dense_10 (Dense)             (None, 10)                1010      \n",
      "=================================================================\n",
      "Total params: 28,313,310\n",
      "Trainable params: 20,021,310\n",
      "Non-trainable params: 8,292,000\n",
      "_________________________________________________________________\n",
      "None\n",
      "Train on 4941 samples, validate on 2118 samples\n",
      "Epoch 1/10\n",
      "4941/4941 [==============================] - 16s 3ms/step - loss: 0.5077 - acc: 0.7741 - recall: 0.2634 - precision: 0.4736 - val_loss: 0.4629 - val_acc: 0.7694 - val_recall: 0.0424 - val_precision: 0.2974\n",
      "Epoch 2/10\n",
      "4941/4941 [==============================] - 15s 3ms/step - loss: 0.3408 - acc: 0.8554 - recall: 0.5121 - precision: 0.7493 - val_loss: 0.5167 - val_acc: 0.7831 - val_recall: 0.2822 - val_precision: 0.5047\n",
      "Epoch 3/10\n",
      "4941/4941 [==============================] - 15s 3ms/step - loss: 0.2506 - acc: 0.8967 - recall: 0.6640 - precision: 0.8265 - val_loss: 0.5982 - val_acc: 0.7823 - val_recall: 0.2208 - val_precision: 0.5040\n",
      "Epoch 4/10\n",
      "4941/4941 [==============================] - 15s 3ms/step - loss: 0.1827 - acc: 0.9245 - recall: 0.7596 - precision: 0.8768 - val_loss: 0.6159 - val_acc: 0.7859 - val_recall: 0.2558 - val_precision: 0.5178\n",
      "Epoch 5/10\n",
      "4941/4941 [==============================] - 15s 3ms/step - loss: 0.1379 - acc: 0.9445 - recall: 0.8217 - precision: 0.9151 - val_loss: 0.7187 - val_acc: 0.7809 - val_recall: 0.3469 - val_precision: 0.4962\n",
      "Epoch 6/10\n",
      "4941/4941 [==============================] - 15s 3ms/step - loss: 0.1037 - acc: 0.9589 - recall: 0.8718 - precision: 0.9342 - val_loss: 0.8134 - val_acc: 0.7801 - val_recall: 0.2511 - val_precision: 0.4925\n",
      "Epoch 7/10\n",
      "4941/4941 [==============================] - 15s 3ms/step - loss: 0.1034 - acc: 0.9600 - recall: 0.8762 - precision: 0.9357 - val_loss: 0.8133 - val_acc: 0.7583 - val_recall: 0.3635 - val_precision: 0.4354\n",
      "Epoch 8/10\n",
      "4941/4941 [==============================] - 15s 3ms/step - loss: 0.0990 - acc: 0.9611 - recall: 0.8848 - precision: 0.9333 - val_loss: 0.8498 - val_acc: 0.7588 - val_recall: 0.2590 - val_precision: 0.4135\n",
      "Epoch 9/10\n",
      "4941/4941 [==============================] - 15s 3ms/step - loss: 0.0709 - acc: 0.9735 - recall: 0.9174 - precision: 0.9586 - val_loss: 1.1160 - val_acc: 0.7712 - val_recall: 0.3214 - val_precision: 0.4665\n",
      "Epoch 10/10\n",
      "4941/4941 [==============================] - 15s 3ms/step - loss: 0.0596 - acc: 0.9778 - recall: 0.9360 - precision: 0.9611 - val_loss: 1.1114 - val_acc: 0.7723 - val_recall: 0.2796 - val_precision: 0.4673\n",
      "2118/2118 [==============================] - 1s 291us/step\n"
     ]
    }
   ],
   "source": [
    "keras_w2v_mod2 = run_keras_model2(model_w2v, create_emebed_mat = True)"
   ]
  },
  {
   "cell_type": "code",
   "execution_count": 28,
   "metadata": {},
   "outputs": [
    {
     "name": "stdout",
     "output_type": "stream",
     "text": [
      "\n",
      "    Keras Mod 2 User:\n",
      "      Accuracry: 0.7883852683113249\n",
      "      Precision: 0.3046503206459951\n",
      "      Recall 0.5258697999660646\n",
      "\n",
      "    Keras Mod 2 Google W2V:\n",
      "      Accuracry: 0.7723323850838839\n",
      "      Precision: 0.2795709803545666\n",
      "      Recall 0.46731781731583916\n"
     ]
    }
   ],
   "source": [
    "print_results(keras_user_mod2, 'Keras Mod 2 User')\n",
    "print_results(keras_w2v_mod2, 'Keras Mod 2 Google W2V')"
   ]
  },
  {
   "cell_type": "markdown",
   "metadata": {},
   "source": [
    "### Task 6: For each model, do an error evaluation\n",
    "\n",
    "You now have a bunch of classifiers. For each classifier, pick 2 good classifications and 2 bad classifications. Print the expected and predicted label, and also print the movie synopsis. From these results, can you spot some systematic errors from your models?"
   ]
  },
  {
   "cell_type": "code",
   "execution_count": 29,
   "metadata": {},
   "outputs": [],
   "source": [
    "classes = np.asarray(mlb2.classes_)\n",
    "\n",
    "def print_pretty(partition, preds, model_name):\n",
    "    print('{} Predicted classes: {}'.\n",
    "           format(model_name, classes[preds[partition].astype(bool)]))\n",
    "    print('{} Actual classes: {}'.\n",
    "          format(model_name, classes[test_labels[partition].astype(bool)]))\n",
    "    print('{} Synopsis:\\n{}'.\n",
    "          format(model_name, ' '.join(X_test[partition])))\n",
    "\n",
    "def find_mix_max_error(preds):\n",
    "    num_errs = np.sum(abs(preds - test_labels), axis=1)    \n",
    "    max_err_indx = np.argpartition(num_errs, -2)[-2:]\n",
    "    min_err_indx = np.argpartition(num_errs, 2)[:2]\n",
    "    return (max_err_indx, min_err_indx)\n",
    "\n",
    "def print_good_and_bad_from_models(model, model_name):\n",
    "    pred_prob = model[0].predict(x_test)\n",
    "\n",
    "    # Define class as top probability plus any that are within 5%\n",
    "    preds = np.apply_along_axis(lambda x: np.where(x > (max(x) - .05), 1, 0),\n",
    "                                axis=1, arr=pred_prob)\n",
    "\n",
    "    # Calculate errors\n",
    "    max_err_indx, min_err_indx = find_mix_max_error(preds)\n",
    "\n",
    "    # Print out synopsis and errors\n",
    "    print('------------------')\n",
    "    print('--- Max Error ----')\n",
    "    print('------------------')\n",
    "    for partition in max_err_indx:\n",
    "        print('')\n",
    "        print_pretty(partition, preds, model_name)\n",
    "        print('')\n",
    "    \n",
    "\n",
    "    print('------------------')\n",
    "    print('--- Min Error ----')\n",
    "    print('------------------')\n",
    "    for partition in min_err_indx:\n",
    "        print('')\n",
    "        print_pretty(partition, preds, model_name)\n",
    "        print('')"
   ]
  },
  {
   "cell_type": "code",
   "execution_count": 30,
   "metadata": {
    "scrolled": true
   },
   "outputs": [
    {
     "name": "stdout",
     "output_type": "stream",
     "text": [
      "------------------\n",
      "--- Max Error ----\n",
      "------------------\n",
      "\n",
      "Keras User Mod 1 Predicted classes: ['Comedy' 'Drama']\n",
      "Keras User Mod 1 Actual classes: ['Action' 'Crime Fiction' 'Thriller' 'World cinema']\n",
      "Keras User Mod 1 Synopsis:\n",
      "plot in social problems such as violence drugs and organized crime have overrun the poorer suburbs of paris and especially banlieue commonly referred to as ghetto with population of some two million unable to control the authorities construct high wall topped by barbed tape around the entire area forcing the inhabitants within to survive without education proper utilities or police protection behind the containment wall police checkpoints stop anybody going in or out three years later an almost feudal system has developed amongst the street gangs of the area is now flooded with hard drugs such as heroin and completely controlled by gangsters certain blocks are ruled over by various individuals and one high rise apartment block is looked after by an athletic and street wise man known as leïto leïto hates drugs and injustice and wages one man war against neighboring gang lord named taha bemamud to keep his own building and people safe and free of drugs leïto captures nbsp kg of cocaine from taha worth over million euro which incites taha to send his thugs to recover the merchandise led by the towering leïto destroys the cocaine by using bleach and uses parkour to evade taha thugs through the building and across rooftops taha kidnaps leïto younger sister lola to use against him but leïto manages to invade taha base rescue his sister and kidnap taha in turn leïto takes taha to the police office at the edge of the district perimeter but the police are in the process of abandoning their position on orders from the french ministry and are also threefold outnumbered by taha gang the police release taha and allow him to take lola with him to avoid confrontation in addition they put leïto in cell also to contain the situation but leïto kills the police chief in the process for handing over lola six months later outside of in the affluent areas of paris an undercover police captain named damien tomaso infiltrates an underground casino and attempts to arrest carlos montoya the gangster who owns it his extraction procedure fails however forcing him to fight his way through an army of thugs to escape the casino upon the mission completion damien immediately receives another assignment from his chief and also the defence secretary of france mr krüger he is told that taha has stolen an experimental neutron bomb that is set to detonate in hours his mission is to convince leïto imprisoned for months to lead him to taha base so that he can disarm the bomb damien attempts to pass himself off as fellow prisoner and helps leïto escape to but leïto sees through damien act and abandons him after fighting off some of the local thugs damien locates leïto and admits the truth they team up to disarm the bomb and rescue lola the pair surrenders to taha in order to gain access to his base there they discover that taha has rigged the warhead to missile launcher pointed towards the center of paris and is prepared to blackmail the government with it taha demands high ransom which is refused by damien government contact the pair escape and while taha thugs pursue them he discovers that the government has emptied all of his offshore accounts in the bahamas and elsewhere one of taha men asks how taha will pay them frustrated taha tries to shoot the member who asked him that only to discover that his gun is empty taha offers money from safe he possesses but knowing that with tahas accounts emptied there is no reason to endure his ruthlessness any longer the thugs shoot and kill taha this leaves more sympathetic leader in charge and has moment of reconciliation with leïto suggesting that peace is possible in the future within leïto and damien fight their way to the tower building holding lola and the bomb they are confronted by their final obstacle yeti substantial henchman left by taha to block their access to the bomb damien underestimates yeti and tries attacking him but is gradually overpowered leito helps out damien and gains the upper hand with the henchman by tying him up with an electricity cord damien then picks up brick and smashes it on yeti head knocking him out having defeated yeti damien calls his contact to receive the deactivation code leïto recognizes the code as reference to the bomb location the day date and the district leïto deduces that the government has set them up and the code will actually detonate the bomb instead of deactivating it he fights damien to prevent him who chose to believe in the government over leito from entering the code the timer runs out and the bomb does not detonate proving leïto theory the pair return to the government building with the bomb and use it to force mr krüger admit that he had planned to blow up as means to get rid of it the confession is then revealed to have been filmed and is immediately broadcast by pirate television transmission across all channels the pair actions cause major scandal that sparks public support for soon the rest of the government promises to tear down the containment wall and bring back schools and police to leïto and damien depart as friends and lola kisses damien to encourage him to visit in the future\n",
      "\n",
      "\n",
      "Keras User Mod 1 Predicted classes: ['Drama']\n",
      "Keras User Mod 1 Actual classes: ['Action' 'Comedy' 'Crime Fiction' 'Romance Film' 'Thriller']\n",
      "Keras User Mod 1 Synopsis:\n",
      "cody banks year old high school student applies for junior position for the central intelligence agency after completing his summer camp for cia agents answering to his handler agent ronica miles cody is called upon mission to find information about scientist named dr albert connors connors is employed by spectre type organization named eris led by dr brinkman and his henchman françois molay as all cia agents are known to brinkman organization the cia uses the unknown banks who is placed into the prep school of dr connors daughter natalie the william donovan institute cody soon finds he has no social skill with girls and has no time to do this while balancing his chores and homework the cia decides to help by doing his chores and homework trying to build his status and going into the school to set him up with natalie the cia also assemble varying team of experts to train cody into how to talk to girls and issue him with variety of gadgets with various functions eventually cody befriends and falls in love with natalie after saving her from falling off ladder while putting up banner and he is invited to her th birthday party where he goes undercover to her father lab cody finds that dr brinkman is planning to use nanobots which can destroy any carbon or silicon based substance to destroy the world defense systems so he can threaten anyone who opposes him since the nanobots are inactive in the cold he plans to use ice cubes to distribute them after connors brinkman and françois leave the lab cody attempts to steal one of the ice cubes only for it to melt when in his possession shortly after this cody gets into fight with number of bullies at the party the fight makes the school newspaper causing the cia to remove him from the mission for fear he may have blown his cover meanwhile with connors refusing to aid him in his plans dr brinkman sends françois and some men to catch natalie and bring her into his base in the cascade mountains meanwhile disobeying orders to stay away from her cody and natalie eat ice cream at restaurant cody attempts to explain things to natalie but françois and group of men come over to their table and fight with cody knocking him unconscious and taking natalie cody is removed from the mission and his parents punish him for staying out past his curfew cody gets his brother alex to make sure his parents do not find out that he is gone by giving him the the cia gave him knowing natalie location via tracking device in necklace he gave her as birthday present cody breaks into the cia weapons hold and steals rocket powered snowboard and other devices to rescue natalie cody gets ride to the top of the mountain and snowboards to the factory where natalie is held on the way he gets caught in grove of trees as ronica finds him using solotrek xfv after convincing ronica that they need to rescue natalie the pair infiltrate the laboratory and cody rescues natalie also explaining the truth about why he went out with her however the trio are captured by brinkman men although cody quickly manages to escape natalie is held hostage by dr brinkman who puts an ice cube with nanobot inside on her forehead to make her father program the system cody sets off series of explosive charges he and ronica had planted throughout the base and in the ensuing battle ronica fights off several of dr brinkman men and natalie kills dr brinkman by placing the ice cube with the nanobots into his mouth causing it to melt and the nanobots to devour him from the inside out cody later defeats françois and sends him to the cia using the solotrek xfv before fleeing the facility with ronica natalie and dr connors before it explodes the film ends with cody and natalie sharing their first kiss\n",
      "\n",
      "------------------\n",
      "--- Min Error ----\n",
      "------------------\n",
      "\n",
      "Keras User Mod 1 Predicted classes: ['Drama']\n",
      "Keras User Mod 1 Actual classes: ['Drama']\n",
      "Keras User Mod 1 Synopsis:\n",
      "joe gideon is theatre director and choreographer trying to balance work on his latest broadway musical with editing hollywood film he has directed he is workaholic who chain smokes cigarettes and chain sleeps with his dancers without daily dose of vivaldi visine alka seltzer dexedrine and sex he wouldn have the energy to keep up the biggest show of all his life his girlfriend katie jagger his ex wife audrey paris and daughter michelle try to pull him back from the brink but it is too late for his exhausted body and stress ravaged heart decades of overwork and constant stress have gotten to gideon in his imagination he flirts with an angel of death named angelique gideon condition gets progressively worse he is rushed to hospital with chest pains after particularly stressful script rehearsal and admitted with severe attacks of angina joe brushes off his symptoms and attempts to leave to go back to rehearsal but he collapses in the doctor office and is ordered to stay in the hospital for three to four weeks to rest his heart and recover from his exhaustion the show is postponed but gideon continues his antics from the hospital bed champagne flows endless strings of women frolic around his hospital room and the cigarettes are always lit cardiogram readings don show any improvement gideon is playing with death as the paltry reviews for his feature film come in gideon has massive coronary and is taken straight to coronary artery bypass surgery the backers for the broadway show must decide now whether it time to pack up or replace gideon as the director their matter of fact money oriented negotiations with the insurers are juxtaposed with graphic scenes of open heart surgery the producers realize that the best way to recoup their money and make profit is to bet on gideon dying which would bring in profit of over usd meanwhile elements from gideon past life are staged in dazzling dream sequences of musical numbers he directs from his hospital bed while on life support realizing his death is imminent his mortality unconquerable gideon has another heart attack in the glittery finale he goes through the five stages of death anger denial bargaining depression and acceptance featured in the stand up routine he has been editing as death closes in on gideon the fantasy episodes become more hallucinatory and extravagant and in final epilogue that is set up as truly monumental live variety show featuring everyone from his past gideon himself takes center stage\n",
      "\n",
      "\n",
      "Keras User Mod 1 Predicted classes: ['Drama']\n",
      "Keras User Mod 1 Actual classes: ['Drama']\n",
      "Keras User Mod 1 Synopsis:\n",
      "shikokuchuo is town that specializes in making calligraphy paper however the town had been devastated by the japanese recession and many shops in the town shopping arcade were forced to close over at tsumishima high school calligraphy club membership crisis ensues after many of its members left the club in quick succession satoko refused to be worried and continues to focus on her work for the upcoming national calligraphy competition one day new relief teacher ikezawa was assigned to the calligraphy club as its adviser after satoko and kana mistook him as thief they threw calligraphy ink on him thus leaving bad first impression after hearing that the club only has members left ikezawa puts up performance calligraphy show to attract new members this enraged satoko who strongly believes in the traditional method of calligraphy however another member kiyomi was deeply impressed by the performance and started practicing it putting her at odds with satoko who later chases her away from the club satoko later has change of heart when she realizes how much calligraphy meant to kiyomi she also agreed to put up performance to commemorate the closure of the shop that kiyomi father runs ultimately the performance was failure but the club members were surprised at the number of people who came to watch their performance just before kiyomi moved to hiroshima she requested satoko to continue practicing performance calligraphy at around the same time tomoya grandfather paper making workshop burnt down after tomoya grandfather started burning the high quality calligraphy paper he made that no shop wanted to purchase satoko got revelation that all was not lost after she found an unburnt calligraphy paper amidst all the rubble the calligraphy club then got to work convincing the town residents to support their idea of starting performance calligraphy competition and to drum up publicity for the event the members wanted the competition to revive their dying town they started practicing very hard but were frustrated due to the lack of progress initially reluctant ikezawa finally stepped in to coach them after much persuasion even after practicing for long time ikezawa still thinks that their work is still missing something to overcome this problem the club members decide to persuade mio former talented club member back into the club they eventually succeed and their work gets big boost meanwhile many schools from around the region have volunteered to participate in the competition even the national media have reported about the upcoming competition to make the competition more meaningful the members decide only to use the town famed calligraphy paper even though those they had were too fragile upon seeing their determination satoko father who was initially opposed to the competition commissioned tomoya grandfather to make suitably strong calligraphy paper as sign of his support on the day of the competition the team faced strong teams from other high schools during their performance they were off to good start however several mishaps occurred and their work was ruined despite this setback the team did not give up and completed their work after the performance ikezawa left the town in the background poster was advertising the next edition of the competition ikezawa later opened letter containing group photograph of the team and the words thank you written behind meanwhile the members of the calligraphy club vowed to not to lose again at the next edition of the competition after receiving challenge letter from another school\n",
      "\n"
     ]
    }
   ],
   "source": [
    "print_good_and_bad_from_models(keras_user, 'Keras User Mod 1')"
   ]
  },
  {
   "cell_type": "code",
   "execution_count": 31,
   "metadata": {},
   "outputs": [
    {
     "name": "stdout",
     "output_type": "stream",
     "text": [
      "------------------\n",
      "--- Max Error ----\n",
      "------------------\n",
      "\n",
      "Keras W2V Mod 1 Predicted classes: ['World cinema']\n",
      "Keras W2V Mod 1 Actual classes: ['Black-and-white' 'Crime Fiction' 'Drama' 'Indie' 'Thriller']\n",
      "Keras W2V Mod 1 Synopsis:\n",
      "struggling unemployed young writer takes to following strangers around the streets of london ostensibly to find inspiration for his first novel initially he sets strict rules for himself regarding whom he should follow and for how long but soon discards them as he focuses on well groomed handsome man in dark suit the man in the suit having noticed he is being followed quickly confronts the young man and introduces himself as cobb cobb reveals that he is serial burglar and invites the young man to accompany him on various burglaries the material gains from these crimes seem to be of secondary importance to cobb who takes pleasure in rifling through the personal items in his targets flats and doing things such as drinking their wine he explains that his true passion is using the shock of robbery and violation of property to make his victims re examine their lives he sums up his attitude thus you take it away and show them what they had the young man is thrilled by cobb lifestyle he attempts break ins of his own as cobb encourages and guides him at cobb suggestion he alters his appearance cutting his hair short and wearing dark suit the young man assumes the name daniel lloyd based on the credit card cobb gives to him and begins to pursue relationship with blonde woman whose flat he and cobb burglarized the blonde turns out to be the girlfriend of small time gangster whom she broke up with after he murdered man in her flat soon the blonde confides that the bald guy is blackmailing her with incriminating photographs the young man breaks into the bald guy safe but is caught in the act by an unidentified man the young man bludgeons the man with claw hammer and flees with the bald guy money and photos upon returning to his flat he finds that the photos are innocuous modeling shots confronting the blonde the young man learns that she and cobb have been working together to manipulate him into mimicking cobb burglary methods cobb had recently discovered murdered woman body during one of his burglaries and is attempting to deflect suspicion from himself by making it appear as though multiple burglars share his mo the young man leaves to turn himself in to the police the blonde reports her success to cobb who then reveals that he actually works for the bald guy the story about the murdered woman was part of plot to deceive both the blonde and the young man the blonde has been blackmailing the bald guy with evidence from the murder he committed in her flat and he wants her murdered in such way that it cannot be connected to him cobb bludgeons the blonde to death with the same claw hammer that the young man used during the burglary of the bald guy safe and leaves it at the scene the police checking out the young man story find the blonde murdered and the claw hammer with his finger prints on it the young man is implicated for all of cobb crimes along with the murder of the blonde woman meanwhile cobb vanishes into crowd\n",
      "\n",
      "\n",
      "Keras W2V Mod 1 Predicted classes: ['Romance Film']\n",
      "Keras W2V Mod 1 Actual classes: ['Action' 'Crime Fiction' 'Drama' 'Thriller' 'World cinema']\n",
      "Keras W2V Mod 1 Synopsis:\n",
      "after an ex gangster named wang jae is killed by gang of punks his four childhood friends come back together for the first time in nearly twenty years each of them has gone different ways tae soo detective pil ho powerful mobster who once worked with wang jae seok hwan reformed mobster and his brother dong hwan math teacher they reminisce about times gone their mischievous teen years and pact they made on school picnic young wang jae made snake tonic and buried the bottle vowing that twenty years later they would all gather and drink it after they became wealthy men after the funeral both tae su and seok hwan deal with their grief by investigating the murder while on the case tae su is attacked by massive gang of youths who use baseball bats hockey sticks and even yo yo as weaponry tae su barely escapes with help from seok hwan and the two team up taking their revenge on the crazies the next day after hunting the gangs down one by one and beating the tar out of them they discover that wang jae death wasn random attack but actually planned after capturing one of the murderers they find out that wang jae was actually targeted by his once good friend pil ho who he fell out with during negotiations to turn their city into tourist district after giving the murderer protection so he can testify against pil ho the killer killed by an assassin who douses him in gasoline and lights him on fire tae su realizing there no legal way to take pil ho down faces off with him but is beaten by his bodyguards and only left alive out of some sort of pity at the same time seok hwan and his mother and brother are hit by truck seok hwan survives but his family is dead killed by pil ho men the two nearly destroyed men meet at the funeral where wang jae widow who is also pil ho sister gives them information that they can use to seek their revenge the two friends no longer bound by the law storm pil ho fortress during the negotiations for casino only armed with pair of wooden bokken they fight their way through sea of cooks with butcher knives long hallway lined with bodyguards man with katana and finally four of pil ho elite guards with hands and feet pil ho having bludgeoned the president he was meeting with after being insulted by him faces the exhausted men and easily crushes both of them he stabs tae su ignoring seok hwan who binds the katana to his hand with bandages and stabs pil ho through the chest killing him tae su bleeds to death and seok hwan merely kneels among the carnage they have wrought uttering only fuck the film ends with the young versions of themselves walking back from the school picnic talking about their future they talk about coming back for the snake tonic when they become rich men don worry one of them says we won amount to much anyway\n",
      "\n",
      "------------------\n",
      "--- Min Error ----\n",
      "------------------\n",
      "\n",
      "Keras W2V Mod 1 Predicted classes: ['Drama']\n",
      "Keras W2V Mod 1 Actual classes: ['Drama']\n",
      "Keras W2V Mod 1 Synopsis:\n",
      "london hospital surgeon frederick treves discovers john merrick in victorian freak show in london east end where he is managed by the brutish bytes merrick is deformed to the point that he must wear hood and cap when in public and bytes claims he is an imbecile treves is professionally intrigued by merrick condition and pays bytes to bring him to the hospital so that he can examine him there treves presents merrick to his colleagues in lecture theatre displaying him as physiological curiosity treves draws attention to merrick most life threatening deformity his abnormally large skull which compels him to sleep with his head resting upon his knees as the weight of his skull would asphyxiate him if he were to ever lie down on merrick return bytes beats him severely enough that sympathetic apprentice alerts treves who returns him to the hospital bytes accuses treves of likewise exploiting merrick for his own ends leading the surgeon to resolve to do what he can to help the unfortunate man the ward nurses are horrified by merrick appearance so treves places him in quarantine room under the watchful care of the formidable matron mrs mothershead mr carr gomm the hospital governor is reluctant to house merrick as the hospital is not designed as residence for incurables to persuade carr gomm that merrick has potential treves coaches him to recite few polite phrases carr gomm sees through the ruse but as he walks away both men are astonished to hear merrick recite the rd psalm shocked by this display of intelligence carr gomm allows merrick to remain merrick is gradually revealed to be sophisticated and articulate carr gomm arranges suite of rooms for him to reside in at the hospital and merrick passes his days reading drawing and making model of church visible through his window one day treves brings him to take afternoon tea at home together with his wife ann merrick overwhelmed by the familial love he perceives in the domesticity about him shows them his most treasured possession picture of his mother and expresses his wish that she would love him if she could only see what lovely friends he now has later merrick begins to receive society visitors in his rooms including the celebrated actress madge kendal he becomes popular object of curiosity and charity to high society as these connections and visits increase mrs mothershead complains to treves that he is still being treated as freak show attraction albeit in more upper class celebrated style for treves part this observation deeply trouble him and he begins to question whether or not he has done the right thing and while merrick is treated well during the daytime the night porter secretly makes money by bringing punters from nearby pubs to gawk at merrick threatened dissent at board meeting toward the decision to keep merrick indefinitely is overturned when the hospital royal patron alexandra pays surprise visit with message from queen victoria stating that merrick will receive permanent care at the hospital and the necessary funds have been arranged but merrick is then returned to his old life when bytes gains access to his room during one of the night porter late night viewings bytes abducts merrick to continental europe where he is once again put on show and subjected to cruelty and neglect treves consumed with guilt over merrick plight takes action against the night porter with the help of mrs mothershead merrick escapes with the help of his fellow freak show attractions and makes it back to london however he is harassed by group of boys at liverpool street station and accidentally knocks down young girl he is chased unmasked and cornered by an angry mob at which point he cries out am not an elephant am not an animal am human being am man before collapsing when the police return merrick to the hospital he is reinstated to his rooms he recovers little but it is soon clear he is dying from chronic obstructive pulmonary disease as treat mrs kendal arranges an evening at the musical theatre resplendent in white tie he rises in the royal box to an ovation having had the performance dedicated to him from mrs kendal that night back at the hospital merrick thanks treves for all he has done and finishes his model of the nearby church imitating one of his sketches on the wall sleeping child he removes the pillows that have allowed him to sleep in an upright position lies down on his bed and dies consoled by vision of his mother mary jane merrick quoting alfred lord tennyson nothing will die\n",
      "\n",
      "\n",
      "Keras W2V Mod 1 Predicted classes: ['Drama']\n",
      "Keras W2V Mod 1 Actual classes: ['Drama']\n",
      "Keras W2V Mod 1 Synopsis:\n",
      "at age ten martin is living in cahors with jeanine his hairdresser mother and her taxi driver lover said martin is the illegitimate child of successful business man victor sauvagnac against the child wishes his mother sends martin to live with his father who until then he does not know victor is married and has three sons older than martin the move is not happy one and quickly martin finds himself in conflict with his brash cold father ten years later just after his twentieth birthday martin flees his home following his father death he disappears wandering across the country side and tries unsuccessfully to drown himself martin emerges weeks later at his half brother benjamin apartment in paris benjamin is struggling actor sharing living arrangements with his best friend alice violinist in local quintet that specializes in tango music more outgoing that his younger brother benjamin who is gay has close platonic relationship with alice martin finds success quickly within weeks he is highly sought after model alice is nervous and brittle harboring her own private grief the tragic death at age eleven of her gifted sister at first alice resents martin presence in the apartment and she is cold towards him though alice does not like the brooding martin much he becomes obsessed with her and starts surreptitiously following her alice discovers it and confronts him she is gradually captivated by his attentions and the two begin passionate love affair leaving benjamin behind alice accompanies martin to granada spain on modeling shoot their happiness is brief during the trip martin behavior becomes erratic and he becomes more and more self obsessed when alice reveals she is pregnant his decline continues martin suffers nervous breakdown and falls into coma the doctors determine that his condition is psychosomatic in an effort to restore his health alice rents cabin by the sea in spain south coast martin swims for hours each night but remains withdrawn he is haunted by his father death flash back recounts the period preceding victor sauvagnac death his relationship with his sons was problematic the aimless and withdrawn martin failed to please him benjamin irritated him and reunion about the prospects of the family business ends up in fist fight between francois and frédéric the two eldest siblings martin celebrates his th birthday with benjamin who comes from paris for the occasion their reunion is interrupted by phone call from francois who commits suicide hanging himself in the family factory when martin decides to leave for paris an argument erupts and martin pushes his father downs the stairs killing him unable to deal with what he has just done martin runs away after martin reveals that he caused his father death unable to bear the guilt and pain any longer he commits himself to mental institution alice following martin wishes travels to cahors to talk to the sauvagnac family she befriends martin mother but lucie victor widow is unsympathetic frédéric sauvagnac who is the town major is openly hostile benjamin comes to town in an effort to stop alice interfering in his family affairs however they two reconcile eventually lucie decides to tell the authorities about martin culpability in her husband death martin confesses his crime surrender to the authorities and goes to prison alice decides to have her baby she appears playing her violin in wedding martin is in prison but in letter to alice he seems to be finally at peace with himself\n",
      "\n"
     ]
    }
   ],
   "source": [
    "print_good_and_bad_from_models(keras_w2v, 'Keras W2V Mod 1')"
   ]
  },
  {
   "cell_type": "code",
   "execution_count": 32,
   "metadata": {
    "scrolled": true
   },
   "outputs": [
    {
     "name": "stdout",
     "output_type": "stream",
     "text": [
      "------------------\n",
      "--- Max Error ----\n",
      "------------------\n",
      "\n",
      "Keras User Mod2 Predicted classes: ['Comedy']\n",
      "Keras User Mod2 Actual classes: ['Action' 'Crime Fiction' 'Drama' 'Thriller' 'World cinema']\n",
      "Keras User Mod2 Synopsis:\n",
      "operating pawn shop in small neighborhood ex black ops officer cha tae sik now leads quiet life his only connection to the rest of the world is little girl so mi who lives next door so mi mother hyo jeong is heroin addict who steals drugs from an organized crime group she pawns her camera bag to tae sik he does not realize it has the stolen drugs inside when oh men find out where the drugs are by torturing hyo jeong they proceed to kidnap her and her daughter mule and organ dealer is sent to tae sik pawn shop to retrieve the stolen drugs but they are easily overpowered by tae sik however upon learning that the gang now has in their possession both hyo jeong and so mi tae sik gives the beaten gang members the camera bag and its contents realizing that tae sik may serve better as mule than their former thug the gang brothers that blackmailed tae sik man seok and jong seok promise to release hyo jeong and so mi under the condition that tae sik make delivery for them tae sik makes the decision to face the outside world in order to rescue so mi however the delivery was part of larger plot to eliminate rival police arrest tae sik and discover hyo jeong body with her organs harvested in the back of the car he used to make the delivery and tae sik realizes that so mi is also in danger tae sik escapes from the police station to search for so mi during his escape the police are bewildered at tae sik display of power combat techniques and agility they further investigate his bio and find out that he was once black operations agent for the korean government with numerous commendations but left the service after his pregnant wife was murdered by an assassin the assassin shot tae sik twice but was killed by another agency officers before he could kill tae sik determined narcotics cop contacts weakened tae sik after his encounter with the gang highly refined thai street thug ramrowan who works for the brothers now with the knowledge that so mi is being used as an ant child used by chinese gangs to smuggle drugs and money and that she will be killed to harvest her organs tae sik sets out to locate and save so mi tae sik finds and frees several child slaves in drug manufacturing plant in the process and killing off the younger of the brothers in charge of the gang jong seok he tracks the elder brother man seok to the gang condo man seok shows him vessel containing what he says are so mi eyes explaining that he has had her killed to avenge his brother death in rage tae sik kills the gang members including ramrowan and man seok tae sik is preparing to commit suicide out of his grief when scared and dirty so mi emerges from the darkness she had been saved by ramrowan he had taken pity on her because she had been kind to him it is then revealed that the eyes in the container belonged to the gangster harvesting surgeon who had been killed off camera by ramrowan police escort takes tae sik and so mi together in the back of the detective car to take tae sik into custody while she sleeps tae sik asks if they can be dropped off at small convenience store tae sik buys backpack along with other school supplies he tells her that she going to be on her own now as the police have to take him away before he goes he asks her for hug and breaks down in tears as they embrace\n",
      "\n",
      "\n",
      "Keras User Mod2 Predicted classes: ['Comedy']\n",
      "Keras User Mod2 Actual classes: ['Action' 'Crime Fiction' 'Drama' 'Indie' 'Romance Film' 'Thriller']\n",
      "Keras User Mod2 Synopsis:\n",
      "teenager murders her sexually abusive stepfather after he teaches her how to use gun through school correspondence course she meets prison inmate howard whom she seduces back into the world of violence and guns she marries howard and decides to show him the remains of her stepfather howard helps her dispose of the body after they dispose of the corpse howard commits several homicides although he was provoked in every instance\n",
      "\n",
      "------------------\n",
      "--- Min Error ----\n",
      "------------------\n",
      "\n",
      "Keras User Mod2 Predicted classes: ['Drama']\n",
      "Keras User Mod2 Actual classes: ['Drama']\n",
      "Keras User Mod2 Synopsis:\n",
      "joe gideon is theatre director and choreographer trying to balance work on his latest broadway musical with editing hollywood film he has directed he is workaholic who chain smokes cigarettes and chain sleeps with his dancers without daily dose of vivaldi visine alka seltzer dexedrine and sex he wouldn have the energy to keep up the biggest show of all his life his girlfriend katie jagger his ex wife audrey paris and daughter michelle try to pull him back from the brink but it is too late for his exhausted body and stress ravaged heart decades of overwork and constant stress have gotten to gideon in his imagination he flirts with an angel of death named angelique gideon condition gets progressively worse he is rushed to hospital with chest pains after particularly stressful script rehearsal and admitted with severe attacks of angina joe brushes off his symptoms and attempts to leave to go back to rehearsal but he collapses in the doctor office and is ordered to stay in the hospital for three to four weeks to rest his heart and recover from his exhaustion the show is postponed but gideon continues his antics from the hospital bed champagne flows endless strings of women frolic around his hospital room and the cigarettes are always lit cardiogram readings don show any improvement gideon is playing with death as the paltry reviews for his feature film come in gideon has massive coronary and is taken straight to coronary artery bypass surgery the backers for the broadway show must decide now whether it time to pack up or replace gideon as the director their matter of fact money oriented negotiations with the insurers are juxtaposed with graphic scenes of open heart surgery the producers realize that the best way to recoup their money and make profit is to bet on gideon dying which would bring in profit of over usd meanwhile elements from gideon past life are staged in dazzling dream sequences of musical numbers he directs from his hospital bed while on life support realizing his death is imminent his mortality unconquerable gideon has another heart attack in the glittery finale he goes through the five stages of death anger denial bargaining depression and acceptance featured in the stand up routine he has been editing as death closes in on gideon the fantasy episodes become more hallucinatory and extravagant and in final epilogue that is set up as truly monumental live variety show featuring everyone from his past gideon himself takes center stage\n",
      "\n",
      "\n",
      "Keras User Mod2 Predicted classes: ['Drama']\n",
      "Keras User Mod2 Actual classes: ['Drama']\n",
      "Keras User Mod2 Synopsis:\n",
      "shikokuchuo is town that specializes in making calligraphy paper however the town had been devastated by the japanese recession and many shops in the town shopping arcade were forced to close over at tsumishima high school calligraphy club membership crisis ensues after many of its members left the club in quick succession satoko refused to be worried and continues to focus on her work for the upcoming national calligraphy competition one day new relief teacher ikezawa was assigned to the calligraphy club as its adviser after satoko and kana mistook him as thief they threw calligraphy ink on him thus leaving bad first impression after hearing that the club only has members left ikezawa puts up performance calligraphy show to attract new members this enraged satoko who strongly believes in the traditional method of calligraphy however another member kiyomi was deeply impressed by the performance and started practicing it putting her at odds with satoko who later chases her away from the club satoko later has change of heart when she realizes how much calligraphy meant to kiyomi she also agreed to put up performance to commemorate the closure of the shop that kiyomi father runs ultimately the performance was failure but the club members were surprised at the number of people who came to watch their performance just before kiyomi moved to hiroshima she requested satoko to continue practicing performance calligraphy at around the same time tomoya grandfather paper making workshop burnt down after tomoya grandfather started burning the high quality calligraphy paper he made that no shop wanted to purchase satoko got revelation that all was not lost after she found an unburnt calligraphy paper amidst all the rubble the calligraphy club then got to work convincing the town residents to support their idea of starting performance calligraphy competition and to drum up publicity for the event the members wanted the competition to revive their dying town they started practicing very hard but were frustrated due to the lack of progress initially reluctant ikezawa finally stepped in to coach them after much persuasion even after practicing for long time ikezawa still thinks that their work is still missing something to overcome this problem the club members decide to persuade mio former talented club member back into the club they eventually succeed and their work gets big boost meanwhile many schools from around the region have volunteered to participate in the competition even the national media have reported about the upcoming competition to make the competition more meaningful the members decide only to use the town famed calligraphy paper even though those they had were too fragile upon seeing their determination satoko father who was initially opposed to the competition commissioned tomoya grandfather to make suitably strong calligraphy paper as sign of his support on the day of the competition the team faced strong teams from other high schools during their performance they were off to good start however several mishaps occurred and their work was ruined despite this setback the team did not give up and completed their work after the performance ikezawa left the town in the background poster was advertising the next edition of the competition ikezawa later opened letter containing group photograph of the team and the words thank you written behind meanwhile the members of the calligraphy club vowed to not to lose again at the next edition of the competition after receiving challenge letter from another school\n",
      "\n"
     ]
    }
   ],
   "source": [
    "print_good_and_bad_from_models(keras_user_mod2, 'Keras User Mod2')"
   ]
  },
  {
   "cell_type": "code",
   "execution_count": 33,
   "metadata": {
    "scrolled": true
   },
   "outputs": [
    {
     "name": "stdout",
     "output_type": "stream",
     "text": [
      "------------------\n",
      "--- Max Error ----\n",
      "------------------\n",
      "\n",
      "Keras W2V Mod2 Predicted classes: ['Action' 'Black-and-white' 'Comedy' 'Crime Fiction' 'Drama' 'Indie'\n",
      " 'Romance Film' 'Short Film' 'Thriller' 'World cinema']\n",
      "Keras W2V Mod2 Actual classes: ['Comedy']\n",
      "Keras W2V Mod2 Synopsis:\n",
      "after solving the luna ghost mystery constant arguments among the members of mystery inc cause the gang to go their separate ways two years later shaggy rogers and scooby doo are approached to solve the mystery of the popular horror resort spooky island reuniting with fred jones velma dinkley and daphne blake although none of the latter are thrilled to see each other on the island the gang meets emile mondavarious the park owner who explains his theory that visitors are being cursed shaggy falls in love with girl named mary jane while scooby is mysteriously targeted by demonic creatures velma meets man named goo tuana and his minion the famous luchador zarkos who explains that demons rule the island the gang visits the island abandoned ghost castle where daphne finds tetrahedron shaped artifact called the daemon ritus and velma and fred find strange classroom with videos designed to address non humans when the gang returns to the hotel they are attacked by the island demons who kidnap numerous tourists including fred velma and mondavarious the next day daphne is captured by zarkos while shaggy and scooby discover fred velma and the tourists are now possessed by the demons the two flee with mary jane until scooby realizes she is possessed as well in the midst of an argument between scooby and shaggy scooby falls down hole followed by shaggy who dives in to save him shaggy comes across vat containing the protoplasmic souls of everyone who was captured including the rest of the gang and releases the gangs souls to their bodies velma discovers the demons are destroyed in sunlight while daphne and fred souls end up in the wrong bodies shaggy steals the daemon ritus and reunites with the gang after their souls correct themselves coming across voodoo maestro the gang learns that if the leader of the demons absorbs pure soul through the daemon ritus then the demons shall rule the world for the next years the pure soul belongs to scooby while the demons leader is mondavarious the gang puts their differences aside and finally work together to save scooby they form plan but it fails and scooby soul is extracted scooby is saved by shaggy wounding mondavarious in the attempt fred and velma discover he is actually robot controlled by none other than scrappy doo who the gang abandoned years ago due to his egotism now vengeful scrappy transforms into demon to destroy the gang and rule the world using the tourists souls he absorbed daphne fights zarkos above the island caves knocking him through the roof which exposes the demons to sunlight and kills them shaggy attacks scrappy and rips the daemon ritus from his chest freeing the souls and reverting scrappy to his original self shaggy finds the real mondavarious trapped in hole and frees him scrappy and his minions are arrested while mystery inc is reunited to continue solving mysteries\n",
      "\n",
      "\n",
      "Keras W2V Mod2 Predicted classes: ['Action' 'Black-and-white' 'Comedy' 'Crime Fiction' 'Drama' 'Indie'\n",
      " 'Romance Film' 'Short Film' 'Thriller' 'World cinema']\n",
      "Keras W2V Mod2 Actual classes: ['Thriller']\n",
      "Keras W2V Mod2 Synopsis:\n",
      "on august five teenagers erin her boyfriend kemper morgan andy and pepper are on their way to lynyrd skynyrd concert after returning from mexico where they were supplying themselves with drugs for the concert as they drive through texas they spot distraught hitchhiker who eventually gets into their van after they have tried to speak to the hitchhiker who talks incoherently about bad man she shoots herself in the mouth with magnum after the startling shock the group tries to contact the police they then go to store where woman tells them the sheriff is at the mill instead of the sheriff they find little boy named jedediah who tells them that the sheriff is at home drinking erin and kemper go through the woods to find his house leaving the other three at the mill with the boy they come to plantation house where erin is allowed inside by the owner an amputee named monty to phone for help when erin finishes the old man asks her for help kemper goes inside to look for erin and is attacked by the vicious looking leatherface who hits him with sledgehammer when leatherface takes kemper body to begin to make new mask out of him he discovers small black box from kemper opening it he discovers ring kemper was intending to propose to erin meanwhile sheriff hoyt arrives at the mill and disposes of the hitchhiker body wrapping her in cellophane and putting her in his trunk as he drives away he tells the youths to leave erin arrives and finds that kemper is still missing andy and erin go back to the monty house where erin distracts him while andy searches for kemper monty realizes andy is inside and summons leatherface who attacks andy with his chainsaw erin escapes and heads towards the woods but leatherface slices andy leg off leatherface carries him to the basement and hangs him on meat hook with his feet hanging over piano where he rubs salt on andy stump of leg before wrapping it in butcher paper and tying it with human hair erin makes it to the mill and tries to escape in the van but the sheriff shows up and after spotting marijuana on the dashboard orders erin morgan and pepper to get out of the van the sheriff gives morgan the gun he took from the hitchhiker and tells morgan to reenact how she killed herself morgan scared and disturbed by the sheriff demeanor and under pressure by erin and pepper attempts to shoot the sheriff only to find the gun is unloaded sheriff hoyt handcuffs morgan and drives him to the hewitt house leaving the girls in the van erin tries to fix the truck while pepper holds flashlight erin gets the truck running and begins to drive but one of the wheels falls off erin and pepper stay still in the truck but leatherface appears on the top of the truck and tries to attack them by chainsawing the roof after witnessing pepper murder by leatherface erin who sees that leatherface is wearing kemper face over his own runs to escape and hides in nearby trailer with two women inside who offer her tea and try to soothe her the two women an obese middle aged woman known only as the tea lady and younger woman named henrietta who is presumably her daughter act strangely after they tell erin they don have phone for her to call for help telephone in the trailer rings and henrietta picks it up and tells someone on the other end she here erin discovers they have kidnapped child when she sees that the baby with them is the same child in photograph with the woman who committed suicide earlier however the tea is drugged and she passes out when she tries to leave the trailer erin wakes up at the hewitt house surrounded by the hewitt family leatherface his mother luda may sheriff hoyt uncle monty and the little boy jedediah luda may tells erin that her excuse for her son thomas actions is that her son was tormented by teenagers and that she felt no one cared for her family besides themselves erin is taken to the basement where she finds andy she tries to help him off of the meat hook but when he sees he will land on the piano keys and alert leatherface he begs her to kill him which she does though suffering severe emotional trauma afterwards she finds morgan who is still handcuffed jedediah who clearly does not agree with the actions of his family leads them out of the house jedediah rejects erin plea to come with them rather staying there and distracts leatherface long enough for them to escape erin and morgan find an abandoned house in the woods and barricade themselves inside leatherface breaks in and discovers erin but morgan attacks leatherface causing him to drop his chainsaw morgan grabs him and wrestles him but leatherface is large powerful man who easily lifts morgan upwards toward chandelier where morgan becomes entangled by his handcuffs and is left hanging and defenseless leatherface picks up his chainsaw slicing up into morgan crotch and killing him erin runs out of the shack and escapes through the woods leatherface trips on fence and cuts his leg while pursuing her erin finds slaughterhouse and hides in locker leatherface opens the locker across from hers and she attacks him with meat cleaver chopping off his right arm erin runs outside and flags down trucker whom she tries to convince to go away from the hewitt house but he stops to find help at the eatery erin sees luda may and watches as sheriff hoyt arrives and talks to the trucker erin sees henrietta watching over the kidnapped baby in highchair when henrietta walks outside to join luda may and sheriff hoyt who are talking to the truck driver erin sneaks the baby out of the eatery and places her in the sheriff car and hot wires it hoyt notices her and tries to stop her but she runs him down and runs him over repeatedly until he is dead leatherface appears in the road with the chainsaw and tries to stop her but he is too slow and erin manages to escape with the baby unharmed\n",
      "\n",
      "------------------\n",
      "--- Min Error ----\n",
      "------------------\n",
      "\n",
      "Keras W2V Mod2 Predicted classes: ['Drama']\n",
      "Keras W2V Mod2 Actual classes: ['Drama']\n",
      "Keras W2V Mod2 Synopsis:\n",
      "joe gideon is theatre director and choreographer trying to balance work on his latest broadway musical with editing hollywood film he has directed he is workaholic who chain smokes cigarettes and chain sleeps with his dancers without daily dose of vivaldi visine alka seltzer dexedrine and sex he wouldn have the energy to keep up the biggest show of all his life his girlfriend katie jagger his ex wife audrey paris and daughter michelle try to pull him back from the brink but it is too late for his exhausted body and stress ravaged heart decades of overwork and constant stress have gotten to gideon in his imagination he flirts with an angel of death named angelique gideon condition gets progressively worse he is rushed to hospital with chest pains after particularly stressful script rehearsal and admitted with severe attacks of angina joe brushes off his symptoms and attempts to leave to go back to rehearsal but he collapses in the doctor office and is ordered to stay in the hospital for three to four weeks to rest his heart and recover from his exhaustion the show is postponed but gideon continues his antics from the hospital bed champagne flows endless strings of women frolic around his hospital room and the cigarettes are always lit cardiogram readings don show any improvement gideon is playing with death as the paltry reviews for his feature film come in gideon has massive coronary and is taken straight to coronary artery bypass surgery the backers for the broadway show must decide now whether it time to pack up or replace gideon as the director their matter of fact money oriented negotiations with the insurers are juxtaposed with graphic scenes of open heart surgery the producers realize that the best way to recoup their money and make profit is to bet on gideon dying which would bring in profit of over usd meanwhile elements from gideon past life are staged in dazzling dream sequences of musical numbers he directs from his hospital bed while on life support realizing his death is imminent his mortality unconquerable gideon has another heart attack in the glittery finale he goes through the five stages of death anger denial bargaining depression and acceptance featured in the stand up routine he has been editing as death closes in on gideon the fantasy episodes become more hallucinatory and extravagant and in final epilogue that is set up as truly monumental live variety show featuring everyone from his past gideon himself takes center stage\n",
      "\n",
      "\n",
      "Keras W2V Mod2 Predicted classes: ['Drama']\n",
      "Keras W2V Mod2 Actual classes: ['Drama']\n",
      "Keras W2V Mod2 Synopsis:\n",
      "london hospital surgeon frederick treves discovers john merrick in victorian freak show in london east end where he is managed by the brutish bytes merrick is deformed to the point that he must wear hood and cap when in public and bytes claims he is an imbecile treves is professionally intrigued by merrick condition and pays bytes to bring him to the hospital so that he can examine him there treves presents merrick to his colleagues in lecture theatre displaying him as physiological curiosity treves draws attention to merrick most life threatening deformity his abnormally large skull which compels him to sleep with his head resting upon his knees as the weight of his skull would asphyxiate him if he were to ever lie down on merrick return bytes beats him severely enough that sympathetic apprentice alerts treves who returns him to the hospital bytes accuses treves of likewise exploiting merrick for his own ends leading the surgeon to resolve to do what he can to help the unfortunate man the ward nurses are horrified by merrick appearance so treves places him in quarantine room under the watchful care of the formidable matron mrs mothershead mr carr gomm the hospital governor is reluctant to house merrick as the hospital is not designed as residence for incurables to persuade carr gomm that merrick has potential treves coaches him to recite few polite phrases carr gomm sees through the ruse but as he walks away both men are astonished to hear merrick recite the rd psalm shocked by this display of intelligence carr gomm allows merrick to remain merrick is gradually revealed to be sophisticated and articulate carr gomm arranges suite of rooms for him to reside in at the hospital and merrick passes his days reading drawing and making model of church visible through his window one day treves brings him to take afternoon tea at home together with his wife ann merrick overwhelmed by the familial love he perceives in the domesticity about him shows them his most treasured possession picture of his mother and expresses his wish that she would love him if she could only see what lovely friends he now has later merrick begins to receive society visitors in his rooms including the celebrated actress madge kendal he becomes popular object of curiosity and charity to high society as these connections and visits increase mrs mothershead complains to treves that he is still being treated as freak show attraction albeit in more upper class celebrated style for treves part this observation deeply trouble him and he begins to question whether or not he has done the right thing and while merrick is treated well during the daytime the night porter secretly makes money by bringing punters from nearby pubs to gawk at merrick threatened dissent at board meeting toward the decision to keep merrick indefinitely is overturned when the hospital royal patron alexandra pays surprise visit with message from queen victoria stating that merrick will receive permanent care at the hospital and the necessary funds have been arranged but merrick is then returned to his old life when bytes gains access to his room during one of the night porter late night viewings bytes abducts merrick to continental europe where he is once again put on show and subjected to cruelty and neglect treves consumed with guilt over merrick plight takes action against the night porter with the help of mrs mothershead merrick escapes with the help of his fellow freak show attractions and makes it back to london however he is harassed by group of boys at liverpool street station and accidentally knocks down young girl he is chased unmasked and cornered by an angry mob at which point he cries out am not an elephant am not an animal am human being am man before collapsing when the police return merrick to the hospital he is reinstated to his rooms he recovers little but it is soon clear he is dying from chronic obstructive pulmonary disease as treat mrs kendal arranges an evening at the musical theatre resplendent in white tie he rises in the royal box to an ovation having had the performance dedicated to him from mrs kendal that night back at the hospital merrick thanks treves for all he has done and finishes his model of the nearby church imitating one of his sketches on the wall sleeping child he removes the pillows that have allowed him to sleep in an upright position lies down on his bed and dies consoled by vision of his mother mary jane merrick quoting alfred lord tennyson nothing will die\n",
      "\n"
     ]
    }
   ],
   "source": [
    "print_good_and_bad_from_models(keras_w2v_mod2, 'Keras W2V Mod2')"
   ]
  },
  {
   "cell_type": "markdown",
   "metadata": {},
   "source": [
    "**Drama** and **Comedy** must be the most common genres since the algorithm seems most likely to predict one or both of these genres.  The algorithm seems more likely to fail when there are multiple genres for a movie and at least one of those genres isn't **drama** or **comedy**. "
   ]
  },
  {
   "cell_type": "code",
   "execution_count": null,
   "metadata": {},
   "outputs": [],
   "source": []
  }
 ],
 "metadata": {
  "anaconda-cloud": {},
  "kernelspec": {
   "display_name": "Python [conda env:tensorflow2]",
   "language": "python",
   "name": "conda-env-tensorflow2-py"
  },
  "language_info": {
   "codemirror_mode": {
    "name": "ipython",
    "version": 3
   },
   "file_extension": ".py",
   "mimetype": "text/x-python",
   "name": "python",
   "nbconvert_exporter": "python",
   "pygments_lexer": "ipython3",
   "version": "3.6.4"
  }
 },
 "nbformat": 4,
 "nbformat_minor": 2
}

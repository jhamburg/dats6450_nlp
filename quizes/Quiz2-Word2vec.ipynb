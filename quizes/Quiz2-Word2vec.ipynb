{
 "cells": [
  {
   "cell_type": "markdown",
   "metadata": {},
   "source": [
    "### Question 1:\n",
    "\n",
    "What two types of vector representations are depicted? What are the differences between the two representations (type of information represented, utility, form)?\n",
    "\n",
    "#### First representation\n",
    "![](https://adriancolyer.files.wordpress.com/2016/04/word2vec-one-hot.png?w=600)\n",
    "#### Second representation\n",
    "![](https://adriancolyer.files.wordpress.com/2016/04/word2vec-distributed-representation.png?w=600)"
   ]
  },
  {
   "cell_type": "markdown",
   "metadata": {},
   "source": [
    "The first representation is **one-hot enconding**.  In this case, there is a column for each word and there is a value of 1 if the row has the word or 0 if it doesn't.  This is useful when creating dummy variables in normal regression techniques and allows us to visualize which words are contained in each sentence.  However, it doesn't allow words to have meaning and results sparse vectors.\n",
    "\n",
    "The second representation is an **embedding**, where the different words in the corpus, (each vector or column in the picture) has a weight based on a combination of the different words after running through a small neural network.  This essentially will squash a sparse matrix into a dense matrix and show similarilties or themes amongst words. "
   ]
  },
  {
   "cell_type": "markdown",
   "metadata": {},
   "source": [
    "### Question 2:\n",
    "\n",
    "Build a word2vec model with gensim using the epic poem Beowulf (https://www.gutenberg.org/files/16328/16328.txt).\n",
    "\n",
    "Build the model with lines as inputs (instead of sentences).\n",
    "\n",
    "Find the words most similar to \"monster\""
   ]
  },
  {
   "cell_type": "code",
   "execution_count": 49,
   "metadata": {},
   "outputs": [],
   "source": [
    "import gensim \n",
    "import urllib\n",
    "\n"
   ]
  },
  {
   "cell_type": "code",
   "execution_count": 66,
   "metadata": {},
   "outputs": [],
   "source": [
    "def read_input(input_file):\n",
    "    for i, line in enumerate(input_file):\n",
    "        yield gensim.utils.simple_preprocess (line) \n",
    "\n",
    "url = 'https://www.gutenberg.org/files/16328/16328.txt'\n",
    "f = urllib.request.urlopen(url)\n",
    "\n",
    "docs = list(read_input(f))"
   ]
  },
  {
   "cell_type": "code",
   "execution_count": 67,
   "metadata": {},
   "outputs": [],
   "source": [
    "# Filter out all lines that are blank and then start at the start \n",
    "# of the book which is the preface, line 202\n",
    "docs = [d for d in docs[201:] if d !=[]]"
   ]
  },
  {
   "cell_type": "code",
   "execution_count": 70,
   "metadata": {},
   "outputs": [
    {
     "data": {
      "text/plain": [
       "573262"
      ]
     },
     "execution_count": 70,
     "metadata": {},
     "output_type": "execute_result"
    }
   ],
   "source": [
    "model = gensim.models.Word2Vec(docs, size=200, window=10, min_count=2, workers=10)\n",
    "model.train(docs,total_examples=len(docs),epochs=20)"
   ]
  },
  {
   "cell_type": "code",
   "execution_count": 71,
   "metadata": {},
   "outputs": [
    {
     "data": {
      "text/plain": [
       "[('blood', 0.9977182745933533),\n",
       " ('envious', 0.9971992373466492),\n",
       " ('geatman', 0.997132420539856),\n",
       " ('bedecked', 0.9970406293869019),\n",
       " ('plundered', 0.9966367483139038),\n",
       " ('drake', 0.9966057538986206),\n",
       " ('glee', 0.9965920448303223),\n",
       " ('deed', 0.9965583086013794),\n",
       " ('drank', 0.9964797496795654),\n",
       " ('bill', 0.9964701533317566)]"
      ]
     },
     "execution_count": 71,
     "metadata": {},
     "output_type": "execute_result"
    }
   ],
   "source": [
    "model.most_similar('monster')"
   ]
  },
  {
   "cell_type": "code",
   "execution_count": null,
   "metadata": {},
   "outputs": [],
   "source": []
  }
 ],
 "metadata": {
  "kernelspec": {
   "display_name": "Python [conda env:tensorflow2]",
   "language": "python",
   "name": "conda-env-tensorflow2-py"
  },
  "language_info": {
   "codemirror_mode": {
    "name": "ipython",
    "version": 3
   },
   "file_extension": ".py",
   "mimetype": "text/x-python",
   "name": "python",
   "nbconvert_exporter": "python",
   "pygments_lexer": "ipython3",
   "version": "3.6.4"
  }
 },
 "nbformat": 4,
 "nbformat_minor": 2
}

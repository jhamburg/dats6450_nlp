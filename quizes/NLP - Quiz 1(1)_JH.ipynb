{
 "cells": [
  {
   "cell_type": "markdown",
   "metadata": {},
   "source": [
    "### NLP Quiz 1 - 10 points\n",
    "\n",
    "Below are two questions with multiple parts. You will have 20 minutes to do the quiz. All of your notes, course materials, and attached links in the course material are available to you. Slack is not, and please do not consult the Internet/Google/Stackoverflow.\n",
    "\n",
    "**Good luck!**"
   ]
  },
  {
   "cell_type": "markdown",
   "metadata": {},
   "source": [
    "#### Question 1. Regex and string manipulation\n",
    "Below are 3 regex questions, each worth 2 points."
   ]
  },
  {
   "cell_type": "markdown",
   "metadata": {},
   "source": [
    "1a. Extract 'nlp.gwu.edu' from 'sentence' using re.findall"
   ]
  },
  {
   "cell_type": "code",
   "execution_count": 7,
   "metadata": {},
   "outputs": [
    {
     "name": "stdout",
     "output_type": "stream",
     "text": [
      "nlp.gwu.edu\n"
     ]
    }
   ],
   "source": [
    "import re\n",
    "\n",
    "sentence = \"From tim.stacey@nlp.gwu.edu Date: Sat Jan  5 09:14:16 2018\"\n",
    "domain = re.findall(r'@(\\w+.\\w+.\\w+)', sentence)[0]\n",
    "print(domain)"
   ]
  },
  {
   "cell_type": "markdown",
   "metadata": {},
   "source": [
    "1b. Extract the whole email address from 'sentence' using re.findall"
   ]
  },
  {
   "cell_type": "code",
   "execution_count": 9,
   "metadata": {},
   "outputs": [
    {
     "name": "stdout",
     "output_type": "stream",
     "text": [
      "tim.stacey@nlp.gwu.edu\n"
     ]
    }
   ],
   "source": [
    "email = re.findall(r'(\\w+.\\w+@\\w+.\\w+.\\w+)', sentence)[0]\n",
    "print(email)"
   ]
  },
  {
   "cell_type": "markdown",
   "metadata": {},
   "source": [
    "1c. Extract the time ('09:14:16') from 'sentence' using regex:"
   ]
  },
  {
   "cell_type": "code",
   "execution_count": 12,
   "metadata": {},
   "outputs": [
    {
     "name": "stdout",
     "output_type": "stream",
     "text": [
      "09:14:16\n"
     ]
    }
   ],
   "source": [
    "time = re.findall(r'\\d{2}:\\d{2}:\\d{2}', sentence)[0]\n",
    "print(time)"
   ]
  },
  {
   "cell_type": "markdown",
   "metadata": {},
   "source": [
    "#### Question 2. tfidf - 4 points\n",
    "Calculate the tfidf matrix for the set of documents, then find the biggest tfidf term for each document and print out that term.\n",
    "\n",
    "*Hint:* loop through the matrix, use .argmax(), and the .vocabulary_ attribute of the TfidfVectorizer\n",
    "\n",
    "*Hint2:* invert a dictionary with {v:k for k,v in dictionary.items()}"
   ]
  },
  {
   "cell_type": "code",
   "execution_count": 47,
   "metadata": {},
   "outputs": [],
   "source": [
    "from sklearn.feature_extraction.text import TfidfVectorizer\n",
    "\n",
    "documents = ['Julie loves me more than Linda loves me',\n",
    "'Jane likes me more than Julie loves me',\n",
    "'He likes basketball more than baseball']\n",
    "\n",
    "# vectorizer = TfidfVectorizer(stop_words='english')\n",
    "vectorizer = TfidfVectorizer() # Due to few docs, will not remove stopwords\n",
    "tfidf_matrix = vectorizer.fit_transform(documents)"
   ]
  },
  {
   "cell_type": "code",
   "execution_count": 48,
   "metadata": {},
   "outputs": [],
   "source": [
    "vocab = {str(v): k for k, v in vectorizer.vocabulary_.items()}\n",
    "\n",
    "maxWordPerDoc = {}\n",
    "for i in range(len(documents)):\n",
    "    maxWord = tfidf_matrix[i, :].argmax()\n",
    "    maxWordPerDoc['doc' + str(i)] = vocab[str(maxWord)]\n",
    "    \n",
    "# vectorizer.vocabulary_"
   ]
  },
  {
   "cell_type": "code",
   "execution_count": 49,
   "metadata": {},
   "outputs": [
    {
     "name": "stdout",
     "output_type": "stream",
     "text": [
      "Max tfidf term for each document is: \n",
      "{'doc0': 'loves', 'doc1': 'me', 'doc2': 'baseball'}\n"
     ]
    }
   ],
   "source": [
    "print('Max tfidf term for each document is: \\n{}'.format(maxWordPerDoc))"
   ]
  }
 ],
 "metadata": {
  "kernelspec": {
   "display_name": "Python 3",
   "language": "python",
   "name": "python3"
  },
  "language_info": {
   "codemirror_mode": {
    "name": "ipython",
    "version": 3
   },
   "file_extension": ".py",
   "mimetype": "text/x-python",
   "name": "python",
   "nbconvert_exporter": "python",
   "pygments_lexer": "ipython3",
   "version": "3.6.3"
  }
 },
 "nbformat": 4,
 "nbformat_minor": 2
}

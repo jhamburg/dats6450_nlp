{
 "cells": [
  {
   "cell_type": "markdown",
   "metadata": {},
   "source": [
    "## Movie Review Classification\n",
    "\n",
    "![This is getting exciting](https://i.kinja-img.com/gawker-media/image/upload/s--hIgTSFEs--/c_fit,fl_progressive,q_80,w_320/17j2zn73qxdlfgif.jpg)"
   ]
  },
  {
   "cell_type": "markdown",
   "metadata": {},
   "source": [
    "Using all that we have learned, we will now combine our techniques to perform some basic classifcation! We'll be using the nltk movie reviews data set, we will classify positive and negative reviews. Here's some code to get you started:"
   ]
  },
  {
   "cell_type": "code",
   "execution_count": 1,
   "metadata": {},
   "outputs": [],
   "source": [
    "# NLP libraries\n",
    "import nltk\n",
    "from nltk.corpus import stopwords, movie_reviews as reviews\n",
    "from nltk import word_tokenize\n",
    "from nltk.stem.porter import PorterStemmer\n",
    "from nltk.stem.snowball import SnowballStemmer\n",
    "from nltk.stem.wordnet import WordNetLemmatizer\n",
    "from sklearn.feature_extraction.text import TfidfVectorizer\n",
    "\n",
    "# Misc\n",
    "import re\n",
    "import string\n",
    "import numpy as np\n",
    "import pandas as pd\n",
    "import time\n",
    "\n",
    "# Preprocessing\n",
    "from sklearn.preprocessing import LabelBinarizer\n",
    "from sklearn.model_selection import train_test_split\n",
    "\n",
    "# Models\n",
    "from sklearn import linear_model\n",
    "from sklearn.ensemble import RandomForestClassifier\n",
    "from sklearn.svm import LinearSVC\n",
    "\n",
    "# Model evaluation\n",
    "from sklearn import metrics"
   ]
  },
  {
   "cell_type": "code",
   "execution_count": 2,
   "metadata": {},
   "outputs": [],
   "source": [
    "X = [reviews.raw(fileid) for fileid in reviews.fileids()]\n",
    "y = [reviews.categories(fileid)[0] for fileid in reviews.fileids()]\n",
    "\n",
    "# Recode positive reviews as 1 and negative as 0\n"
   ]
  },
  {
   "cell_type": "markdown",
   "metadata": {},
   "source": [
    "1 - Print a positive and negative review:"
   ]
  },
  {
   "cell_type": "code",
   "execution_count": 3,
   "metadata": {},
   "outputs": [
    {
     "name": "stdout",
     "output_type": "stream",
     "text": [
      "A positive review:\n",
      "\n",
      "films adapted from comic books have had plenty of success , whether they're about superheroes ( batman , superman , spawn ) , or geared toward kids ( casper ) or the arthouse crowd ( ghost world ) , but there's never really been a comic book like from hell before . \n",
      "for starters , it was created by alan moore ( and eddie campbell ) , who brought the medium to a whole new level in the mid '80s with a 12-part series called the watchmen . \n",
      "to say moore and campbell thoroughly researched the subject of jack the ripper would be like saying michael jackson is starting to look a little odd . \n",
      "the book ( or \" graphic novel , \" if you will ) is over 500 pages long and includes nearly 30 more that consist of nothing but footnotes . \n",
      "in other words , don't dismiss this film because of its source . \n",
      "if you can get past the whole comic book thing , you might find another stumbling block in from hell's directors , albert and allen hughes . \n",
      "getting the hughes brothers to direct this seems almost as ludicrous as casting carrot top in , well , anything , but riddle me this : who better to direct a film that's set in the ghetto and features really violent street crime than the mad geniuses behind menace ii society ? \n",
      "the ghetto in question is , of course , whitechapel in 1888 london's east end . \n",
      "it's a filthy , sooty place where the whores ( called \" unfortunates \" ) are starting to get a little nervous about this mysterious psychopath who has been carving through their profession with surgical precision . \n",
      "when the first stiff turns up , copper peter godley ( robbie coltrane , the world is not enough ) calls in inspector frederick abberline ( johnny depp , blow ) to crack the case . \n",
      "abberline , a widower , has prophetic dreams he unsuccessfully tries to quell with copious amounts of absinthe and opium . \n",
      "upon arriving in whitechapel , he befriends an unfortunate named mary kelly ( heather graham , say it isn't so ) and proceeds to investigate the horribly gruesome crimes that even the police surgeon can't stomach . \n",
      "i don't think anyone needs to be briefed on jack the ripper , so i won't go into the particulars here , other than to say moore and campbell have a unique and interesting theory about both the identity of the killer and the reasons he chooses to slay . \n",
      "in the comic , they don't bother cloaking the identity of the ripper , but screenwriters terry hayes ( vertical limit ) and rafael yglesias ( les mis ? rables ) do a good job of keeping him hidden from viewers until the very end . \n",
      "it's funny to watch the locals blindly point the finger of blame at jews and indians because , after all , an englishman could never be capable of committing such ghastly acts . \n",
      "and from hell's ending had me whistling the stonecutters song from the simpsons for days ( \" who holds back the electric car/who made steve guttenberg a star ? \" ) . \n",
      "don't worry - it'll all make sense when you see it . \n",
      "now onto from hell's appearance : it's certainly dark and bleak enough , and it's surprising to see how much more it looks like a tim burton film than planet of the apes did ( at times , it seems like sleepy hollow 2 ) . \n",
      "the print i saw wasn't completely finished ( both color and music had not been finalized , so no comments about marilyn manson ) , but cinematographer peter deming ( don't say a word ) ably captures the dreariness of victorian-era london and helped make the flashy killing scenes remind me of the crazy flashbacks in twin peaks , even though the violence in the film pales in comparison to that in the black-and-white comic . \n",
      "oscar winner martin childs' ( shakespeare in love ) production design turns the original prague surroundings into one creepy place . \n",
      "even the acting in from hell is solid , with the dreamy depp turning in a typically strong performance and deftly handling a british accent . \n",
      "ians holm ( joe gould's secret ) and richardson ( 102 dalmatians ) log in great supporting roles , but the big surprise here is graham . \n",
      "i cringed the first time she opened her mouth , imagining her attempt at an irish accent , but it actually wasn't half bad . \n",
      "the film , however , is all good . \n",
      "2 : 00 - r for strong violence/gore , sexuality , language and drug content \n",
      "\n",
      "A negative review:\n",
      "\n",
      "plot : two teen couples go to a church party , drink and then drive . \n",
      "they get into an accident . \n",
      "one of the guys dies , but his girlfriend continues to see him in her life , and has nightmares . \n",
      "what's the deal ? \n",
      "watch the movie and \" sorta \" find out . . . \n",
      "critique : a mind-fuck movie for the teen generation that touches on a very cool idea , but presents it in a very bad package . \n",
      "which is what makes this review an even harder one to write , since i generally applaud films which attempt to break the mold , mess with your head and such ( lost highway & memento ) , but there are good and bad ways of making all types of films , and these folks just didn't snag this one correctly . \n",
      "they seem to have taken this pretty neat concept , but executed it terribly . \n",
      "so what are the problems with the movie ? \n",
      "well , its main problem is that it's simply too jumbled . \n",
      "it starts off \" normal \" but then downshifts into this \" fantasy \" world in which you , as an audience member , have no idea what's going on . \n",
      "there are dreams , there are characters coming back from the dead , there are others who look like the dead , there are strange apparitions , there are disappearances , there are a looooot of chase scenes , there are tons of weird things that happen , and most of it is simply not explained . \n",
      "now i personally don't mind trying to unravel a film every now and then , but when all it does is give me the same clue over and over again , i get kind of fed up after a while , which is this film's biggest problem . \n",
      "it's obviously got this big secret to hide , but it seems to want to hide it completely until its final five minutes . \n",
      "and do they make things entertaining , thrilling or even engaging , in the meantime ? \n",
      "not really . \n",
      "the sad part is that the arrow and i both dig on flicks like this , so we actually figured most of it out by the half-way point , so all of the strangeness after that did start to make a little bit of sense , but it still didn't the make the film all that more entertaining . \n",
      "i guess the bottom line with movies like this is that you should always make sure that the audience is \" into it \" even before they are given the secret password to enter your world of understanding . \n",
      "i mean , showing melissa sagemiller running away from visions for about 20 minutes throughout the movie is just plain lazy ! ! \n",
      "okay , we get it . . . there \n",
      "are people chasing her and we don't know who they are . \n",
      "do we really need to see it over and over again ? \n",
      "how about giving us different scenes offering further insight into all of the strangeness going down in the movie ? \n",
      "apparently , the studio took this film away from its director and chopped it up themselves , and it shows . \n",
      "there might've been a pretty decent teen mind-fuck movie in here somewhere , but i guess \" the suits \" decided that turning it into a music video with little edge , would make more sense . \n",
      "the actors are pretty good for the most part , although wes bentley just seemed to be playing the exact same character that he did in american beauty , only in a new neighborhood . \n",
      "but my biggest kudos go out to sagemiller , who holds her own throughout the entire film , and actually has you feeling her character's unraveling . \n",
      "overall , the film doesn't stick because it doesn't entertain , it's confusing , it rarely excites and it feels pretty redundant for most of its runtime , despite a pretty cool ending and explanation to all of the craziness that came before it . \n",
      "oh , and by the way , this is not a horror or teen slasher flick . . . it's \n",
      "just packaged to look that way because someone is apparently assuming that the genre is still hot with the kids . \n",
      "it also wrapped production two years ago and has been sitting on the shelves ever since . \n",
      "whatever . . . skip \n",
      "it ! \n",
      "where's joblo coming from ? \n",
      "a nightmare of elm street 3 ( 7/10 ) - blair witch 2 ( 7/10 ) - the crow ( 9/10 ) - the crow : salvation ( 4/10 ) - lost highway ( 10/10 ) - memento ( 10/10 ) - the others ( 9/10 ) - stir of echoes ( 8/10 ) \n",
      "\n"
     ]
    }
   ],
   "source": [
    "import numpy as np\n",
    "\n",
    "def print_first_review(rev_type, reviews, sentiment):\n",
    "    rev_array = np.array(reviews)\n",
    "    sent_array = np.array(sentiment)\n",
    "    print(rev_array[sent_array == rev_type][0])\n",
    "\n",
    "print('A positive review:\\n')\n",
    "print_first_review('pos', X, y)\n",
    "\n",
    "print('A negative review:\\n')\n",
    "print_first_review('neg', X, y)"
   ]
  },
  {
   "cell_type": "markdown",
   "metadata": {},
   "source": [
    "2 - Using the scikit train_test_split function (http://scikit-learn.org/stable/modules/generated/sklearn.model_selection.train_test_split.html), split the data into a training set and a test set. "
   ]
  },
  {
   "cell_type": "code",
   "execution_count": 4,
   "metadata": {},
   "outputs": [],
   "source": [
    "# Random State\n",
    "seed = np.random.seed(10)\n",
    "\n",
    "# Split data\n",
    "\n",
    "X_train, X_test, y_train, y_test = train_test_split(X, y, \n",
    "                                                    test_size = .2,\n",
    "                                                    random_state = seed)"
   ]
  },
  {
   "cell_type": "markdown",
   "metadata": {},
   "source": [
    "3 - Then lemmatize or stem the reviews, and transform the documents to tf-idf."
   ]
  },
  {
   "cell_type": "code",
   "execution_count": 5,
   "metadata": {},
   "outputs": [],
   "source": [
    "# Stemmers/Lemmatizers\n",
    "porter = PorterStemmer()\n",
    "snowball = SnowballStemmer('english')\n",
    "wordnet = WordNetLemmatizer()"
   ]
  },
  {
   "cell_type": "code",
   "execution_count": 6,
   "metadata": {},
   "outputs": [],
   "source": [
    "# here I define a tokenizer and stemmer which returns the set of\n",
    "# stems in the text that it is passed. Also remove stopwords \n",
    "# and punctuation\n",
    "regex = re.compile('[%s]' % re.escape(string.punctuation))\n",
    "\n",
    "def tokenize(text):\n",
    "    # first tokenize by sentence, then by word to ensure that punctuation is caught as it's own token\n",
    "    tokens = [word for sent in nltk.sent_tokenize(text) for word in nltk.word_tokenize(sent)]\n",
    "    filtered_tokens = []\n",
    "    # filter out any tokens not containing letters (e.g., numeric tokens, raw punctuation)\n",
    "    for token in tokens:\n",
    "        # Remove punctuation\n",
    "        noPunc_token = regex.sub(u'', token)\n",
    "        if re.search('[a-zA-Z]', noPunc_token):\n",
    "            filtered_tokens.append(token)\n",
    "    return filtered_tokens\n",
    "\n",
    "def tokenize_and_porter(text):\n",
    "    tokenized = tokenize(text)\n",
    "    stems = [porter.stem(t) for t in tokenized]\n",
    "    return stems\n",
    "\n",
    "def tokenize_and_snowball(text):\n",
    "    tokenized = tokenize(text)\n",
    "    stems = [snowball.stem(t) for t in tokenized]\n",
    "    return stems\n",
    "\n",
    "def tokenize_and_wordnet(text):\n",
    "    tokenized = tokenize(text)\n",
    "    stems = [wordnet.lemmatize(t) for t in tokenized]\n",
    "    return stems\n",
    "\n",
    "def tokenize_only(text):\n",
    "    return tokenize(text)"
   ]
  },
  {
   "cell_type": "code",
   "execution_count": 7,
   "metadata": {},
   "outputs": [],
   "source": [
    "# Given token\n",
    "tokenizer = tokenize_and_porter\n",
    "\n",
    "# Tokenization and Stemming/Lemmatization\n",
    "tfidf_vectorizer = TfidfVectorizer(max_df=.8, min_df=.01,\n",
    "                                   stop_words='english', \n",
    "                                   use_idf=True, ngram_range=(1, 3),\n",
    "                                   tokenizer=tokenizer)\n",
    "\n",
    "# Train and transform documents\n",
    "vectorized_train_docs = tfidf_vectorizer.fit_transform(X_train)\n",
    "vectorized_test_docs = tfidf_vectorizer.transform(X_test)\n",
    "\n",
    "# Transform labels\n",
    "lb = LabelBinarizer()\n",
    "train_labels = lb.fit_transform(y_train)\n",
    "test_labels = lb.transform(y_test)"
   ]
  },
  {
   "cell_type": "markdown",
   "metadata": {},
   "source": [
    "4 - Finally, build a model. To start, use a logistic regression (which we will review in detail in the coming lectures) (http://scikit-learn.org/stable/modules/generated/sklearn.linear_model.LogisticRegression.html)"
   ]
  },
  {
   "cell_type": "code",
   "execution_count": 8,
   "metadata": {},
   "outputs": [],
   "source": [
    "clf = linear_model.LogisticRegressionCV(cv=5, random_state=seed)\n",
    "clf.fit(vectorized_train_docs, train_labels.ravel())\n",
    "preds = clf.predict(vectorized_test_docs)"
   ]
  },
  {
   "cell_type": "markdown",
   "metadata": {},
   "source": [
    "5 - Measure the efficacy of your model using the Reciever Operator Characteristic (ROC) Area Under the Curve (AUC). Report this metric on the test set of your data.\n",
    "\n",
    "For more info on this, see: http://scikit-learn.org/stable/auto_examples/model_selection/plot_roc_crossval.html#sphx-glr-auto-examples-model-selection-plot-roc-crossval-py"
   ]
  },
  {
   "cell_type": "code",
   "execution_count": 9,
   "metadata": {},
   "outputs": [
    {
     "data": {
      "text/plain": [
       "0.82245153220762979"
      ]
     },
     "execution_count": 9,
     "metadata": {},
     "output_type": "execute_result"
    }
   ],
   "source": [
    "aucScore_1 = metrics.roc_auc_score(test_labels, preds)\n",
    "aucScore_1"
   ]
  },
  {
   "cell_type": "markdown",
   "metadata": {},
   "source": [
    "6 - Change a parameter in your model (introduce regularization) or change a parameter in your word vector transformation (http://scikit-learn.org/stable/modules/generated/sklearn.feature_extraction.text.TfidfVectorizer.html). Try introducing the use of stop words, or employing a cutoff on terms with min or max df."
   ]
  },
  {
   "cell_type": "code",
   "execution_count": 10,
   "metadata": {},
   "outputs": [],
   "source": [
    "# Build functions to easily call process and by default switch things\n",
    "\n",
    "# Tokenization and Stemming/Lemmatization\n",
    "def build_tfidfvectorizer(tokenizer, maxdf=.8, mindf=.01,\n",
    "                          ngramRange=(1, 3)):\n",
    "    return TfidfVectorizer(tokenizer=tokenizer, max_df=maxdf, \n",
    "                           min_df=mindf, stop_words='english', \n",
    "                           use_idf=True, ngram_range=ngramRange)\n",
    "\n",
    "\n",
    "def buildModelAndGetAUCScore(tfidf_vectorizer, model):\n",
    "    # Train and transform documents\n",
    "    vectorized_train_docs = tfidf_vectorizer.fit_transform(X_train)\n",
    "    vectorized_test_docs = tfidf_vectorizer.transform(X_test)\n",
    "\n",
    "    # Transform labels\n",
    "    lb = LabelBinarizer()\n",
    "    train_labels = lb.fit_transform(y_train)\n",
    "    test_labels = lb.transform(y_test)\n",
    "    \n",
    "    clf = model\n",
    "    clf.fit(vectorized_train_docs, train_labels.ravel())\n",
    "    preds = clf.predict(vectorized_test_docs)\n",
    "    \n",
    "    return metrics.roc_auc_score(test_labels, preds)"
   ]
  },
  {
   "cell_type": "markdown",
   "metadata": {},
   "source": [
    "7 - Make four models in total, changing parameters and comparing the AUC results. Report your findings in a tabular form."
   ]
  },
  {
   "cell_type": "markdown",
   "metadata": {},
   "source": [
    "Make a list of different tokenizations and models"
   ]
  },
  {
   "cell_type": "code",
   "execution_count": 11,
   "metadata": {},
   "outputs": [],
   "source": [
    "tokenizers = {\n",
    "    'tokenOnly': tokenize,\n",
    "    'tokenAndPorter': tokenize_and_porter,\n",
    "    'tokenAndSnowball': tokenize_and_snowball,\n",
    "    'tokenAndWordnet': tokenize_and_wordnet\n",
    "}\n",
    "\n",
    "mods = {\n",
    "    'logRegNorm': linear_model.LogisticRegression(random_state=seed),\n",
    "    'logRegCV5Fold': linear_model.LogisticRegressionCV(cv=5, random_state=seed),\n",
    "    'SVM': LinearSVC(random_state=seed),\n",
    "    'randomForrest': RandomForestClassifier(max_depth=5, random_state=seed),\n",
    "    'SGDLogistic': linear_model.SGDClassifier(loss='log', penalty='elasticnet', random_state=seed),\n",
    "    'SGDsvm': linear_model.SGDClassifier(penalty='elasticnet', random_state=seed) \n",
    "}"
   ]
  },
  {
   "cell_type": "markdown",
   "metadata": {},
   "source": [
    "Create a function to loop through all models and tokenizations"
   ]
  },
  {
   "cell_type": "code",
   "execution_count": 12,
   "metadata": {},
   "outputs": [],
   "source": [
    "def runAll():\n",
    "    res = []\n",
    "    for tokenName, token in tokenizers.items():\n",
    "        for modName, mod in mods.items():\n",
    "            stTime = time.time()\n",
    "            aucScore = buildModelAndGetAUCScore(build_tfidfvectorizer(token),\n",
    "                                                mod)\n",
    "            elapsedTime = time.time() - stTime\n",
    "            res.append((tokenName, modName, aucScore, elapsedTime))\n",
    "    return res            "
   ]
  },
  {
   "cell_type": "code",
   "execution_count": 13,
   "metadata": {},
   "outputs": [
    {
     "name": "stderr",
     "output_type": "stream",
     "text": [
      "/home/jon/anaconda3/lib/python3.6/site-packages/sklearn/linear_model/stochastic_gradient.py:128: FutureWarning: max_iter and tol parameters have been added in <class 'sklearn.linear_model.stochastic_gradient.SGDClassifier'> in 0.19. If both are left unset, they default to max_iter=5 and tol=None. If tol is not None, max_iter defaults to max_iter=1000. From 0.21, default max_iter will be 1000, and default tol will be 1e-3.\n",
      "  \"and default tol will be 1e-3.\" % type(self), FutureWarning)\n",
      "/home/jon/anaconda3/lib/python3.6/site-packages/sklearn/linear_model/stochastic_gradient.py:128: FutureWarning: max_iter and tol parameters have been added in <class 'sklearn.linear_model.stochastic_gradient.SGDClassifier'> in 0.19. If both are left unset, they default to max_iter=5 and tol=None. If tol is not None, max_iter defaults to max_iter=1000. From 0.21, default max_iter will be 1000, and default tol will be 1e-3.\n",
      "  \"and default tol will be 1e-3.\" % type(self), FutureWarning)\n",
      "/home/jon/anaconda3/lib/python3.6/site-packages/sklearn/linear_model/stochastic_gradient.py:128: FutureWarning: max_iter and tol parameters have been added in <class 'sklearn.linear_model.stochastic_gradient.SGDClassifier'> in 0.19. If both are left unset, they default to max_iter=5 and tol=None. If tol is not None, max_iter defaults to max_iter=1000. From 0.21, default max_iter will be 1000, and default tol will be 1e-3.\n",
      "  \"and default tol will be 1e-3.\" % type(self), FutureWarning)\n",
      "/home/jon/anaconda3/lib/python3.6/site-packages/sklearn/linear_model/stochastic_gradient.py:128: FutureWarning: max_iter and tol parameters have been added in <class 'sklearn.linear_model.stochastic_gradient.SGDClassifier'> in 0.19. If both are left unset, they default to max_iter=5 and tol=None. If tol is not None, max_iter defaults to max_iter=1000. From 0.21, default max_iter will be 1000, and default tol will be 1e-3.\n",
      "  \"and default tol will be 1e-3.\" % type(self), FutureWarning)\n"
     ]
    }
   ],
   "source": [
    "results = runAll()"
   ]
  },
  {
   "cell_type": "markdown",
   "metadata": {},
   "source": [
    "Print out final results"
   ]
  },
  {
   "cell_type": "code",
   "execution_count": 14,
   "metadata": {},
   "outputs": [
    {
     "data": {
      "text/html": [
       "<div>\n",
       "<style scoped>\n",
       "    .dataframe tbody tr th:only-of-type {\n",
       "        vertical-align: middle;\n",
       "    }\n",
       "\n",
       "    .dataframe tbody tr th {\n",
       "        vertical-align: top;\n",
       "    }\n",
       "\n",
       "    .dataframe thead th {\n",
       "        text-align: right;\n",
       "    }\n",
       "</style>\n",
       "<table border=\"1\" class=\"dataframe\">\n",
       "  <thead>\n",
       "    <tr style=\"text-align: right;\">\n",
       "      <th></th>\n",
       "      <th>token_and_stem</th>\n",
       "      <th>model</th>\n",
       "      <th>auc_score</th>\n",
       "      <th>timeInSecs</th>\n",
       "    </tr>\n",
       "  </thead>\n",
       "  <tbody>\n",
       "    <tr>\n",
       "      <th>4</th>\n",
       "      <td>tokenOnly</td>\n",
       "      <td>SGDLogistic</td>\n",
       "      <td>0.848343</td>\n",
       "      <td>17.772624</td>\n",
       "    </tr>\n",
       "    <tr>\n",
       "      <th>1</th>\n",
       "      <td>tokenOnly</td>\n",
       "      <td>logRegCV5Fold</td>\n",
       "      <td>0.848093</td>\n",
       "      <td>18.751401</td>\n",
       "    </tr>\n",
       "    <tr>\n",
       "      <th>10</th>\n",
       "      <td>tokenAndPorter</td>\n",
       "      <td>SGDLogistic</td>\n",
       "      <td>0.845403</td>\n",
       "      <td>33.951274</td>\n",
       "    </tr>\n",
       "    <tr>\n",
       "      <th>2</th>\n",
       "      <td>tokenOnly</td>\n",
       "      <td>SVM</td>\n",
       "      <td>0.843215</td>\n",
       "      <td>17.399514</td>\n",
       "    </tr>\n",
       "    <tr>\n",
       "      <th>13</th>\n",
       "      <td>tokenAndSnowball</td>\n",
       "      <td>logRegCV5Fold</td>\n",
       "      <td>0.832833</td>\n",
       "      <td>29.383880</td>\n",
       "    </tr>\n",
       "    <tr>\n",
       "      <th>22</th>\n",
       "      <td>tokenAndWordnet</td>\n",
       "      <td>SGDLogistic</td>\n",
       "      <td>0.830519</td>\n",
       "      <td>21.118517</td>\n",
       "    </tr>\n",
       "    <tr>\n",
       "      <th>6</th>\n",
       "      <td>tokenAndPorter</td>\n",
       "      <td>logRegNorm</td>\n",
       "      <td>0.830269</td>\n",
       "      <td>33.681931</td>\n",
       "    </tr>\n",
       "    <tr>\n",
       "      <th>8</th>\n",
       "      <td>tokenAndPorter</td>\n",
       "      <td>SVM</td>\n",
       "      <td>0.830269</td>\n",
       "      <td>33.619620</td>\n",
       "    </tr>\n",
       "    <tr>\n",
       "      <th>12</th>\n",
       "      <td>tokenAndSnowball</td>\n",
       "      <td>logRegNorm</td>\n",
       "      <td>0.830144</td>\n",
       "      <td>27.714912</td>\n",
       "    </tr>\n",
       "    <tr>\n",
       "      <th>16</th>\n",
       "      <td>tokenAndSnowball</td>\n",
       "      <td>SGDLogistic</td>\n",
       "      <td>0.830019</td>\n",
       "      <td>27.504364</td>\n",
       "    </tr>\n",
       "    <tr>\n",
       "      <th>0</th>\n",
       "      <td>tokenOnly</td>\n",
       "      <td>logRegNorm</td>\n",
       "      <td>0.828330</td>\n",
       "      <td>17.972189</td>\n",
       "    </tr>\n",
       "    <tr>\n",
       "      <th>14</th>\n",
       "      <td>tokenAndSnowball</td>\n",
       "      <td>SVM</td>\n",
       "      <td>0.827705</td>\n",
       "      <td>28.331515</td>\n",
       "    </tr>\n",
       "    <tr>\n",
       "      <th>19</th>\n",
       "      <td>tokenAndWordnet</td>\n",
       "      <td>logRegCV5Fold</td>\n",
       "      <td>0.825766</td>\n",
       "      <td>22.696978</td>\n",
       "    </tr>\n",
       "    <tr>\n",
       "      <th>18</th>\n",
       "      <td>tokenAndWordnet</td>\n",
       "      <td>logRegNorm</td>\n",
       "      <td>0.825516</td>\n",
       "      <td>22.655240</td>\n",
       "    </tr>\n",
       "    <tr>\n",
       "      <th>11</th>\n",
       "      <td>tokenAndPorter</td>\n",
       "      <td>SGDsvm</td>\n",
       "      <td>0.825391</td>\n",
       "      <td>33.542418</td>\n",
       "    </tr>\n",
       "    <tr>\n",
       "      <th>17</th>\n",
       "      <td>tokenAndSnowball</td>\n",
       "      <td>SGDsvm</td>\n",
       "      <td>0.824390</td>\n",
       "      <td>27.453506</td>\n",
       "    </tr>\n",
       "    <tr>\n",
       "      <th>20</th>\n",
       "      <td>tokenAndWordnet</td>\n",
       "      <td>SVM</td>\n",
       "      <td>0.823077</td>\n",
       "      <td>21.602526</td>\n",
       "    </tr>\n",
       "    <tr>\n",
       "      <th>7</th>\n",
       "      <td>tokenAndPorter</td>\n",
       "      <td>logRegCV5Fold</td>\n",
       "      <td>0.822452</td>\n",
       "      <td>34.969774</td>\n",
       "    </tr>\n",
       "    <tr>\n",
       "      <th>23</th>\n",
       "      <td>tokenAndWordnet</td>\n",
       "      <td>SGDsvm</td>\n",
       "      <td>0.813446</td>\n",
       "      <td>21.793914</td>\n",
       "    </tr>\n",
       "    <tr>\n",
       "      <th>5</th>\n",
       "      <td>tokenOnly</td>\n",
       "      <td>SGDsvm</td>\n",
       "      <td>0.812821</td>\n",
       "      <td>17.494395</td>\n",
       "    </tr>\n",
       "    <tr>\n",
       "      <th>15</th>\n",
       "      <td>tokenAndSnowball</td>\n",
       "      <td>randomForrest</td>\n",
       "      <td>0.723765</td>\n",
       "      <td>27.945929</td>\n",
       "    </tr>\n",
       "    <tr>\n",
       "      <th>9</th>\n",
       "      <td>tokenAndPorter</td>\n",
       "      <td>randomForrest</td>\n",
       "      <td>0.723640</td>\n",
       "      <td>33.722821</td>\n",
       "    </tr>\n",
       "    <tr>\n",
       "      <th>3</th>\n",
       "      <td>tokenOnly</td>\n",
       "      <td>randomForrest</td>\n",
       "      <td>0.715447</td>\n",
       "      <td>17.570407</td>\n",
       "    </tr>\n",
       "    <tr>\n",
       "      <th>21</th>\n",
       "      <td>tokenAndWordnet</td>\n",
       "      <td>randomForrest</td>\n",
       "      <td>0.682051</td>\n",
       "      <td>21.794492</td>\n",
       "    </tr>\n",
       "  </tbody>\n",
       "</table>\n",
       "</div>"
      ],
      "text/plain": [
       "      token_and_stem          model  auc_score  timeInSecs\n",
       "4          tokenOnly    SGDLogistic   0.848343   17.772624\n",
       "1          tokenOnly  logRegCV5Fold   0.848093   18.751401\n",
       "10    tokenAndPorter    SGDLogistic   0.845403   33.951274\n",
       "2          tokenOnly            SVM   0.843215   17.399514\n",
       "13  tokenAndSnowball  logRegCV5Fold   0.832833   29.383880\n",
       "22   tokenAndWordnet    SGDLogistic   0.830519   21.118517\n",
       "6     tokenAndPorter     logRegNorm   0.830269   33.681931\n",
       "8     tokenAndPorter            SVM   0.830269   33.619620\n",
       "12  tokenAndSnowball     logRegNorm   0.830144   27.714912\n",
       "16  tokenAndSnowball    SGDLogistic   0.830019   27.504364\n",
       "0          tokenOnly     logRegNorm   0.828330   17.972189\n",
       "14  tokenAndSnowball            SVM   0.827705   28.331515\n",
       "19   tokenAndWordnet  logRegCV5Fold   0.825766   22.696978\n",
       "18   tokenAndWordnet     logRegNorm   0.825516   22.655240\n",
       "11    tokenAndPorter         SGDsvm   0.825391   33.542418\n",
       "17  tokenAndSnowball         SGDsvm   0.824390   27.453506\n",
       "20   tokenAndWordnet            SVM   0.823077   21.602526\n",
       "7     tokenAndPorter  logRegCV5Fold   0.822452   34.969774\n",
       "23   tokenAndWordnet         SGDsvm   0.813446   21.793914\n",
       "5          tokenOnly         SGDsvm   0.812821   17.494395\n",
       "15  tokenAndSnowball  randomForrest   0.723765   27.945929\n",
       "9     tokenAndPorter  randomForrest   0.723640   33.722821\n",
       "3          tokenOnly  randomForrest   0.715447   17.570407\n",
       "21   tokenAndWordnet  randomForrest   0.682051   21.794492"
      ]
     },
     "execution_count": 14,
     "metadata": {},
     "output_type": "execute_result"
    }
   ],
   "source": [
    "resCols = ['token_and_stem', 'model', 'auc_score', 'timeInSecs']\n",
    "res = pd.DataFrame(results, columns=resCols)\n",
    "res.sort_values(by = 'auc_score', ascending=False)"
   ]
  }
 ],
 "metadata": {
  "anaconda-cloud": {},
  "kernelspec": {
   "display_name": "Python 3",
   "language": "python",
   "name": "python3"
  },
  "language_info": {
   "codemirror_mode": {
    "name": "ipython",
    "version": 3
   },
   "file_extension": ".py",
   "mimetype": "text/x-python",
   "name": "python",
   "nbconvert_exporter": "python",
   "pygments_lexer": "ipython3",
   "version": "3.6.4"
  }
 },
 "nbformat": 4,
 "nbformat_minor": 1
}
